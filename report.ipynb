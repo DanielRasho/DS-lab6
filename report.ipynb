{
 "cells": [
  {
   "cell_type": "markdown",
   "id": "344c8597",
   "metadata": {},
   "source": [
    "# Lab 5\n",
    "\n",
    "Daniel Alfredo Rayo Roldan\n",
    "\n",
    "Gerardo Gabriel Pineda Riveiro\n",
    "\n",
    "https://github.com/DanielRasho/DS-lab6"
   ]
  },
  {
   "cell_type": "code",
   "execution_count": 45,
   "id": "7a1d090b",
   "metadata": {},
   "outputs": [],
   "source": [
    "import pandas as pd\n",
    "import numpy as np\n",
    "import matplotlib.pyplot as plt\n",
    "import seaborn as sns\n",
    "from wordcloud import WordCloud\n",
    "import re\n",
    "import string\n",
    "from collections import Counter\n",
    "import nltk\n",
    "from nltk.corpus import stopwords as nltk_stop\n",
    "from nltk.util import ngrams\n",
    "from nltk.tokenize import TweetTokenizer\n",
    "from nltk.stem import WordNetLemmatizer\n",
    "import warnings\n",
    "from textblob import TextBlob\n",
    "import requests\n",
    "from vaderSentiment.vaderSentiment import SentimentIntensityAnalyzer\n",
    "import requests\n",
    "warnings.filterwarnings('ignore')"
   ]
  },
  {
   "cell_type": "code",
   "execution_count": 26,
   "id": "66987d8c",
   "metadata": {},
   "outputs": [
    {
     "data": {
      "application/vnd.microsoft.datawrangler.viewer.v0+json": {
       "columns": [
        {
         "name": "index",
         "rawType": "int64",
         "type": "integer"
        },
        {
         "name": "id",
         "rawType": "int64",
         "type": "integer"
        },
        {
         "name": "keyword",
         "rawType": "object",
         "type": "unknown"
        },
        {
         "name": "location",
         "rawType": "object",
         "type": "unknown"
        },
        {
         "name": "text",
         "rawType": "object",
         "type": "string"
        },
        {
         "name": "target",
         "rawType": "int64",
         "type": "integer"
        }
       ],
       "ref": "8c404b14-5493-4ab5-9f85-12909d5d4746",
       "rows": [
        [
         "0",
         "1",
         null,
         null,
         "Our Deeds are the Reason of this #earthquake May ALLAH Forgive us all",
         "1"
        ],
        [
         "1",
         "4",
         null,
         null,
         "Forest fire near La Ronge Sask. Canada",
         "1"
        ],
        [
         "2",
         "5",
         null,
         null,
         "All residents asked to 'shelter in place' are being notified by officers. No other evacuation or shelter in place orders are expected",
         "1"
        ],
        [
         "3",
         "6",
         null,
         null,
         "13,000 people receive #wildfires evacuation orders in California ",
         "1"
        ],
        [
         "4",
         "7",
         null,
         null,
         "Just got sent this photo from Ruby #Alaska as smoke from #wildfires pours into a school ",
         "1"
        ]
       ],
       "shape": {
        "columns": 5,
        "rows": 5
       }
      },
      "text/html": [
       "<div>\n",
       "<style scoped>\n",
       "    .dataframe tbody tr th:only-of-type {\n",
       "        vertical-align: middle;\n",
       "    }\n",
       "\n",
       "    .dataframe tbody tr th {\n",
       "        vertical-align: top;\n",
       "    }\n",
       "\n",
       "    .dataframe thead th {\n",
       "        text-align: right;\n",
       "    }\n",
       "</style>\n",
       "<table border=\"1\" class=\"dataframe\">\n",
       "  <thead>\n",
       "    <tr style=\"text-align: right;\">\n",
       "      <th></th>\n",
       "      <th>id</th>\n",
       "      <th>keyword</th>\n",
       "      <th>location</th>\n",
       "      <th>text</th>\n",
       "      <th>target</th>\n",
       "    </tr>\n",
       "  </thead>\n",
       "  <tbody>\n",
       "    <tr>\n",
       "      <th>0</th>\n",
       "      <td>1</td>\n",
       "      <td>NaN</td>\n",
       "      <td>NaN</td>\n",
       "      <td>Our Deeds are the Reason of this #earthquake M...</td>\n",
       "      <td>1</td>\n",
       "    </tr>\n",
       "    <tr>\n",
       "      <th>1</th>\n",
       "      <td>4</td>\n",
       "      <td>NaN</td>\n",
       "      <td>NaN</td>\n",
       "      <td>Forest fire near La Ronge Sask. Canada</td>\n",
       "      <td>1</td>\n",
       "    </tr>\n",
       "    <tr>\n",
       "      <th>2</th>\n",
       "      <td>5</td>\n",
       "      <td>NaN</td>\n",
       "      <td>NaN</td>\n",
       "      <td>All residents asked to 'shelter in place' are ...</td>\n",
       "      <td>1</td>\n",
       "    </tr>\n",
       "    <tr>\n",
       "      <th>3</th>\n",
       "      <td>6</td>\n",
       "      <td>NaN</td>\n",
       "      <td>NaN</td>\n",
       "      <td>13,000 people receive #wildfires evacuation or...</td>\n",
       "      <td>1</td>\n",
       "    </tr>\n",
       "    <tr>\n",
       "      <th>4</th>\n",
       "      <td>7</td>\n",
       "      <td>NaN</td>\n",
       "      <td>NaN</td>\n",
       "      <td>Just got sent this photo from Ruby #Alaska as ...</td>\n",
       "      <td>1</td>\n",
       "    </tr>\n",
       "  </tbody>\n",
       "</table>\n",
       "</div>"
      ],
      "text/plain": [
       "   id keyword location                                               text  \\\n",
       "0   1     NaN      NaN  Our Deeds are the Reason of this #earthquake M...   \n",
       "1   4     NaN      NaN             Forest fire near La Ronge Sask. Canada   \n",
       "2   5     NaN      NaN  All residents asked to 'shelter in place' are ...   \n",
       "3   6     NaN      NaN  13,000 people receive #wildfires evacuation or...   \n",
       "4   7     NaN      NaN  Just got sent this photo from Ruby #Alaska as ...   \n",
       "\n",
       "   target  \n",
       "0       1  \n",
       "1       1  \n",
       "2       1  \n",
       "3       1  \n",
       "4       1  "
      ]
     },
     "execution_count": 26,
     "metadata": {},
     "output_type": "execute_result"
    }
   ],
   "source": [
    "df_train = pd.read_csv(\"./data/train.csv\")\n",
    "\n",
    "df_train.head()"
   ]
  },
  {
   "cell_type": "code",
   "execution_count": 27,
   "id": "e0c6418e",
   "metadata": {},
   "outputs": [
    {
     "name": "stdout",
     "output_type": "stream",
     "text": [
      "Número de filas: 7613\n",
      "Número de columnas: 5\n",
      "\n",
      "Columnas: ['id', 'keyword', 'location', 'text', 'target']\n",
      "\n",
      "Tipos de datos:\n"
     ]
    },
    {
     "data": {
      "application/vnd.microsoft.datawrangler.viewer.v0+json": {
       "columns": [
        {
         "name": "index",
         "rawType": "object",
         "type": "string"
        },
        {
         "name": "0",
         "rawType": "object",
         "type": "unknown"
        }
       ],
       "ref": "4e72ca73-6efe-49f4-b889-f5c126f5ee99",
       "rows": [
        [
         "id",
         "int64"
        ],
        [
         "keyword",
         "object"
        ],
        [
         "location",
         "object"
        ],
        [
         "text",
         "object"
        ],
        [
         "target",
         "int64"
        ]
       ],
       "shape": {
        "columns": 1,
        "rows": 5
       }
      },
      "text/plain": [
       "id           int64\n",
       "keyword     object\n",
       "location    object\n",
       "text        object\n",
       "target       int64\n",
       "dtype: object"
      ]
     },
     "execution_count": 27,
     "metadata": {},
     "output_type": "execute_result"
    }
   ],
   "source": [
    "print(f\"Número de filas: {df_train.shape[0]}\")\n",
    "print(f\"Número de columnas: {df_train.shape[1]}\")\n",
    "print(f\"\\nColumnas: {list(df_train.columns)}\")\n",
    "print(f\"\\nTipos de datos:\")\n",
    "df_train.dtypes"
   ]
  },
  {
   "cell_type": "markdown",
   "id": "281c55e5",
   "metadata": {},
   "source": [
    "## Análisis Exploratorio"
   ]
  },
  {
   "cell_type": "markdown",
   "id": "1ed9f69e",
   "metadata": {},
   "source": [
    "### Valores faltantes"
   ]
  },
  {
   "cell_type": "code",
   "execution_count": 28,
   "id": "b85d6d35",
   "metadata": {},
   "outputs": [
    {
     "data": {
      "application/vnd.microsoft.datawrangler.viewer.v0+json": {
       "columns": [
        {
         "name": "index",
         "rawType": "int64",
         "type": "integer"
        },
        {
         "name": "Columna",
         "rawType": "object",
         "type": "string"
        },
        {
         "name": "Valores Faltantes",
         "rawType": "int64",
         "type": "integer"
        },
        {
         "name": "Porcentaje",
         "rawType": "float64",
         "type": "float"
        }
       ],
       "ref": "35bb4c66-df72-49f0-9ba9-8880c47fb48e",
       "rows": [
        [
         "0",
         "id",
         "0",
         "0.0"
        ],
        [
         "1",
         "keyword",
         "61",
         "0.8012610009194797"
        ],
        [
         "2",
         "location",
         "2533",
         "33.27203467752528"
        ],
        [
         "3",
         "text",
         "0",
         "0.0"
        ],
        [
         "4",
         "target",
         "0",
         "0.0"
        ]
       ],
       "shape": {
        "columns": 3,
        "rows": 5
       }
      },
      "text/html": [
       "<div>\n",
       "<style scoped>\n",
       "    .dataframe tbody tr th:only-of-type {\n",
       "        vertical-align: middle;\n",
       "    }\n",
       "\n",
       "    .dataframe tbody tr th {\n",
       "        vertical-align: top;\n",
       "    }\n",
       "\n",
       "    .dataframe thead th {\n",
       "        text-align: right;\n",
       "    }\n",
       "</style>\n",
       "<table border=\"1\" class=\"dataframe\">\n",
       "  <thead>\n",
       "    <tr style=\"text-align: right;\">\n",
       "      <th></th>\n",
       "      <th>Columna</th>\n",
       "      <th>Valores Faltantes</th>\n",
       "      <th>Porcentaje</th>\n",
       "    </tr>\n",
       "  </thead>\n",
       "  <tbody>\n",
       "    <tr>\n",
       "      <th>0</th>\n",
       "      <td>id</td>\n",
       "      <td>0</td>\n",
       "      <td>0.000000</td>\n",
       "    </tr>\n",
       "    <tr>\n",
       "      <th>1</th>\n",
       "      <td>keyword</td>\n",
       "      <td>61</td>\n",
       "      <td>0.801261</td>\n",
       "    </tr>\n",
       "    <tr>\n",
       "      <th>2</th>\n",
       "      <td>location</td>\n",
       "      <td>2533</td>\n",
       "      <td>33.272035</td>\n",
       "    </tr>\n",
       "    <tr>\n",
       "      <th>3</th>\n",
       "      <td>text</td>\n",
       "      <td>0</td>\n",
       "      <td>0.000000</td>\n",
       "    </tr>\n",
       "    <tr>\n",
       "      <th>4</th>\n",
       "      <td>target</td>\n",
       "      <td>0</td>\n",
       "      <td>0.000000</td>\n",
       "    </tr>\n",
       "  </tbody>\n",
       "</table>\n",
       "</div>"
      ],
      "text/plain": [
       "    Columna  Valores Faltantes  Porcentaje\n",
       "0        id                  0    0.000000\n",
       "1   keyword                 61    0.801261\n",
       "2  location               2533   33.272035\n",
       "3      text                  0    0.000000\n",
       "4    target                  0    0.000000"
      ]
     },
     "execution_count": 28,
     "metadata": {},
     "output_type": "execute_result"
    }
   ],
   "source": [
    "missing_values = df_train.isnull().sum()\n",
    "missing_percent = (missing_values / len(df_train)) * 100\n",
    "\n",
    "missing_df = pd.DataFrame({\n",
    "    'Columna': missing_values.index,\n",
    "    'Valores Faltantes': missing_values.values,\n",
    "    'Porcentaje': missing_percent.values\n",
    "})\n",
    "missing_df"
   ]
  },
  {
   "cell_type": "markdown",
   "id": "98c18794",
   "metadata": {},
   "source": [
    "### Distribución de variable objetivo"
   ]
  },
  {
   "cell_type": "code",
   "execution_count": 29,
   "id": "217b3bf5",
   "metadata": {},
   "outputs": [
    {
     "name": "stdout",
     "output_type": "stream",
     "text": [
      "Tweets NO desastre (0): 4342 (57.0%)\n",
      "Tweets de desastre (1): 3271 (43.0%)\n"
     ]
    },
    {
     "data": {
      "image/png": "[encoded data removed]",
      "text/plain": [
       "<Figure size 1200x500 with 1 Axes>"
      ]
     },
     "metadata": {},
     "output_type": "display_data"
    }
   ],
   "source": [
    "# Distribución de la variable objetivo\n",
    "target_counts = df_train['target'].value_counts()\n",
    "print(f\"Tweets NO desastre (0): {target_counts[0]} ({target_counts[0]/len(df_train)*100:.1f}%)\")\n",
    "print(f\"Tweets de desastre (1): {target_counts[1]} ({target_counts[1]/len(df_train)*100:.1f}%)\")\n",
    "\n",
    "# Visualización de la distribución\n",
    "fig, (ax1) = plt.subplots(1, 1, figsize=(12, 5))\n",
    "\n",
    "# Gráfico de barras\n",
    "target_counts.plot(kind='bar', ax=ax1, color=['skyblue', 'salmon'])\n",
    "ax1.set_title('Distribución de Tweets por Categoría')\n",
    "ax1.set_xlabel('Categoría (0: No Desastre, 1: Desastre)')\n",
    "ax1.set_ylabel('Número de Tweets')\n",
    "ax1.tick_params(axis='x', rotation=0)\n",
    "\n",
    "plt.tight_layout()\n",
    "plt.show()"
   ]
  },
  {
   "cell_type": "code",
   "execution_count": 30,
   "id": "9c662c63",
   "metadata": {},
   "outputs": [
    {
     "name": "stdout",
     "output_type": "stream",
     "text": [
      "\n",
      "=== EJEMPLOS DE TWEETS ===\n",
      "Tweets de DESASTRE:\n",
      "1. Our Deeds are the Reason of this #earthquake May ALLAH Forgive us all\n",
      "2. Forest fire near La Ronge Sask. Canada\n",
      "3. All residents asked to 'shelter in place' are being notified by officers. No other evacuation or shelter in place orders are expected\n",
      "\n",
      "Tweets NO de desastre:\n",
      "1. What's up man?\n",
      "2. I love fruits\n",
      "3. Summer is lovely\n"
     ]
    }
   ],
   "source": [
    "# Ejemplos de tweets por categoría\n",
    "print(\"\\n=== EJEMPLOS DE TWEETS ===\")\n",
    "print(\"Tweets de DESASTRE:\")\n",
    "for i, tweet in enumerate(df_train[df_train['target']==1]['text'].head(3)):\n",
    "    print(f\"{i+1}. {tweet}\")\n",
    "\n",
    "print(\"\\nTweets NO de desastre:\")\n",
    "for i, tweet in enumerate(df_train[df_train['target']==0]['text'].head(3)):\n",
    "    print(f\"{i+1}. {tweet}\")"
   ]
  },
  {
   "cell_type": "markdown",
   "id": "e9055443",
   "metadata": {},
   "source": [
    "# Preprocesamiento\n",
    "\n",
    "Se descargan las stopword del paquete de nltk y se crea el tokenizador de tweets de la libreria nltk."
   ]
  },
  {
   "cell_type": "code",
   "execution_count": 31,
   "id": "d340aaae",
   "metadata": {},
   "outputs": [
    {
     "name": "stderr",
     "output_type": "stream",
     "text": [
      "[nltk_data] Downloading package stopwords to /home/smaug/nltk_data...\n",
      "[nltk_data]   Package stopwords is already up-to-date!\n",
      "[nltk_data] Downloading package wordnet to /home/smaug/nltk_data...\n",
      "[nltk_data]   Package wordnet is already up-to-date!\n",
      "[nltk_data] Downloading package omw-1.4 to /home/smaug/nltk_data...\n",
      "[nltk_data]   Package omw-1.4 is already up-to-date!\n"
     ]
    }
   ],
   "source": [
    "nltk.download(\"stopwords\"); nltk.download(\"wordnet\"); nltk.download(\"omw-1.4\")\n",
    "tt = TweetTokenizer(preserve_case=not True, reduce_len=True, strip_handles=False)\n",
    "wnl = WordNetLemmatizer()"
   ]
  },
  {
   "cell_type": "markdown",
   "id": "5ea74b8a",
   "metadata": {},
   "source": [
    "Como el idioma del set es ingles se obtienen los stopwords en este idio y nos aseguramos que las palabras negativas que se queden porque estas son valiosas para el analiss"
   ]
  },
  {
   "cell_type": "code",
   "execution_count": 32,
   "id": "0259787b",
   "metadata": {},
   "outputs": [],
   "source": [
    "stopwords = set(nltk_stop.words(\"english\"))\n",
    "negs = {\"no\",\"not\",\"n't\"}\n",
    "stopwords = {w for w in stopwords if w.lower() not in negs}"
   ]
  },
  {
   "cell_type": "markdown",
   "id": "6edd32bc",
   "metadata": {},
   "source": [
    "Se crean expresiones regualres especificas para cada parte de la limpieza que se quiere quitar."
   ]
  },
  {
   "cell_type": "code",
   "execution_count": 33,
   "id": "225e9f7d",
   "metadata": {},
   "outputs": [],
   "source": [
    "URL_RE = re.compile(r\"(https?://\\S+|www\\.\\S+)\")\n",
    "MENTION_RE = re.compile(r\"@\\w+\")\n",
    "HASHTAG_RE = re.compile(r\"#(\\w+)\")\n",
    "APOSTROPHES_RE = re.compile(r\"[’`´]\")\n",
    "EMOJI_RE = re.compile(\n",
    "    \"[\"\n",
    "    \"\\U0001F600-\\U0001F64F\"  # emoticons\n",
    "    \"\\U0001F300-\\U0001F5FF\"  # symbols & pictographs\n",
    "    \"\\U0001F680-\\U0001F6FF\"  # transport & map\n",
    "    \"\\U0001F1E0-\\U0001F1FF\"  # flags\n",
    "    \"\\U00002702-\\U000027B0\"\n",
    "    \"\\U000024C2-\\U0001F251\"\n",
    "    \"]+\", flags=re.UNICODE\n",
    ")\n",
    "NUMBER_RE = re.compile(r\"\\b\\d+(?:[.,]\\d+)*\\b\")\n",
    "\n",
    "PUNCT_TABLE = str.maketrans(\"\", \"\", string.punctuation)"
   ]
  },
  {
   "cell_type": "markdown",
   "id": "ee6c1838",
   "metadata": {},
   "source": [
    "Se crea una funcion donde se mapean todas las palabras y se quita lo siguiente:\n",
    "- Se convirtio todo a minusculas.\n",
    "- Se quitar los caracteres especiales que aparecen como *#*, *@* o los *apostrofes*\n",
    "- Se quitar las url\n",
    "- Se decidio quitar los emojis pero se quedo con una flag por si se quieren dejar.\n",
    "- Se quitaron los signos de puntuación.\n",
    "- Se quitaron las stopwords\n",
    "- Se quitaron los numeros menos el 911"
   ]
  },
  {
   "cell_type": "code",
   "execution_count": 34,
   "id": "ed88349f",
   "metadata": {},
   "outputs": [],
   "source": [
    "def remove_non_ascii(text: str) -> str:\n",
    "    return re.sub(r\"[^\\x00-\\x7F]+\", \" \", text)\n",
    "\n",
    "def count_pattern(pat, text):\n",
    "    return len(pat.findall(text))\n",
    "\n",
    "def clean_raw(text: str) -> dict:\n",
    "    original = text\n",
    "\n",
    "    \n",
    "    text = text.lower()\n",
    "\n",
    "    urls = mentions = emojis = hashtags = numbers = 0\n",
    "\n",
    "    urls = count_pattern(URL_RE, text)\n",
    "    text = URL_RE.sub(\" \", text)\n",
    "\n",
    "    mentions = count_pattern(MENTION_RE, text)\n",
    "    text = MENTION_RE.sub(\" \", text)\n",
    "\n",
    "    hashtags = count_pattern(HASHTAG_RE, text)\n",
    "    text = HASHTAG_RE.sub(lambda m: m.group(1), text)\n",
    "\n",
    "    text = APOSTROPHES_RE.sub(\"'\", text)\n",
    "\n",
    "    if True: # Cambiar esto para cambiarlos emojis (si queres rayo)\n",
    "        emojis = len(EMOJI_RE.findall(text))\n",
    "        text = EMOJI_RE.sub(\" \", text)\n",
    "\n",
    "    # Aqui estan los numeros solo vamos a dejar el 911\n",
    "    def num_filter(m):\n",
    "        tok = m.group(0)\n",
    "        return tok if tok in {\"911\"} else \" \"\n",
    "    numbers = len(NUMBER_RE.findall(text))\n",
    "    text = NUMBER_RE.sub(num_filter, text)\n",
    "\n",
    "    text = text.translate(PUNCT_TABLE)\n",
    "\n",
    "    text = remove_non_ascii(text)\n",
    "\n",
    "    text = re.sub(r\"\\s+\", \" \", text).strip()\n",
    "\n",
    "    return {\n",
    "        \"text_raw\": original,\n",
    "        \"text_clean_raw\": text,\n",
    "        \"urls_removed\": urls,\n",
    "        \"mentions_removed\": mentions,\n",
    "        \"emojis_removed\": emojis,\n",
    "        \"hashtags_unhashed\": hashtags,\n",
    "        \"numbers_affected\": numbers\n",
    "    }\n",
    "\n",
    "clean_rows = df_train[\"text\"].map(clean_raw)\n",
    "clean_df = pd.DataFrame(list(clean_rows))\n",
    "df_train = pd.concat([df_train, clean_df], axis=1)"
   ]
  },
  {
   "cell_type": "code",
   "execution_count": 35,
   "id": "dc4310e2",
   "metadata": {},
   "outputs": [],
   "source": [
    "def tokenize_and_normalize(text: str):\n",
    "    tokens = []\n",
    "    toks = tt.tokenize(text)\n",
    "    toks = [t for t in toks if all(ch not in string.punctuation for ch in t)]\n",
    "    toks = [wnl.lemmatize(t) for t in toks]\n",
    "    # stopwords\n",
    "    toks = [t for t in toks if t.lower() not in stopwords]\n",
    "    tokens = toks\n",
    "\n",
    "    tokens = [t.strip() for t in tokens if t.strip() != \"\"]\n",
    "    return tokens\n",
    "\n",
    "df_train[\"tokens\"] = df_train[\"text_clean_raw\"].map(tokenize_and_normalize)\n",
    "df_train[\"text_clean\"] = df_train[\"tokens\"].map(lambda ts: \" \".join(ts))"
   ]
  },
  {
   "cell_type": "code",
   "execution_count": 36,
   "id": "f01acb68",
   "metadata": {},
   "outputs": [],
   "source": [
    "df_train[\"len_raw\"] = df_train[\"text\"].str.split().map(len)\n",
    "df_train[\"len_clean\"] = df_train[\"tokens\"].map(len)"
   ]
  },
  {
   "cell_type": "code",
   "execution_count": 37,
   "id": "93dc6f60",
   "metadata": {},
   "outputs": [
    {
     "name": "stdout",
     "output_type": "stream",
     "text": [
      "                                      text_clean_raw  \\\n",
      "0  our deeds are the reason of this earthquake ma...   \n",
      "\n",
      "                                              tokens  \\\n",
      "0  [deed, reason, earthquake, may, allah, forgive...   \n",
      "\n",
      "                                   text_clean  \n",
      "0  deed reason earthquake may allah forgive u  \n"
     ]
    }
   ],
   "source": [
    "print(df_train[[\"text_clean_raw\",\"tokens\",\"text_clean\"]].head(1))"
   ]
  },
  {
   "cell_type": "markdown",
   "id": "fef983c1",
   "metadata": {},
   "source": [
    "### Frecuencia de palabras por categoría"
   ]
  },
  {
   "cell_type": "code",
   "execution_count": 38,
   "id": "7f395b42",
   "metadata": {},
   "outputs": [
    {
     "name": "stdout",
     "output_type": "stream",
     "text": [
      "TOP 20 PALABRAS MÁS FRECUENTES - TWEETS DE DESASTRE:\n",
      "fire: 265\n",
      "wa: 174\n",
      "news: 136\n",
      "via: 121\n",
      "disaster: 117\n",
      "california: 115\n",
      "suicide: 110\n",
      "amp: 109\n",
      "no: 108\n",
      "police: 107\n",
      "people: 106\n",
      "u: 105\n",
      "family: 105\n",
      "ha: 105\n",
      "home: 101\n",
      "train: 100\n",
      "building: 95\n",
      "not: 93\n",
      "killed: 93\n",
      "like: 92\n",
      "\n",
      "TOP 20 PALABRAS MÁS FRECUENTES - TWEETS NO DE DESASTRE:\n",
      "like: 255\n",
      "im: 244\n",
      "wa: 219\n",
      "not: 204\n",
      "amp: 193\n",
      "get: 185\n",
      "new: 171\n",
      "ha: 152\n",
      "no: 146\n",
      "u: 146\n",
      "dont: 141\n",
      "one: 137\n",
      "body: 117\n",
      "time: 104\n",
      "video: 102\n",
      "via: 99\n",
      "would: 97\n",
      "day: 96\n",
      "love: 95\n",
      "people: 92\n"
     ]
    }
   ],
   "source": [
    "# Separar textos por categoría\n",
    "disaster_tweets = df_train[df_train['target'] == 1]['text_clean']\n",
    "non_disaster_tweets = df_train[df_train['target'] == 0]['text_clean']\n",
    "\n",
    "# Función para obtener frecuencias de palabras\n",
    "def get_word_frequencies(texts, top_n=20):\n",
    "    \"\"\"\n",
    "    Obtiene las palabras más frecuentes de una lista de textos\n",
    "    \"\"\"\n",
    "    all_words = []\n",
    "    for text in texts:\n",
    "        words = text.split()\n",
    "        all_words.extend(words)\n",
    "    \n",
    "    return Counter(all_words).most_common(top_n)\n",
    "\n",
    "# Obtener palabras más frecuentes para cada categoría\n",
    "disaster_freq = get_word_frequencies(disaster_tweets)\n",
    "non_disaster_freq = get_word_frequencies(non_disaster_tweets)\n",
    "\n",
    "print(\"TOP 20 PALABRAS MÁS FRECUENTES - TWEETS DE DESASTRE:\")\n",
    "for word, freq in disaster_freq:\n",
    "    print(f\"{word}: {freq}\")\n",
    "\n",
    "print(\"\\nTOP 20 PALABRAS MÁS FRECUENTES - TWEETS NO DE DESASTRE:\")\n",
    "for word, freq in non_disaster_freq:\n",
    "    print(f\"{word}: {freq}\")"
   ]
  },
  {
   "cell_type": "code",
   "execution_count": 39,
   "id": "83c7dff7",
   "metadata": {},
   "outputs": [
    {
     "data": {
      "image/png": "[encoded data removed]",
      "text/plain": [
       "<Figure size 1200x1000 with 2 Axes>"
      ]
     },
     "metadata": {},
     "output_type": "display_data"
    }
   ],
   "source": [
    "fig, (ax1, ax2) = plt.subplots(2, 1, figsize=(12, 10))\n",
    "\n",
    "# Palabras más frecuentes en tweets de desastre\n",
    "disaster_words = [word for word, freq in disaster_freq]\n",
    "disaster_counts = [freq for word, freq in disaster_freq]\n",
    "\n",
    "ax1.barh(disaster_words[:15][::-1], disaster_counts[:15][::-1], color='salmon')\n",
    "ax1.set_title('Top 15 Palabras Más Frecuentes - Tweets de Desastre')\n",
    "ax1.set_xlabel('Frecuencia')\n",
    "\n",
    "# Palabras más frecuentes en tweets NO de desastre\n",
    "non_disaster_words = [word for word, freq in non_disaster_freq]\n",
    "non_disaster_counts = [freq for word, freq in non_disaster_freq]\n",
    "\n",
    "ax2.barh(non_disaster_words[:15][::-1], non_disaster_counts[:15][::-1], color='skyblue')\n",
    "ax2.set_title('Top 15 Palabras Más Frecuentes - Tweets NO de Desastre')\n",
    "ax2.set_xlabel('Frecuencia')\n",
    "\n",
    "plt.tight_layout()\n",
    "plt.show()"
   ]
  },
  {
   "cell_type": "markdown",
   "id": "7eae8c6c",
   "metadata": {},
   "source": [
    "### Analísis de Bigramas y Trigramas"
   ]
  },
  {
   "cell_type": "markdown",
   "id": "35fef69f",
   "metadata": {},
   "source": [
    "#### Bigramas"
   ]
  },
  {
   "cell_type": "code",
   "execution_count": 40,
   "id": "8d36b014",
   "metadata": {},
   "outputs": [
    {
     "data": {
      "image/png": "[encoded data removed]",
      "text/plain": [
       "<Figure size 1200x1000 with 2 Axes>"
      ]
     },
     "metadata": {},
     "output_type": "display_data"
    }
   ],
   "source": [
    "def get_ngrams(texts, n=2, top_n=15):\n",
    "    \"\"\"\n",
    "    Obtiene los n-gramas más frecuentes\n",
    "    \"\"\"\n",
    "    all_ngrams = []\n",
    "    for text in texts:\n",
    "        words = text.split()\n",
    "        if len(words) >= n:\n",
    "            text_ngrams = list(ngrams(words, n))\n",
    "            all_ngrams.extend(text_ngrams)\n",
    "    \n",
    "    ngram_freq = Counter(all_ngrams)\n",
    "    return ngram_freq.most_common(top_n)\n",
    "\n",
    "# Obtener bigramas más frecuentes\n",
    "disaster_bigrams = get_ngrams(disaster_tweets, n=2, top_n=15)\n",
    "non_disaster_bigrams = get_ngrams(non_disaster_tweets, n=2, top_n=15)\n",
    "\n",
    "# Visualización de bigramas\n",
    "fig, (ax1, ax2) = plt.subplots(2, 1, figsize=(12, 10))\n",
    "\n",
    "# Bigramas de tweets de desastre\n",
    "disaster_bigram_labels = [' '.join(bigram) for bigram, freq in disaster_bigrams]\n",
    "disaster_bigram_counts = [freq for bigram, freq in disaster_bigrams]\n",
    "\n",
    "ax1.barh(disaster_bigram_labels[:10][::-1], disaster_bigram_counts[:10][::-1], color='salmon')\n",
    "ax1.set_title('Top 10 Bigramas - Tweets de Desastre')\n",
    "ax1.set_xlabel('Frecuencia')\n",
    "\n",
    "# Bigramas de tweets NO de desastre\n",
    "non_disaster_bigram_labels = [' '.join(bigram) for bigram, freq in non_disaster_bigrams]\n",
    "non_disaster_bigram_counts = [freq for bigram, freq in non_disaster_bigrams]\n",
    "\n",
    "ax2.barh(non_disaster_bigram_labels[:10][::-1], non_disaster_bigram_counts[:10][::-1], color='skyblue')\n",
    "ax2.set_title('Top 10 Bigramas - Tweets NO de Desastre')\n",
    "ax2.set_xlabel('Frecuencia')\n",
    "\n",
    "plt.tight_layout()\n",
    "plt.show()\n"
   ]
  },
  {
   "cell_type": "markdown",
   "id": "4c47f7f3",
   "metadata": {},
   "source": [
    "#### Trigramas"
   ]
  },
  {
   "cell_type": "code",
   "execution_count": 41,
   "id": "9b1af1d1",
   "metadata": {},
   "outputs": [
    {
     "name": "stdout",
     "output_type": "stream",
     "text": [
      "\n",
      "TOP 10 TRIGRAMAS - TWEETS DE DESASTRE:\n",
      "suicide bomber detonated: 30\n",
      "northern california wildfire: 29\n",
      "latest home razed: 28\n",
      "home razed northern: 28\n",
      "pkk suicide bomber: 28\n",
      "bomber detonated bomb: 28\n",
      "razed northern california: 27\n",
      "16yr old pkk: 27\n",
      "old pkk suicide: 27\n",
      "family sue legionnaire: 26\n",
      "\n",
      "TOP 10 TRIGRAMAS - TWEETS NO DE DESASTRE:\n",
      "cross body bag: 23\n",
      "reddit quarantine offensive: 21\n",
      "quarantine offensive content: 20\n",
      "pick fan army: 17\n",
      "reddits new content: 16\n",
      "new content policy: 16\n",
      "china stock market: 16\n",
      "stock market crash: 16\n",
      "full read ebay: 15\n",
      "ignition knock detonation: 15\n"
     ]
    }
   ],
   "source": [
    "disaster_trigrams = get_ngrams(disaster_tweets, n=3, top_n=10)\n",
    "non_disaster_trigrams = get_ngrams(non_disaster_tweets, n=3, top_n=10)\n",
    "\n",
    "print(\"\\nTOP 10 TRIGRAMAS - TWEETS DE DESASTRE:\")\n",
    "for trigram, freq in disaster_trigrams:\n",
    "    print(f\"{' '.join(trigram)}: {freq}\")\n",
    "\n",
    "print(\"\\nTOP 10 TRIGRAMAS - TWEETS NO DE DESASTRE:\")\n",
    "for trigram, freq in non_disaster_trigrams:\n",
    "    print(f\"{' '.join(trigram)}: {freq}\")"
   ]
  },
  {
   "cell_type": "markdown",
   "id": "e26e059f",
   "metadata": {},
   "source": [
    "## Modelos de Clasificación de sentimientos"
   ]
  },
  {
   "cell_type": "code",
   "execution_count": 42,
   "id": "a95e45a9",
   "metadata": {},
   "outputs": [
    {
     "data": {
      "application/vnd.microsoft.datawrangler.viewer.v0+json": {
       "columns": [
        {
         "name": "index",
         "rawType": "int64",
         "type": "integer"
        },
        {
         "name": "id",
         "rawType": "int64",
         "type": "integer"
        },
        {
         "name": "keyword",
         "rawType": "object",
         "type": "unknown"
        },
        {
         "name": "location",
         "rawType": "object",
         "type": "unknown"
        },
        {
         "name": "text",
         "rawType": "object",
         "type": "string"
        },
        {
         "name": "target",
         "rawType": "int64",
         "type": "integer"
        },
        {
         "name": "text_raw",
         "rawType": "object",
         "type": "string"
        },
        {
         "name": "text_clean_raw",
         "rawType": "object",
         "type": "string"
        },
        {
         "name": "urls_removed",
         "rawType": "int64",
         "type": "integer"
        },
        {
         "name": "mentions_removed",
         "rawType": "int64",
         "type": "integer"
        },
        {
         "name": "emojis_removed",
         "rawType": "int64",
         "type": "integer"
        },
        {
         "name": "hashtags_unhashed",
         "rawType": "int64",
         "type": "integer"
        },
        {
         "name": "numbers_affected",
         "rawType": "int64",
         "type": "integer"
        },
        {
         "name": "tokens",
         "rawType": "object",
         "type": "unknown"
        },
        {
         "name": "text_clean",
         "rawType": "object",
         "type": "string"
        },
        {
         "name": "len_raw",
         "rawType": "int64",
         "type": "integer"
        },
        {
         "name": "len_clean",
         "rawType": "int64",
         "type": "integer"
        }
       ],
       "ref": "c2d81cc5-673c-4d27-8749-03944749283e",
       "rows": [
        [
         "0",
         "1",
         null,
         null,
         "Our Deeds are the Reason of this #earthquake May ALLAH Forgive us all",
         "1",
         "Our Deeds are the Reason of this #earthquake May ALLAH Forgive us all",
         "our deeds are the reason of this earthquake may allah forgive us all",
         "0",
         "0",
         "0",
         "1",
         "0",
         "['deed', 'reason', 'earthquake', 'may', 'allah', 'forgive', 'u']",
         "deed reason earthquake may allah forgive u",
         "13",
         "7"
        ],
        [
         "1",
         "4",
         null,
         null,
         "Forest fire near La Ronge Sask. Canada",
         "1",
         "Forest fire near La Ronge Sask. Canada",
         "forest fire near la ronge sask canada",
         "0",
         "0",
         "0",
         "0",
         "0",
         "['forest', 'fire', 'near', 'la', 'ronge', 'sask', 'canada']",
         "forest fire near la ronge sask canada",
         "7",
         "7"
        ],
        [
         "2",
         "5",
         null,
         null,
         "All residents asked to 'shelter in place' are being notified by officers. No other evacuation or shelter in place orders are expected",
         "1",
         "All residents asked to 'shelter in place' are being notified by officers. No other evacuation or shelter in place orders are expected",
         "all residents asked to shelter in place are being notified by officers no other evacuation or shelter in place orders are expected",
         "0",
         "0",
         "0",
         "0",
         "0",
         "['resident', 'asked', 'shelter', 'place', 'notified', 'officer', 'no', 'evacuation', 'shelter', 'place', 'order', 'expected']",
         "resident asked shelter place notified officer no evacuation shelter place order expected",
         "22",
         "12"
        ],
        [
         "3",
         "6",
         null,
         null,
         "13,000 people receive #wildfires evacuation orders in California ",
         "1",
         "13,000 people receive #wildfires evacuation orders in California ",
         "people receive wildfires evacuation orders in california",
         "0",
         "0",
         "0",
         "1",
         "1",
         "['people', 'receive', 'wildfire', 'evacuation', 'order', 'california']",
         "people receive wildfire evacuation order california",
         "8",
         "6"
        ],
        [
         "4",
         "7",
         null,
         null,
         "Just got sent this photo from Ruby #Alaska as smoke from #wildfires pours into a school ",
         "1",
         "Just got sent this photo from Ruby #Alaska as smoke from #wildfires pours into a school ",
         "just got sent this photo from ruby alaska as smoke from wildfires pours into a school",
         "0",
         "0",
         "0",
         "2",
         "0",
         "['got', 'sent', 'photo', 'ruby', 'alaska', 'smoke', 'wildfire', 'pours', 'school']",
         "got sent photo ruby alaska smoke wildfire pours school",
         "16",
         "9"
        ],
        [
         "5",
         "8",
         null,
         null,
         "#RockyFire Update => California Hwy. 20 closed in both directions due to Lake County fire - #CAfire #wildfires",
         "1",
         "#RockyFire Update => California Hwy. 20 closed in both directions due to Lake County fire - #CAfire #wildfires",
         "rockyfire update california hwy closed in both directions due to lake county fire cafire wildfires",
         "0",
         "0",
         "0",
         "3",
         "1",
         "['rockyfire', 'update', 'california', 'hwy', 'closed', 'direction', 'due', 'lake', 'county', 'fire', 'cafire', 'wildfire']",
         "rockyfire update california hwy closed direction due lake county fire cafire wildfire",
         "18",
         "12"
        ],
        [
         "6",
         "10",
         null,
         null,
         "#flood #disaster Heavy rain causes flash flooding of streets in Manitou, Colorado Springs areas",
         "1",
         "#flood #disaster Heavy rain causes flash flooding of streets in Manitou, Colorado Springs areas",
         "flood disaster heavy rain causes flash flooding of streets in manitou colorado springs areas",
         "0",
         "0",
         "0",
         "2",
         "0",
         "['flood', 'disaster', 'heavy', 'rain', 'cause', 'flash', 'flooding', 'street', 'manitou', 'colorado', 'spring', 'area']",
         "flood disaster heavy rain cause flash flooding street manitou colorado spring area",
         "14",
         "12"
        ],
        [
         "7",
         "13",
         null,
         null,
         "I'm on top of the hill and I can see a fire in the woods...",
         "1",
         "I'm on top of the hill and I can see a fire in the woods...",
         "im on top of the hill and i can see a fire in the woods",
         "0",
         "0",
         "0",
         "0",
         "0",
         "['im', 'top', 'hill', 'see', 'fire', 'wood']",
         "im top hill see fire wood",
         "15",
         "6"
        ],
        [
         "8",
         "14",
         null,
         null,
         "There's an emergency evacuation happening now in the building across the street",
         "1",
         "There's an emergency evacuation happening now in the building across the street",
         "theres an emergency evacuation happening now in the building across the street",
         "0",
         "0",
         "0",
         "0",
         "0",
         "['emergency', 'evacuation', 'happening', 'building', 'across', 'street']",
         "emergency evacuation happening building across street",
         "12",
         "6"
        ],
        [
         "9",
         "15",
         null,
         null,
         "I'm afraid that the tornado is coming to our area...",
         "1",
         "I'm afraid that the tornado is coming to our area...",
         "im afraid that the tornado is coming to our area",
         "0",
         "0",
         "0",
         "0",
         "0",
         "['im', 'afraid', 'tornado', 'coming', 'area']",
         "im afraid tornado coming area",
         "10",
         "5"
        ],
        [
         "10",
         "16",
         null,
         null,
         "Three people died from the heat wave so far",
         "1",
         "Three people died from the heat wave so far",
         "three people died from the heat wave so far",
         "0",
         "0",
         "0",
         "0",
         "0",
         "['three', 'people', 'died', 'heat', 'wave', 'far']",
         "three people died heat wave far",
         "9",
         "6"
        ],
        [
         "11",
         "17",
         null,
         null,
         "Haha South Tampa is getting flooded hah- WAIT A SECOND I LIVE IN SOUTH TAMPA WHAT AM I GONNA DO WHAT AM I GONNA DO FVCK #flooding",
         "1",
         "Haha South Tampa is getting flooded hah- WAIT A SECOND I LIVE IN SOUTH TAMPA WHAT AM I GONNA DO WHAT AM I GONNA DO FVCK #flooding",
         "haha south tampa is getting flooded hah wait a second i live in south tampa what am i gonna do what am i gonna do fvck flooding",
         "0",
         "0",
         "0",
         "1",
         "0",
         "['haha', 'south', 'tampa', 'getting', 'flooded', 'hah', 'wait', 'second', 'live', 'south', 'tampa', 'gonna', 'gonna', 'fvck', 'flooding']",
         "haha south tampa getting flooded hah wait second live south tampa gonna gonna fvck flooding",
         "27",
         "15"
        ],
        [
         "12",
         "18",
         null,
         null,
         "#raining #flooding #Florida #TampaBay #Tampa 18 or 19 days. I've lost count ",
         "1",
         "#raining #flooding #Florida #TampaBay #Tampa 18 or 19 days. I've lost count ",
         "raining flooding florida tampabay tampa or days ive lost count",
         "0",
         "0",
         "0",
         "5",
         "2",
         "['raining', 'flooding', 'florida', 'tampabay', 'tampa', 'day', 'ive', 'lost', 'count']",
         "raining flooding florida tampabay tampa day ive lost count",
         "12",
         "9"
        ],
        [
         "13",
         "19",
         null,
         null,
         "#Flood in Bago Myanmar #We arrived Bago",
         "1",
         "#Flood in Bago Myanmar #We arrived Bago",
         "flood in bago myanmar we arrived bago",
         "0",
         "0",
         "0",
         "2",
         "0",
         "['flood', 'bago', 'myanmar', 'arrived', 'bago']",
         "flood bago myanmar arrived bago",
         "7",
         "5"
        ],
        [
         "14",
         "20",
         null,
         null,
         "Damage to school bus on 80 in multi car crash #BREAKING ",
         "1",
         "Damage to school bus on 80 in multi car crash #BREAKING ",
         "damage to school bus on in multi car crash breaking",
         "0",
         "0",
         "0",
         "1",
         "1",
         "['damage', 'school', 'bus', 'multi', 'car', 'crash', 'breaking']",
         "damage school bus multi car crash breaking",
         "11",
         "7"
        ],
        [
         "15",
         "23",
         null,
         null,
         "What's up man?",
         "0",
         "What's up man?",
         "whats up man",
         "0",
         "0",
         "0",
         "0",
         "0",
         "['whats', 'man']",
         "whats man",
         "3",
         "2"
        ],
        [
         "16",
         "24",
         null,
         null,
         "I love fruits",
         "0",
         "I love fruits",
         "i love fruits",
         "0",
         "0",
         "0",
         "0",
         "0",
         "['love', 'fruit']",
         "love fruit",
         "3",
         "2"
        ],
        [
         "17",
         "25",
         null,
         null,
         "Summer is lovely",
         "0",
         "Summer is lovely",
         "summer is lovely",
         "0",
         "0",
         "0",
         "0",
         "0",
         "['summer', 'lovely']",
         "summer lovely",
         "3",
         "2"
        ],
        [
         "18",
         "26",
         null,
         null,
         "My car is so fast",
         "0",
         "My car is so fast",
         "my car is so fast",
         "0",
         "0",
         "0",
         "0",
         "0",
         "['car', 'fast']",
         "car fast",
         "5",
         "2"
        ],
        [
         "19",
         "28",
         null,
         null,
         "What a goooooooaaaaaal!!!!!!",
         "0",
         "What a goooooooaaaaaal!!!!!!",
         "what a goooooooaaaaaal",
         "0",
         "0",
         "0",
         "0",
         "0",
         "['goooaaal']",
         "goooaaal",
         "3",
         "1"
        ],
        [
         "20",
         "31",
         null,
         null,
         "this is ridiculous....",
         "0",
         "this is ridiculous....",
         "this is ridiculous",
         "0",
         "0",
         "0",
         "0",
         "0",
         "['ridiculous']",
         "ridiculous",
         "3",
         "1"
        ],
        [
         "21",
         "32",
         null,
         null,
         "London is cool ;)",
         "0",
         "London is cool ;)",
         "london is cool",
         "0",
         "0",
         "0",
         "0",
         "0",
         "['london', 'cool']",
         "london cool",
         "4",
         "2"
        ],
        [
         "22",
         "33",
         null,
         null,
         "Love skiing",
         "0",
         "Love skiing",
         "love skiing",
         "0",
         "0",
         "0",
         "0",
         "0",
         "['love', 'skiing']",
         "love skiing",
         "2",
         "2"
        ],
        [
         "23",
         "34",
         null,
         null,
         "What a wonderful day!",
         "0",
         "What a wonderful day!",
         "what a wonderful day",
         "0",
         "0",
         "0",
         "0",
         "0",
         "['wonderful', 'day']",
         "wonderful day",
         "4",
         "2"
        ],
        [
         "24",
         "36",
         null,
         null,
         "LOOOOOOL",
         "0",
         "LOOOOOOL",
         "looooool",
         "0",
         "0",
         "0",
         "0",
         "0",
         "['loool']",
         "loool",
         "1",
         "1"
        ],
        [
         "25",
         "37",
         null,
         null,
         "No way...I can't eat that shit",
         "0",
         "No way...I can't eat that shit",
         "no wayi cant eat that shit",
         "0",
         "0",
         "0",
         "0",
         "0",
         "['no', 'wayi', 'cant', 'eat', 'shit']",
         "no wayi cant eat shit",
         "6",
         "5"
        ],
        [
         "26",
         "38",
         null,
         null,
         "Was in NYC last week!",
         "0",
         "Was in NYC last week!",
         "was in nyc last week",
         "0",
         "0",
         "0",
         "0",
         "0",
         "['wa', 'nyc', 'last', 'week']",
         "wa nyc last week",
         "5",
         "4"
        ],
        [
         "27",
         "39",
         null,
         null,
         "Love my girlfriend",
         "0",
         "Love my girlfriend",
         "love my girlfriend",
         "0",
         "0",
         "0",
         "0",
         "0",
         "['love', 'girlfriend']",
         "love girlfriend",
         "3",
         "2"
        ],
        [
         "28",
         "40",
         null,
         null,
         "Cooool :)",
         "0",
         "Cooool :)",
         "cooool",
         "0",
         "0",
         "0",
         "0",
         "0",
         "['coool']",
         "coool",
         "2",
         "1"
        ],
        [
         "29",
         "41",
         null,
         null,
         "Do you like pasta?",
         "0",
         "Do you like pasta?",
         "do you like pasta",
         "0",
         "0",
         "0",
         "0",
         "0",
         "['like', 'pasta']",
         "like pasta",
         "4",
         "2"
        ],
        [
         "30",
         "44",
         null,
         null,
         "The end!",
         "0",
         "The end!",
         "the end",
         "0",
         "0",
         "0",
         "0",
         "0",
         "['end']",
         "end",
         "2",
         "1"
        ],
        [
         "31",
         "48",
         "ablaze",
         "Birmingham",
         "@bbcmtd Wholesale Markets ablaze http://t.co/lHYXEOHY6C",
         "1",
         "@bbcmtd Wholesale Markets ablaze http://t.co/lHYXEOHY6C",
         "wholesale markets ablaze",
         "1",
         "1",
         "0",
         "0",
         "0",
         "['wholesale', 'market', 'ablaze']",
         "wholesale market ablaze",
         "5",
         "3"
        ],
        [
         "32",
         "49",
         "ablaze",
         "Est. September 2012 - Bristol",
         "We always try to bring the heavy. #metal #RT http://t.co/YAo1e0xngw",
         "0",
         "We always try to bring the heavy. #metal #RT http://t.co/YAo1e0xngw",
         "we always try to bring the heavy metal rt",
         "1",
         "0",
         "0",
         "2",
         "0",
         "['always', 'try', 'bring', 'heavy', 'metal', 'rt']",
         "always try bring heavy metal rt",
         "10",
         "6"
        ],
        [
         "33",
         "50",
         "ablaze",
         "AFRICA",
         "#AFRICANBAZE: Breaking news:Nigeria flag set ablaze in Aba. http://t.co/2nndBGwyEi",
         "1",
         "#AFRICANBAZE: Breaking news:Nigeria flag set ablaze in Aba. http://t.co/2nndBGwyEi",
         "africanbaze breaking newsnigeria flag set ablaze in aba",
         "1",
         "0",
         "0",
         "1",
         "0",
         "['africanbaze', 'breaking', 'newsnigeria', 'flag', 'set', 'ablaze', 'aba']",
         "africanbaze breaking newsnigeria flag set ablaze aba",
         "9",
         "7"
        ],
        [
         "34",
         "52",
         "ablaze",
         "Philadelphia, PA",
         "Crying out for more! Set me ablaze",
         "0",
         "Crying out for more! Set me ablaze",
         "crying out for more set me ablaze",
         "0",
         "0",
         "0",
         "0",
         "0",
         "['cry', 'set', 'ablaze']",
         "cry set ablaze",
         "7",
         "3"
        ],
        [
         "35",
         "53",
         "ablaze",
         "London, UK",
         "On plus side LOOK AT THE SKY LAST NIGHT IT WAS ABLAZE http://t.co/qqsmshaJ3N",
         "0",
         "On plus side LOOK AT THE SKY LAST NIGHT IT WAS ABLAZE http://t.co/qqsmshaJ3N",
         "on plus side look at the sky last night it was ablaze",
         "1",
         "0",
         "0",
         "0",
         "0",
         "['plus', 'side', 'look', 'sky', 'last', 'night', 'wa', 'ablaze']",
         "plus side look sky last night wa ablaze",
         "13",
         "8"
        ],
        [
         "36",
         "54",
         "ablaze",
         "Pretoria",
         "@PhDSquares #mufc they've built so much hype around new acquisitions but I doubt they will set the EPL ablaze this season.",
         "0",
         "@PhDSquares #mufc they've built so much hype around new acquisitions but I doubt they will set the EPL ablaze this season.",
         "mufc theyve built so much hype around new acquisitions but i doubt they will set the epl ablaze this season",
         "0",
         "1",
         "0",
         "1",
         "0",
         "['mufc', 'theyve', 'built', 'much', 'hype', 'around', 'new', 'acquisition', 'doubt', 'set', 'epl', 'ablaze', 'season']",
         "mufc theyve built much hype around new acquisition doubt set epl ablaze season",
         "21",
         "13"
        ],
        [
         "37",
         "55",
         "ablaze",
         "World Wide!!",
         "INEC Office in Abia Set Ablaze - http://t.co/3ImaomknnA",
         "1",
         "INEC Office in Abia Set Ablaze - http://t.co/3ImaomknnA",
         "inec office in abia set ablaze",
         "1",
         "0",
         "0",
         "0",
         "0",
         "['inec', 'office', 'abia', 'set', 'ablaze']",
         "inec office abia set ablaze",
         "8",
         "5"
        ],
        [
         "38",
         "56",
         "ablaze",
         null,
         "Barbados #Bridgetown JAMAICA ÛÒ Two cars set ablaze: SANTA CRUZ ÛÓ Head of the St Elizabeth Police Superintende...  http://t.co/wDUEaj8Q4J",
         "1",
         "Barbados #Bridgetown JAMAICA ÛÒ Two cars set ablaze: SANTA CRUZ ÛÓ Head of the St Elizabeth Police Superintende...  http://t.co/wDUEaj8Q4J",
         "barbados bridgetown jamaica two cars set ablaze santa cruz head of the st elizabeth police superintende",
         "1",
         "0",
         "0",
         "1",
         "0",
         "['barbados', 'bridgetown', 'jamaica', 'two', 'car', 'set', 'ablaze', 'santa', 'cruz', 'head', 'st', 'elizabeth', 'police', 'superintende']",
         "barbados bridgetown jamaica two car set ablaze santa cruz head st elizabeth police superintende",
         "19",
         "14"
        ],
        [
         "39",
         "57",
         "ablaze",
         "Paranaque City",
         "Ablaze for you Lord :D",
         "0",
         "Ablaze for you Lord :D",
         "ablaze for you lord d",
         "0",
         "0",
         "0",
         "0",
         "0",
         "['ablaze', 'lord']",
         "ablaze lord",
         "5",
         "2"
        ],
        [
         "40",
         "59",
         "ablaze",
         "Live On Webcam",
         "Check these out: http://t.co/rOI2NSmEJJ http://t.co/3Tj8ZjiN21 http://t.co/YDUiXEfIpE http://t.co/LxTjc87KLS #nsfw",
         "0",
         "Check these out: http://t.co/rOI2NSmEJJ http://t.co/3Tj8ZjiN21 http://t.co/YDUiXEfIpE http://t.co/LxTjc87KLS #nsfw",
         "check these out nsfw",
         "4",
         "0",
         "0",
         "1",
         "0",
         "['check', 'nsfw']",
         "check nsfw",
         "8",
         "2"
        ],
        [
         "41",
         "61",
         "ablaze",
         null,
         "on the outside you're ablaze and alive\nbut you're dead inside",
         "0",
         "on the outside you're ablaze and alive\nbut you're dead inside",
         "on the outside youre ablaze and alive but youre dead inside",
         "0",
         "0",
         "0",
         "0",
         "0",
         "['outside', 'youre', 'ablaze', 'alive', 'youre', 'dead', 'inside']",
         "outside youre ablaze alive youre dead inside",
         "11",
         "7"
        ],
        [
         "42",
         "62",
         "ablaze",
         "milky way",
         "Had an awesome time visiting the CFC head office the ancop site and ablaze. Thanks to Tita Vida for taking care of us ??",
         "0",
         "Had an awesome time visiting the CFC head office the ancop site and ablaze. Thanks to Tita Vida for taking care of us ??",
         "had an awesome time visiting the cfc head office the ancop site and ablaze thanks to tita vida for taking care of us",
         "0",
         "0",
         "0",
         "0",
         "0",
         "['awesome', 'time', 'visiting', 'cfc', 'head', 'office', 'ancop', 'site', 'ablaze', 'thanks', 'tita', 'vida', 'taking', 'care', 'u']",
         "awesome time visiting cfc head office ancop site ablaze thanks tita vida taking care u",
         "24",
         "15"
        ],
        [
         "43",
         "63",
         "ablaze",
         null,
         "SOOOO PUMPED FOR ABLAZE ???? @southridgelife",
         "0",
         "SOOOO PUMPED FOR ABLAZE ???? @southridgelife",
         "soooo pumped for ablaze",
         "0",
         "1",
         "0",
         "0",
         "0",
         "['sooo', 'pumped', 'ablaze']",
         "sooo pumped ablaze",
         "6",
         "3"
        ],
        [
         "44",
         "64",
         "ablaze",
         null,
         "I wanted to set Chicago ablaze with my preaching... But not my hotel! http://t.co/o9qknbfOFX",
         "0",
         "I wanted to set Chicago ablaze with my preaching... But not my hotel! http://t.co/o9qknbfOFX",
         "i wanted to set chicago ablaze with my preaching but not my hotel",
         "1",
         "0",
         "0",
         "0",
         "0",
         "['wanted', 'set', 'chicago', 'ablaze', 'preaching', 'not', 'hotel']",
         "wanted set chicago ablaze preaching not hotel",
         "14",
         "7"
        ],
        [
         "45",
         "65",
         "ablaze",
         null,
         "I gained 3 followers in the last week. You? Know your stats and grow with http://t.co/TIyUliF5c6",
         "0",
         "I gained 3 followers in the last week. You? Know your stats and grow with http://t.co/TIyUliF5c6",
         "i gained followers in the last week you know your stats and grow with",
         "1",
         "0",
         "0",
         "0",
         "1",
         "['gained', 'follower', 'last', 'week', 'know', 'stats', 'grow']",
         "gained follower last week know stats grow",
         "16",
         "7"
        ],
        [
         "46",
         "66",
         "ablaze",
         "GREENSBORO,NORTH CAROLINA",
         "How the West was burned: Thousands of wildfires ablaze in California alone http://t.co/vl5TBR3wbr",
         "1",
         "How the West was burned: Thousands of wildfires ablaze in California alone http://t.co/vl5TBR3wbr",
         "how the west was burned thousands of wildfires ablaze in california alone",
         "1",
         "0",
         "0",
         "0",
         "0",
         "['west', 'wa', 'burned', 'thousand', 'wildfire', 'ablaze', 'california', 'alone']",
         "west wa burned thousand wildfire ablaze california alone",
         "13",
         "8"
        ],
        [
         "47",
         "67",
         "ablaze",
         null,
         "Building the perfect tracklist to life leave the streets ablaze",
         "0",
         "Building the perfect tracklist to life leave the streets ablaze",
         "building the perfect tracklist to life leave the streets ablaze",
         "0",
         "0",
         "0",
         "0",
         "0",
         "['building', 'perfect', 'tracklist', 'life', 'leave', 'street', 'ablaze']",
         "building perfect tracklist life leave street ablaze",
         "10",
         "7"
        ],
        [
         "48",
         "68",
         "ablaze",
         "Live On Webcam",
         "Check these out: http://t.co/rOI2NSmEJJ http://t.co/3Tj8ZjiN21 http://t.co/YDUiXEfIpE http://t.co/LxTjc87KLS #nsfw",
         "0",
         "Check these out: http://t.co/rOI2NSmEJJ http://t.co/3Tj8ZjiN21 http://t.co/YDUiXEfIpE http://t.co/LxTjc87KLS #nsfw",
         "check these out nsfw",
         "4",
         "0",
         "0",
         "1",
         "0",
         "['check', 'nsfw']",
         "check nsfw",
         "8",
         "2"
        ],
        [
         "49",
         "71",
         "ablaze",
         "England.",
         "First night with retainers in. It's quite weird. Better get used to it; I have to wear them every single night for the next year at least.",
         "0",
         "First night with retainers in. It's quite weird. Better get used to it; I have to wear them every single night for the next year at least.",
         "first night with retainers in its quite weird better get used to it i have to wear them every single night for the next year at least",
         "0",
         "0",
         "0",
         "0",
         "0",
         "['first', 'night', 'retainer', 'quite', 'weird', 'better', 'get', 'used', 'wear', 'every', 'single', 'night', 'next', 'year', 'least']",
         "first night retainer quite weird better get used wear every single night next year least",
         "27",
         "15"
        ]
       ],
       "shape": {
        "columns": 16,
        "rows": 7613
       }
      },
      "text/html": [
       "<div>\n",
       "<style scoped>\n",
       "    .dataframe tbody tr th:only-of-type {\n",
       "        vertical-align: middle;\n",
       "    }\n",
       "\n",
       "    .dataframe tbody tr th {\n",
       "        vertical-align: top;\n",
       "    }\n",
       "\n",
       "    .dataframe thead th {\n",
       "        text-align: right;\n",
       "    }\n",
       "</style>\n",
       "<table border=\"1\" class=\"dataframe\">\n",
       "  <thead>\n",
       "    <tr style=\"text-align: right;\">\n",
       "      <th></th>\n",
       "      <th>id</th>\n",
       "      <th>keyword</th>\n",
       "      <th>location</th>\n",
       "      <th>text</th>\n",
       "      <th>target</th>\n",
       "      <th>text_raw</th>\n",
       "      <th>text_clean_raw</th>\n",
       "      <th>urls_removed</th>\n",
       "      <th>mentions_removed</th>\n",
       "      <th>emojis_removed</th>\n",
       "      <th>hashtags_unhashed</th>\n",
       "      <th>numbers_affected</th>\n",
       "      <th>tokens</th>\n",
       "      <th>text_clean</th>\n",
       "      <th>len_raw</th>\n",
       "      <th>len_clean</th>\n",
       "    </tr>\n",
       "  </thead>\n",
       "  <tbody>\n",
       "    <tr>\n",
       "      <th>0</th>\n",
       "      <td>1</td>\n",
       "      <td>NaN</td>\n",
       "      <td>NaN</td>\n",
       "      <td>Our Deeds are the Reason of this #earthquake M...</td>\n",
       "      <td>1</td>\n",
       "      <td>Our Deeds are the Reason of this #earthquake M...</td>\n",
       "      <td>our deeds are the reason of this earthquake ma...</td>\n",
       "      <td>0</td>\n",
       "      <td>0</td>\n",
       "      <td>0</td>\n",
       "      <td>1</td>\n",
       "      <td>0</td>\n",
       "      <td>[deed, reason, earthquake, may, allah, forgive...</td>\n",
       "      <td>deed reason earthquake may allah forgive u</td>\n",
       "      <td>13</td>\n",
       "      <td>7</td>\n",
       "    </tr>\n",
       "    <tr>\n",
       "      <th>1</th>\n",
       "      <td>4</td>\n",
       "      <td>NaN</td>\n",
       "      <td>NaN</td>\n",
       "      <td>Forest fire near La Ronge Sask. Canada</td>\n",
       "      <td>1</td>\n",
       "      <td>Forest fire near La Ronge Sask. Canada</td>\n",
       "      <td>forest fire near la ronge sask canada</td>\n",
       "      <td>0</td>\n",
       "      <td>0</td>\n",
       "      <td>0</td>\n",
       "      <td>0</td>\n",
       "      <td>0</td>\n",
       "      <td>[forest, fire, near, la, ronge, sask, canada]</td>\n",
       "      <td>forest fire near la ronge sask canada</td>\n",
       "      <td>7</td>\n",
       "      <td>7</td>\n",
       "    </tr>\n",
       "    <tr>\n",
       "      <th>2</th>\n",
       "      <td>5</td>\n",
       "      <td>NaN</td>\n",
       "      <td>NaN</td>\n",
       "      <td>All residents asked to 'shelter in place' are ...</td>\n",
       "      <td>1</td>\n",
       "      <td>All residents asked to 'shelter in place' are ...</td>\n",
       "      <td>all residents asked to shelter in place are be...</td>\n",
       "      <td>0</td>\n",
       "      <td>0</td>\n",
       "      <td>0</td>\n",
       "      <td>0</td>\n",
       "      <td>0</td>\n",
       "      <td>[resident, asked, shelter, place, notified, of...</td>\n",
       "      <td>resident asked shelter place notified officer ...</td>\n",
       "      <td>22</td>\n",
       "      <td>12</td>\n",
       "    </tr>\n",
       "    <tr>\n",
       "      <th>3</th>\n",
       "      <td>6</td>\n",
       "      <td>NaN</td>\n",
       "      <td>NaN</td>\n",
       "      <td>13,000 people receive #wildfires evacuation or...</td>\n",
       "      <td>1</td>\n",
       "      <td>13,000 people receive #wildfires evacuation or...</td>\n",
       "      <td>people receive wildfires evacuation orders in ...</td>\n",
       "      <td>0</td>\n",
       "      <td>0</td>\n",
       "      <td>0</td>\n",
       "      <td>1</td>\n",
       "      <td>1</td>\n",
       "      <td>[people, receive, wildfire, evacuation, order,...</td>\n",
       "      <td>people receive wildfire evacuation order calif...</td>\n",
       "      <td>8</td>\n",
       "      <td>6</td>\n",
       "    </tr>\n",
       "    <tr>\n",
       "      <th>4</th>\n",
       "      <td>7</td>\n",
       "      <td>NaN</td>\n",
       "      <td>NaN</td>\n",
       "      <td>Just got sent this photo from Ruby #Alaska as ...</td>\n",
       "      <td>1</td>\n",
       "      <td>Just got sent this photo from Ruby #Alaska as ...</td>\n",
       "      <td>just got sent this photo from ruby alaska as s...</td>\n",
       "      <td>0</td>\n",
       "      <td>0</td>\n",
       "      <td>0</td>\n",
       "      <td>2</td>\n",
       "      <td>0</td>\n",
       "      <td>[got, sent, photo, ruby, alaska, smoke, wildfi...</td>\n",
       "      <td>got sent photo ruby alaska smoke wildfire pour...</td>\n",
       "      <td>16</td>\n",
       "      <td>9</td>\n",
       "    </tr>\n",
       "    <tr>\n",
       "      <th>...</th>\n",
       "      <td>...</td>\n",
       "      <td>...</td>\n",
       "      <td>...</td>\n",
       "      <td>...</td>\n",
       "      <td>...</td>\n",
       "      <td>...</td>\n",
       "      <td>...</td>\n",
       "      <td>...</td>\n",
       "      <td>...</td>\n",
       "      <td>...</td>\n",
       "      <td>...</td>\n",
       "      <td>...</td>\n",
       "      <td>...</td>\n",
       "      <td>...</td>\n",
       "      <td>...</td>\n",
       "      <td>...</td>\n",
       "    </tr>\n",
       "    <tr>\n",
       "      <th>7608</th>\n",
       "      <td>10869</td>\n",
       "      <td>NaN</td>\n",
       "      <td>NaN</td>\n",
       "      <td>Two giant cranes holding a bridge collapse int...</td>\n",
       "      <td>1</td>\n",
       "      <td>Two giant cranes holding a bridge collapse int...</td>\n",
       "      <td>two giant cranes holding a bridge collapse int...</td>\n",
       "      <td>1</td>\n",
       "      <td>0</td>\n",
       "      <td>0</td>\n",
       "      <td>0</td>\n",
       "      <td>0</td>\n",
       "      <td>[two, giant, crane, holding, bridge, collapse,...</td>\n",
       "      <td>two giant crane holding bridge collapse nearby...</td>\n",
       "      <td>11</td>\n",
       "      <td>8</td>\n",
       "    </tr>\n",
       "    <tr>\n",
       "      <th>7609</th>\n",
       "      <td>10870</td>\n",
       "      <td>NaN</td>\n",
       "      <td>NaN</td>\n",
       "      <td>@aria_ahrary @TheTawniest The out of control w...</td>\n",
       "      <td>1</td>\n",
       "      <td>@aria_ahrary @TheTawniest The out of control w...</td>\n",
       "      <td>the out of control wild fires in california ev...</td>\n",
       "      <td>0</td>\n",
       "      <td>2</td>\n",
       "      <td>0</td>\n",
       "      <td>0</td>\n",
       "      <td>0</td>\n",
       "      <td>[control, wild, fire, california, even, northe...</td>\n",
       "      <td>control wild fire california even northern par...</td>\n",
       "      <td>20</td>\n",
       "      <td>9</td>\n",
       "    </tr>\n",
       "    <tr>\n",
       "      <th>7610</th>\n",
       "      <td>10871</td>\n",
       "      <td>NaN</td>\n",
       "      <td>NaN</td>\n",
       "      <td>M1.94 [01:04 UTC]?5km S of Volcano Hawaii. htt...</td>\n",
       "      <td>1</td>\n",
       "      <td>M1.94 [01:04 UTC]?5km S of Volcano Hawaii. htt...</td>\n",
       "      <td>m1 utc5km s of volcano hawaii</td>\n",
       "      <td>1</td>\n",
       "      <td>0</td>\n",
       "      <td>0</td>\n",
       "      <td>0</td>\n",
       "      <td>3</td>\n",
       "      <td>[m1, utc, 5km, volcano, hawaii]</td>\n",
       "      <td>m1 utc 5km volcano hawaii</td>\n",
       "      <td>8</td>\n",
       "      <td>5</td>\n",
       "    </tr>\n",
       "    <tr>\n",
       "      <th>7611</th>\n",
       "      <td>10872</td>\n",
       "      <td>NaN</td>\n",
       "      <td>NaN</td>\n",
       "      <td>Police investigating after an e-bike collided ...</td>\n",
       "      <td>1</td>\n",
       "      <td>Police investigating after an e-bike collided ...</td>\n",
       "      <td>police investigating after an ebike collided w...</td>\n",
       "      <td>0</td>\n",
       "      <td>0</td>\n",
       "      <td>0</td>\n",
       "      <td>0</td>\n",
       "      <td>0</td>\n",
       "      <td>[police, investigating, ebike, collided, car, ...</td>\n",
       "      <td>police investigating ebike collided car little...</td>\n",
       "      <td>19</td>\n",
       "      <td>14</td>\n",
       "    </tr>\n",
       "    <tr>\n",
       "      <th>7612</th>\n",
       "      <td>10873</td>\n",
       "      <td>NaN</td>\n",
       "      <td>NaN</td>\n",
       "      <td>The Latest: More Homes Razed by Northern Calif...</td>\n",
       "      <td>1</td>\n",
       "      <td>The Latest: More Homes Razed by Northern Calif...</td>\n",
       "      <td>the latest more homes razed by northern califo...</td>\n",
       "      <td>1</td>\n",
       "      <td>0</td>\n",
       "      <td>0</td>\n",
       "      <td>0</td>\n",
       "      <td>0</td>\n",
       "      <td>[latest, home, razed, northern, california, wi...</td>\n",
       "      <td>latest home razed northern california wildfire...</td>\n",
       "      <td>13</td>\n",
       "      <td>8</td>\n",
       "    </tr>\n",
       "  </tbody>\n",
       "</table>\n",
       "<p>7613 rows × 16 columns</p>\n",
       "</div>"
      ],
      "text/plain": [
       "         id keyword location  \\\n",
       "0         1     NaN      NaN   \n",
       "1         4     NaN      NaN   \n",
       "2         5     NaN      NaN   \n",
       "3         6     NaN      NaN   \n",
       "4         7     NaN      NaN   \n",
       "...     ...     ...      ...   \n",
       "7608  10869     NaN      NaN   \n",
       "7609  10870     NaN      NaN   \n",
       "7610  10871     NaN      NaN   \n",
       "7611  10872     NaN      NaN   \n",
       "7612  10873     NaN      NaN   \n",
       "\n",
       "                                                   text  target  \\\n",
       "0     Our Deeds are the Reason of this #earthquake M...       1   \n",
       "1                Forest fire near La Ronge Sask. Canada       1   \n",
       "2     All residents asked to 'shelter in place' are ...       1   \n",
       "3     13,000 people receive #wildfires evacuation or...       1   \n",
       "4     Just got sent this photo from Ruby #Alaska as ...       1   \n",
       "...                                                 ...     ...   \n",
       "7608  Two giant cranes holding a bridge collapse int...       1   \n",
       "7609  @aria_ahrary @TheTawniest The out of control w...       1   \n",
       "7610  M1.94 [01:04 UTC]?5km S of Volcano Hawaii. htt...       1   \n",
       "7611  Police investigating after an e-bike collided ...       1   \n",
       "7612  The Latest: More Homes Razed by Northern Calif...       1   \n",
       "\n",
       "                                               text_raw  \\\n",
       "0     Our Deeds are the Reason of this #earthquake M...   \n",
       "1                Forest fire near La Ronge Sask. Canada   \n",
       "2     All residents asked to 'shelter in place' are ...   \n",
       "3     13,000 people receive #wildfires evacuation or...   \n",
       "4     Just got sent this photo from Ruby #Alaska as ...   \n",
       "...                                                 ...   \n",
       "7608  Two giant cranes holding a bridge collapse int...   \n",
       "7609  @aria_ahrary @TheTawniest The out of control w...   \n",
       "7610  M1.94 [01:04 UTC]?5km S of Volcano Hawaii. htt...   \n",
       "7611  Police investigating after an e-bike collided ...   \n",
       "7612  The Latest: More Homes Razed by Northern Calif...   \n",
       "\n",
       "                                         text_clean_raw  urls_removed  \\\n",
       "0     our deeds are the reason of this earthquake ma...             0   \n",
       "1                 forest fire near la ronge sask canada             0   \n",
       "2     all residents asked to shelter in place are be...             0   \n",
       "3     people receive wildfires evacuation orders in ...             0   \n",
       "4     just got sent this photo from ruby alaska as s...             0   \n",
       "...                                                 ...           ...   \n",
       "7608  two giant cranes holding a bridge collapse int...             1   \n",
       "7609  the out of control wild fires in california ev...             0   \n",
       "7610                      m1 utc5km s of volcano hawaii             1   \n",
       "7611  police investigating after an ebike collided w...             0   \n",
       "7612  the latest more homes razed by northern califo...             1   \n",
       "\n",
       "      mentions_removed  emojis_removed  hashtags_unhashed  numbers_affected  \\\n",
       "0                    0               0                  1                 0   \n",
       "1                    0               0                  0                 0   \n",
       "2                    0               0                  0                 0   \n",
       "3                    0               0                  1                 1   \n",
       "4                    0               0                  2                 0   \n",
       "...                ...             ...                ...               ...   \n",
       "7608                 0               0                  0                 0   \n",
       "7609                 2               0                  0                 0   \n",
       "7610                 0               0                  0                 3   \n",
       "7611                 0               0                  0                 0   \n",
       "7612                 0               0                  0                 0   \n",
       "\n",
       "                                                 tokens  \\\n",
       "0     [deed, reason, earthquake, may, allah, forgive...   \n",
       "1         [forest, fire, near, la, ronge, sask, canada]   \n",
       "2     [resident, asked, shelter, place, notified, of...   \n",
       "3     [people, receive, wildfire, evacuation, order,...   \n",
       "4     [got, sent, photo, ruby, alaska, smoke, wildfi...   \n",
       "...                                                 ...   \n",
       "7608  [two, giant, crane, holding, bridge, collapse,...   \n",
       "7609  [control, wild, fire, california, even, northe...   \n",
       "7610                    [m1, utc, 5km, volcano, hawaii]   \n",
       "7611  [police, investigating, ebike, collided, car, ...   \n",
       "7612  [latest, home, razed, northern, california, wi...   \n",
       "\n",
       "                                             text_clean  len_raw  len_clean  \n",
       "0            deed reason earthquake may allah forgive u       13          7  \n",
       "1                 forest fire near la ronge sask canada        7          7  \n",
       "2     resident asked shelter place notified officer ...       22         12  \n",
       "3     people receive wildfire evacuation order calif...        8          6  \n",
       "4     got sent photo ruby alaska smoke wildfire pour...       16          9  \n",
       "...                                                 ...      ...        ...  \n",
       "7608  two giant crane holding bridge collapse nearby...       11          8  \n",
       "7609  control wild fire california even northern par...       20          9  \n",
       "7610                          m1 utc 5km volcano hawaii        8          5  \n",
       "7611  police investigating ebike collided car little...       19         14  \n",
       "7612  latest home razed northern california wildfire...       13          8  \n",
       "\n",
       "[7613 rows x 16 columns]"
      ]
     },
     "execution_count": 42,
     "metadata": {},
     "output_type": "execute_result"
    }
   ],
   "source": [
    "df_train"
   ]
  },
  {
   "cell_type": "markdown",
   "id": "074c9074",
   "metadata": {},
   "source": [
    "### Modelo usando Vader"
   ]
  },
  {
   "cell_type": "code",
   "execution_count": 43,
   "id": "2724bb28",
   "metadata": {},
   "outputs": [
    {
     "name": "stdout",
     "output_type": "stream",
     "text": [
      "Aplicando VADER Sentiment...\n"
     ]
    }
   ],
   "source": [
    "analyzer_vader = SentimentIntensityAnalyzer()\n",
    "\n",
    "print(\"Aplicando VADER Sentiment...\")\n",
    "\n",
    "def analyze_vader_sentiment(text):\n",
    "    \"\"\"\n",
    "    Analiza sentimiento con VADER\n",
    "    \"\"\"\n",
    "    scores = analyzer_vader.polarity_scores(text)\n",
    "    compound = scores['compound']\n",
    "    \n",
    "    if compound >= 0.00:\n",
    "        return 0, compound, scores\n",
    "    elif compound <= -0.00:\n",
    "       return 1, compound, scores\n",
    "    else:\n",
    "        return 'neutral', compound, scores\n",
    "\n",
    "vader_results = df_train['text_clean'].apply(analyze_vader_sentiment)\n",
    "df_train['vader_sentiment'] = [r[0] for r in vader_results]\n",
    "df_train['vader_compound'] = [r[1] for r in vader_results]\n"
   ]
  },
  {
   "cell_type": "markdown",
   "id": "21002f4f",
   "metadata": {},
   "source": [
    "### Modelo usando textblob"
   ]
  },
  {
   "cell_type": "code",
   "execution_count": 46,
   "id": "eab383e9",
   "metadata": {},
   "outputs": [],
   "source": [
    "def analyze_textblob_sentiment(text):\n",
    "    \"\"\"\n",
    "    Analiza sentimiento con TextBlob\n",
    "    \"\"\"\n",
    "    blob = TextBlob(text)\n",
    "    polarity = blob.sentiment.polarity\n",
    "    \n",
    "    if polarity >= 0.0:\n",
    "        return 0, polarity\n",
    "    elif polarity < 0.0:\n",
    "        return 1, polarity\n",
    "    else:\n",
    "        return 'neutral', polarity\n",
    "\n",
    "textblob_results = df_train['text_clean'].apply(analyze_textblob_sentiment)\n",
    "df_train['textblob_sentiment'] = [r[0] for r in textblob_results]\n",
    "df_train['textblob_polarity'] = [r[1] for r in textblob_results]"
   ]
  },
  {
   "cell_type": "code",
   "execution_count": 47,
   "id": "e57014ad",
   "metadata": {},
   "outputs": [
    {
     "data": {
      "application/vnd.microsoft.datawrangler.viewer.v0+json": {
       "columns": [
        {
         "name": "index",
         "rawType": "int64",
         "type": "integer"
        },
        {
         "name": "text_clean",
         "rawType": "object",
         "type": "string"
        },
        {
         "name": "target",
         "rawType": "int64",
         "type": "integer"
        },
        {
         "name": "vader_sentiment",
         "rawType": "int64",
         "type": "integer"
        },
        {
         "name": "textblob_sentiment",
         "rawType": "int64",
         "type": "integer"
        }
       ],
       "ref": "c56109a4-ffbe-43de-96a3-9f52e2e992f2",
       "rows": [
        [
         "0",
         "deed reason earthquake may allah forgive u",
         "1",
         "0",
         "0"
        ],
        [
         "1",
         "forest fire near la ronge sask canada",
         "1",
         "1",
         "0"
        ],
        [
         "2",
         "resident asked shelter place notified officer no evacuation shelter place order expected",
         "1",
         "1",
         "1"
        ],
        [
         "3",
         "people receive wildfire evacuation order california",
         "1",
         "0",
         "0"
        ],
        [
         "4",
         "got sent photo ruby alaska smoke wildfire pours school",
         "1",
         "0",
         "0"
        ],
        [
         "5",
         "rockyfire update california hwy closed direction due lake county fire cafire wildfire",
         "1",
         "1",
         "1"
        ],
        [
         "6",
         "flood disaster heavy rain cause flash flooding street manitou colorado spring area",
         "1",
         "1",
         "1"
        ],
        [
         "7",
         "im top hill see fire wood",
         "1",
         "1",
         "0"
        ],
        [
         "8",
         "emergency evacuation happening building across street",
         "1",
         "1",
         "0"
        ],
        [
         "9",
         "im afraid tornado coming area",
         "1",
         "0",
         "1"
        ],
        [
         "10",
         "three people died heat wave far",
         "1",
         "1",
         "0"
        ],
        [
         "11",
         "haha south tampa getting flooded hah wait second live south tampa gonna gonna fvck flooding",
         "1",
         "0",
         "0"
        ],
        [
         "12",
         "raining flooding florida tampabay tampa day ive lost count",
         "1",
         "1",
         "0"
        ],
        [
         "13",
         "flood bago myanmar arrived bago",
         "1",
         "0",
         "0"
        ],
        [
         "14",
         "damage school bus multi car crash breaking",
         "1",
         "1",
         "0"
        ],
        [
         "15",
         "whats man",
         "0",
         "0",
         "0"
        ],
        [
         "16",
         "love fruit",
         "0",
         "0",
         "0"
        ],
        [
         "17",
         "summer lovely",
         "0",
         "0",
         "0"
        ],
        [
         "18",
         "car fast",
         "0",
         "0",
         "0"
        ],
        [
         "19",
         "goooaaal",
         "0",
         "0",
         "0"
        ],
        [
         "20",
         "ridiculous",
         "0",
         "1",
         "1"
        ],
        [
         "21",
         "london cool",
         "0",
         "0",
         "0"
        ],
        [
         "22",
         "love skiing",
         "0",
         "0",
         "0"
        ],
        [
         "23",
         "wonderful day",
         "0",
         "0",
         "0"
        ],
        [
         "24",
         "loool",
         "0",
         "0",
         "0"
        ],
        [
         "25",
         "no wayi cant eat shit",
         "0",
         "0",
         "1"
        ],
        [
         "26",
         "wa nyc last week",
         "0",
         "0",
         "0"
        ],
        [
         "27",
         "love girlfriend",
         "0",
         "0",
         "0"
        ],
        [
         "28",
         "coool",
         "0",
         "0",
         "0"
        ],
        [
         "29",
         "like pasta",
         "0",
         "0",
         "0"
        ],
        [
         "30",
         "end",
         "0",
         "0",
         "0"
        ],
        [
         "31",
         "wholesale market ablaze",
         "1",
         "0",
         "0"
        ],
        [
         "32",
         "always try bring heavy metal rt",
         "0",
         "0",
         "1"
        ],
        [
         "33",
         "africanbaze breaking newsnigeria flag set ablaze aba",
         "1",
         "0",
         "0"
        ],
        [
         "34",
         "cry set ablaze",
         "0",
         "1",
         "0"
        ],
        [
         "35",
         "plus side look sky last night wa ablaze",
         "0",
         "0",
         "0"
        ],
        [
         "36",
         "mufc theyve built much hype around new acquisition doubt set epl ablaze season",
         "0",
         "1",
         "0"
        ],
        [
         "37",
         "inec office abia set ablaze",
         "1",
         "0",
         "0"
        ],
        [
         "38",
         "barbados bridgetown jamaica two car set ablaze santa cruz head st elizabeth police superintende",
         "1",
         "0",
         "0"
        ],
        [
         "39",
         "ablaze lord",
         "0",
         "0",
         "0"
        ],
        [
         "40",
         "check nsfw",
         "0",
         "0",
         "0"
        ],
        [
         "41",
         "outside youre ablaze alive youre dead inside",
         "0",
         "1",
         "1"
        ],
        [
         "42",
         "awesome time visiting cfc head office ancop site ablaze thanks tita vida taking care u",
         "0",
         "0",
         "0"
        ],
        [
         "43",
         "sooo pumped ablaze",
         "0",
         "0",
         "0"
        ],
        [
         "44",
         "wanted set chicago ablaze preaching not hotel",
         "0",
         "0",
         "0"
        ],
        [
         "45",
         "gained follower last week know stats grow",
         "0",
         "0",
         "0"
        ],
        [
         "46",
         "west wa burned thousand wildfire ablaze california alone",
         "1",
         "1",
         "0"
        ],
        [
         "47",
         "building perfect tracklist life leave street ablaze",
         "0",
         "0",
         "0"
        ],
        [
         "48",
         "check nsfw",
         "0",
         "0",
         "0"
        ],
        [
         "49",
         "first night retainer quite weird better get used wear every single night next year least",
         "0",
         "0",
         "1"
        ]
       ],
       "shape": {
        "columns": 4,
        "rows": 100
       }
      },
      "text/html": [
       "<div>\n",
       "<style scoped>\n",
       "    .dataframe tbody tr th:only-of-type {\n",
       "        vertical-align: middle;\n",
       "    }\n",
       "\n",
       "    .dataframe tbody tr th {\n",
       "        vertical-align: top;\n",
       "    }\n",
       "\n",
       "    .dataframe thead th {\n",
       "        text-align: right;\n",
       "    }\n",
       "</style>\n",
       "<table border=\"1\" class=\"dataframe\">\n",
       "  <thead>\n",
       "    <tr style=\"text-align: right;\">\n",
       "      <th></th>\n",
       "      <th>text_clean</th>\n",
       "      <th>target</th>\n",
       "      <th>vader_sentiment</th>\n",
       "      <th>textblob_sentiment</th>\n",
       "    </tr>\n",
       "  </thead>\n",
       "  <tbody>\n",
       "    <tr>\n",
       "      <th>0</th>\n",
       "      <td>deed reason earthquake may allah forgive u</td>\n",
       "      <td>1</td>\n",
       "      <td>0</td>\n",
       "      <td>0</td>\n",
       "    </tr>\n",
       "    <tr>\n",
       "      <th>1</th>\n",
       "      <td>forest fire near la ronge sask canada</td>\n",
       "      <td>1</td>\n",
       "      <td>1</td>\n",
       "      <td>0</td>\n",
       "    </tr>\n",
       "    <tr>\n",
       "      <th>2</th>\n",
       "      <td>resident asked shelter place notified officer ...</td>\n",
       "      <td>1</td>\n",
       "      <td>1</td>\n",
       "      <td>1</td>\n",
       "    </tr>\n",
       "    <tr>\n",
       "      <th>3</th>\n",
       "      <td>people receive wildfire evacuation order calif...</td>\n",
       "      <td>1</td>\n",
       "      <td>0</td>\n",
       "      <td>0</td>\n",
       "    </tr>\n",
       "    <tr>\n",
       "      <th>4</th>\n",
       "      <td>got sent photo ruby alaska smoke wildfire pour...</td>\n",
       "      <td>1</td>\n",
       "      <td>0</td>\n",
       "      <td>0</td>\n",
       "    </tr>\n",
       "    <tr>\n",
       "      <th>...</th>\n",
       "      <td>...</td>\n",
       "      <td>...</td>\n",
       "      <td>...</td>\n",
       "      <td>...</td>\n",
       "    </tr>\n",
       "    <tr>\n",
       "      <th>95</th>\n",
       "      <td>mile backup southaccident blocking right lane ...</td>\n",
       "      <td>1</td>\n",
       "      <td>1</td>\n",
       "      <td>0</td>\n",
       "    </tr>\n",
       "    <tr>\n",
       "      <th>96</th>\n",
       "      <td>ha accident changed life help determine option...</td>\n",
       "      <td>0</td>\n",
       "      <td>0</td>\n",
       "      <td>0</td>\n",
       "    </tr>\n",
       "    <tr>\n",
       "      <th>97</th>\n",
       "      <td>breaking wa deadly motorcycle car accident hap...</td>\n",
       "      <td>1</td>\n",
       "      <td>1</td>\n",
       "      <td>1</td>\n",
       "    </tr>\n",
       "    <tr>\n",
       "      <th>98</th>\n",
       "      <td>marinading wa accident</td>\n",
       "      <td>0</td>\n",
       "      <td>1</td>\n",
       "      <td>0</td>\n",
       "    </tr>\n",
       "    <tr>\n",
       "      <th>99</th>\n",
       "      <td>car not even week got fucking car accident mf ...</td>\n",
       "      <td>1</td>\n",
       "      <td>1</td>\n",
       "      <td>1</td>\n",
       "    </tr>\n",
       "  </tbody>\n",
       "</table>\n",
       "<p>100 rows × 4 columns</p>\n",
       "</div>"
      ],
      "text/plain": [
       "                                           text_clean  target  \\\n",
       "0          deed reason earthquake may allah forgive u       1   \n",
       "1               forest fire near la ronge sask canada       1   \n",
       "2   resident asked shelter place notified officer ...       1   \n",
       "3   people receive wildfire evacuation order calif...       1   \n",
       "4   got sent photo ruby alaska smoke wildfire pour...       1   \n",
       "..                                                ...     ...   \n",
       "95  mile backup southaccident blocking right lane ...       1   \n",
       "96  ha accident changed life help determine option...       0   \n",
       "97  breaking wa deadly motorcycle car accident hap...       1   \n",
       "98                             marinading wa accident       0   \n",
       "99  car not even week got fucking car accident mf ...       1   \n",
       "\n",
       "    vader_sentiment  textblob_sentiment  \n",
       "0                 0                   0  \n",
       "1                 1                   0  \n",
       "2                 1                   1  \n",
       "3                 0                   0  \n",
       "4                 0                   0  \n",
       "..              ...                 ...  \n",
       "95                1                   0  \n",
       "96                0                   0  \n",
       "97                1                   1  \n",
       "98                1                   0  \n",
       "99                1                   1  \n",
       "\n",
       "[100 rows x 4 columns]"
      ]
     },
     "execution_count": 47,
     "metadata": {},
     "output_type": "execute_result"
    }
   ],
   "source": [
    "df_train[[\"text_clean\", \"target\", \"vader_sentiment\", \"textblob_sentiment\"]].head(100)"
   ]
  },
  {
   "cell_type": "markdown",
   "id": "a8eb278f",
   "metadata": {},
   "source": [
    "## Modelos de clasificación de palabras"
   ]
  },
  {
   "cell_type": "code",
   "execution_count": null,
   "id": "8c67dd2f",
   "metadata": {},
   "outputs": [
    {
     "name": "stdout",
     "output_type": "stream",
     "text": [
      "✓ AFINN léxico cargado: 2477 palabras\n"
     ]
    }
   ],
   "source": [
    "def download_afinn_lexicon():\n",
    "    url = \"https://raw.githubusercontent.com/fnielsen/afinn/master/afinn/data/AFINN-111.txt\"\n",
    "    try:\n",
    "        response = requests.get(url)\n",
    "        afinn_dict = {}\n",
    "        \n",
    "        for line in response.text.strip().split('\\n'):\n",
    "            word, score = line.split('\\t')\n",
    "            afinn_dict[word] = int(score)\n",
    "        \n",
    "        print(f\"✓ AFINN léxico cargado: {len(afinn_dict)} palabras\")\n",
    "        return afinn_dict\n",
    "    except Exception as e:\n",
    "        print(f\"Error descargando AFINN: {e}\")\n",
    "        return {}\n",
    "\n",
    "afinn_lexicon = download_afinn_lexicon()"
   ]
  },
  {
   "cell_type": "code",
   "execution_count": null,
   "id": "c56802bc",
   "metadata": {},
   "outputs": [],
   "source": [
    "def classify_word_sentiment(word):\n",
    "    word_lower = word.lower().strip()\n",
    "    return 'neutral', 0, 'none'"
   ]
  },
  {
   "cell_type": "code",
   "execution_count": null,
   "id": "c59006b8",
   "metadata": {},
   "outputs": [],
   "source": [
    "def analyze_tweet_words(word_list):\n",
    "    if not isinstance(word_list, list):\n",
    "        return None\n",
    "    \n",
    "    word_analysis = []\n",
    "    positive_words = []\n",
    "    negative_words = []\n",
    "    neutral_words = []\n",
    "    \n",
    "    total_positive_score = 0\n",
    "    total_negative_score = 0\n",
    "    \n",
    "    for word in word_list:\n",
    "        sentiment, score, source = classify_word_sentiment(word)\n",
    "        \n",
    "        word_info = {\n",
    "            'word': word,\n",
    "            'sentiment': sentiment,\n",
    "            'score': score,\n",
    "            'source': source\n",
    "        }\n",
    "        word_analysis.append(word_info)\n",
    "        \n",
    "        if sentiment == 'positive':\n",
    "            positive_words.append(word)\n",
    "            total_positive_score += score\n",
    "        elif sentiment == 'negative':\n",
    "            negative_words.append(word)\n",
    "            total_negative_score += score\n",
    "        else:\n",
    "            neutral_words.append(word)\n",
    "    \n",
    "    positive_count = len(positive_words)\n",
    "    negative_count = len(negative_words)\n",
    "    \n",
    "    net_score = total_positive_score - total_negative_score\n",
    "    \n",
    "    if positive_count > negative_count and positive_count > 0:\n",
    "        tweet_sentiment = 'positive'\n",
    "    elif negative_count > positive_count and negative_count > 0:\n",
    "        tweet_sentiment = 'negative'\n",
    "    elif net_score > 1:\n",
    "        tweet_sentiment = 'positive'\n",
    "    elif net_score < -1:\n",
    "        tweet_sentiment = 'negative'\n",
    "    else:\n",
    "        tweet_sentiment = 'neutral'\n",
    "    \n",
    "    return {\n",
    "        'word_analysis': word_analysis,\n",
    "        'summary': {\n",
    "            'tweet_sentiment': tweet_sentiment,\n",
    "            'net_score': net_score,\n",
    "            'negative_count': negative_count,\n",
    "        }\n",
    "    }"
   ]
  },
  {
   "cell_type": "code",
   "execution_count": 57,
   "id": "644f4596",
   "metadata": {},
   "outputs": [
    {
     "name": "stdout",
     "output_type": "stream",
     "text": [
      "Analizando sentimiento de 7613 tweets...\n",
      "Procesando tweet 0...\n",
      "Procesando tweet 1000...\n",
      "Procesando tweet 2000...\n",
      "Procesando tweet 3000...\n",
      "Procesando tweet 4000...\n",
      "Procesando tweet 5000...\n",
      "Procesando tweet 6000...\n",
      "Procesando tweet 7000...\n"
     ]
    }
   ],
   "source": [
    "def analyze_dataframe_sentiment(df, words_column='words'):\n",
    "    print(f\"Analizando sentimiento de {len(df)} tweets...\")\n",
    "    \n",
    "    results = []\n",
    "    for i, word_list in enumerate(df[words_column]):\n",
    "        if i % 1000 == 0:\n",
    "            print(f\"Procesando tweet {i}...\")\n",
    "        \n",
    "        analysis = analyze_tweet_words(word_list)\n",
    "        results.append(analysis)\n",
    "    \n",
    "    df = df.copy()\n",
    "    \n",
    "    df['net score'] = [r['summary']['net_score'] if r else 0 for r in results]\n",
    "    df['overall sentiment'] = [r['summary']['tweet_sentiment'] if r else 0 for r in results]\n",
    "    df['negative_count'] = [r['summary']['negative_count'] if r else 0 for r in results]\n",
    "    return df\n",
    "\n",
    "df_analyzed = analyze_dataframe_sentiment(df_train, \"tokens\")"
   ]
  },
  {
   "cell_type": "code",
   "execution_count": 59,
   "id": "dbcfe6f5",
   "metadata": {},
   "outputs": [
    {
     "data": {
      "application/vnd.microsoft.datawrangler.viewer.v0+json": {
       "columns": [
        {
         "name": "index",
         "rawType": "int64",
         "type": "integer"
        },
        {
         "name": "id",
         "rawType": "int64",
         "type": "integer"
        },
        {
         "name": "text_clean",
         "rawType": "object",
         "type": "string"
        },
        {
         "name": "net score",
         "rawType": "int64",
         "type": "integer"
        },
        {
         "name": "overall sentiment",
         "rawType": "object",
         "type": "string"
        },
        {
         "name": "negative_count",
         "rawType": "int64",
         "type": "integer"
        }
       ],
       "ref": "b964787a-3639-4092-8d44-4de7b91b4478",
       "rows": [
        [
         "0",
         "1",
         "deed reason earthquake may allah forgive u",
         "1",
         "positive",
         "0"
        ],
        [
         "1",
         "4",
         "forest fire near la ronge sask canada",
         "-2",
         "negative",
         "1"
        ],
        [
         "2",
         "5",
         "resident asked shelter place notified officer no evacuation shelter place order expected",
         "-1",
         "negative",
         "1"
        ],
        [
         "3",
         "6",
         "people receive wildfire evacuation order california",
         "0",
         "neutral",
         "0"
        ],
        [
         "4",
         "7",
         "got sent photo ruby alaska smoke wildfire pours school",
         "0",
         "neutral",
         "0"
        ],
        [
         "5",
         "8",
         "rockyfire update california hwy closed direction due lake county fire cafire wildfire",
         "-2",
         "negative",
         "1"
        ],
        [
         "6",
         "10",
         "flood disaster heavy rain cause flash flooding street manitou colorado spring area",
         "-2",
         "negative",
         "1"
        ],
        [
         "7",
         "13",
         "im top hill see fire wood",
         "0",
         "neutral",
         "1"
        ],
        [
         "8",
         "14",
         "emergency evacuation happening building across street",
         "-2",
         "negative",
         "1"
        ],
        [
         "9",
         "15",
         "im afraid tornado coming area",
         "-2",
         "negative",
         "1"
        ],
        [
         "10",
         "16",
         "three people died heat wave far",
         "-3",
         "negative",
         "1"
        ],
        [
         "11",
         "17",
         "haha south tampa getting flooded hah wait second live south tampa gonna gonna fvck flooding",
         "3",
         "positive",
         "0"
        ],
        [
         "12",
         "18",
         "raining flooding florida tampabay tampa day ive lost count",
         "-3",
         "negative",
         "1"
        ],
        [
         "13",
         "19",
         "flood bago myanmar arrived bago",
         "0",
         "neutral",
         "0"
        ],
        [
         "14",
         "20",
         "damage school bus multi car crash breaking",
         "-5",
         "negative",
         "2"
        ],
        [
         "15",
         "23",
         "whats man",
         "0",
         "neutral",
         "0"
        ],
        [
         "16",
         "24",
         "love fruit",
         "3",
         "positive",
         "0"
        ],
        [
         "17",
         "25",
         "summer lovely",
         "3",
         "positive",
         "0"
        ],
        [
         "18",
         "26",
         "car fast",
         "0",
         "neutral",
         "0"
        ],
        [
         "19",
         "28",
         "goooaaal",
         "0",
         "neutral",
         "0"
        ],
        [
         "20",
         "31",
         "ridiculous",
         "-3",
         "negative",
         "1"
        ],
        [
         "21",
         "32",
         "london cool",
         "1",
         "positive",
         "0"
        ],
        [
         "22",
         "33",
         "love skiing",
         "3",
         "positive",
         "0"
        ],
        [
         "23",
         "34",
         "wonderful day",
         "4",
         "positive",
         "0"
        ],
        [
         "24",
         "36",
         "loool",
         "0",
         "neutral",
         "0"
        ],
        [
         "25",
         "37",
         "no wayi cant eat shit",
         "-5",
         "negative",
         "2"
        ],
        [
         "26",
         "38",
         "wa nyc last week",
         "0",
         "neutral",
         "0"
        ],
        [
         "27",
         "39",
         "love girlfriend",
         "3",
         "positive",
         "0"
        ],
        [
         "28",
         "40",
         "coool",
         "0",
         "neutral",
         "0"
        ],
        [
         "29",
         "41",
         "like pasta",
         "2",
         "positive",
         "0"
        ],
        [
         "30",
         "44",
         "end",
         "0",
         "neutral",
         "0"
        ],
        [
         "31",
         "48",
         "wholesale market ablaze",
         "0",
         "neutral",
         "0"
        ],
        [
         "32",
         "49",
         "always try bring heavy metal rt",
         "0",
         "neutral",
         "0"
        ],
        [
         "33",
         "50",
         "africanbaze breaking newsnigeria flag set ablaze aba",
         "0",
         "neutral",
         "0"
        ],
        [
         "34",
         "52",
         "cry set ablaze",
         "-1",
         "negative",
         "1"
        ],
        [
         "35",
         "53",
         "plus side look sky last night wa ablaze",
         "0",
         "neutral",
         "0"
        ],
        [
         "36",
         "54",
         "mufc theyve built much hype around new acquisition doubt set epl ablaze season",
         "-1",
         "negative",
         "1"
        ],
        [
         "37",
         "55",
         "inec office abia set ablaze",
         "0",
         "neutral",
         "0"
        ],
        [
         "38",
         "56",
         "barbados bridgetown jamaica two car set ablaze santa cruz head st elizabeth police superintende",
         "0",
         "neutral",
         "0"
        ],
        [
         "39",
         "57",
         "ablaze lord",
         "0",
         "neutral",
         "0"
        ],
        [
         "40",
         "59",
         "check nsfw",
         "0",
         "neutral",
         "0"
        ],
        [
         "41",
         "61",
         "outside youre ablaze alive youre dead inside",
         "-2",
         "negative",
         "1"
        ],
        [
         "42",
         "62",
         "awesome time visiting cfc head office ancop site ablaze thanks tita vida taking care u",
         "8",
         "positive",
         "0"
        ],
        [
         "43",
         "63",
         "sooo pumped ablaze",
         "0",
         "neutral",
         "0"
        ],
        [
         "44",
         "64",
         "wanted set chicago ablaze preaching not hotel",
         "0",
         "neutral",
         "0"
        ],
        [
         "45",
         "65",
         "gained follower last week know stats grow",
         "2",
         "positive",
         "0"
        ],
        [
         "46",
         "66",
         "west wa burned thousand wildfire ablaze california alone",
         "-2",
         "negative",
         "1"
        ],
        [
         "47",
         "67",
         "building perfect tracklist life leave street ablaze",
         "2",
         "positive",
         "1"
        ],
        [
         "48",
         "68",
         "check nsfw",
         "0",
         "neutral",
         "0"
        ],
        [
         "49",
         "71",
         "first night retainer quite weird better get used wear every single night next year least",
         "0",
         "neutral",
         "1"
        ]
       ],
       "shape": {
        "columns": 5,
        "rows": 7613
       }
      },
      "text/html": [
       "<div>\n",
       "<style scoped>\n",
       "    .dataframe tbody tr th:only-of-type {\n",
       "        vertical-align: middle;\n",
       "    }\n",
       "\n",
       "    .dataframe tbody tr th {\n",
       "        vertical-align: top;\n",
       "    }\n",
       "\n",
       "    .dataframe thead th {\n",
       "        text-align: right;\n",
       "    }\n",
       "</style>\n",
       "<table border=\"1\" class=\"dataframe\">\n",
       "  <thead>\n",
       "    <tr style=\"text-align: right;\">\n",
       "      <th></th>\n",
       "      <th>id</th>\n",
       "      <th>text_clean</th>\n",
       "      <th>net score</th>\n",
       "      <th>overall sentiment</th>\n",
       "      <th>negative_count</th>\n",
       "    </tr>\n",
       "  </thead>\n",
       "  <tbody>\n",
       "    <tr>\n",
       "      <th>0</th>\n",
       "      <td>1</td>\n",
       "      <td>deed reason earthquake may allah forgive u</td>\n",
       "      <td>1</td>\n",
       "      <td>positive</td>\n",
       "      <td>0</td>\n",
       "    </tr>\n",
       "    <tr>\n",
       "      <th>1</th>\n",
       "      <td>4</td>\n",
       "      <td>forest fire near la ronge sask canada</td>\n",
       "      <td>-2</td>\n",
       "      <td>negative</td>\n",
       "      <td>1</td>\n",
       "    </tr>\n",
       "    <tr>\n",
       "      <th>2</th>\n",
       "      <td>5</td>\n",
       "      <td>resident asked shelter place notified officer ...</td>\n",
       "      <td>-1</td>\n",
       "      <td>negative</td>\n",
       "      <td>1</td>\n",
       "    </tr>\n",
       "    <tr>\n",
       "      <th>3</th>\n",
       "      <td>6</td>\n",
       "      <td>people receive wildfire evacuation order calif...</td>\n",
       "      <td>0</td>\n",
       "      <td>neutral</td>\n",
       "      <td>0</td>\n",
       "    </tr>\n",
       "    <tr>\n",
       "      <th>4</th>\n",
       "      <td>7</td>\n",
       "      <td>got sent photo ruby alaska smoke wildfire pour...</td>\n",
       "      <td>0</td>\n",
       "      <td>neutral</td>\n",
       "      <td>0</td>\n",
       "    </tr>\n",
       "    <tr>\n",
       "      <th>...</th>\n",
       "      <td>...</td>\n",
       "      <td>...</td>\n",
       "      <td>...</td>\n",
       "      <td>...</td>\n",
       "      <td>...</td>\n",
       "    </tr>\n",
       "    <tr>\n",
       "      <th>7608</th>\n",
       "      <td>10869</td>\n",
       "      <td>two giant crane holding bridge collapse nearby...</td>\n",
       "      <td>-2</td>\n",
       "      <td>negative</td>\n",
       "      <td>1</td>\n",
       "    </tr>\n",
       "    <tr>\n",
       "      <th>7609</th>\n",
       "      <td>10870</td>\n",
       "      <td>control wild fire california even northern par...</td>\n",
       "      <td>-2</td>\n",
       "      <td>negative</td>\n",
       "      <td>1</td>\n",
       "    </tr>\n",
       "    <tr>\n",
       "      <th>7610</th>\n",
       "      <td>10871</td>\n",
       "      <td>m1 utc 5km volcano hawaii</td>\n",
       "      <td>0</td>\n",
       "      <td>neutral</td>\n",
       "      <td>0</td>\n",
       "    </tr>\n",
       "    <tr>\n",
       "      <th>7611</th>\n",
       "      <td>10872</td>\n",
       "      <td>police investigating ebike collided car little...</td>\n",
       "      <td>-4</td>\n",
       "      <td>negative</td>\n",
       "      <td>2</td>\n",
       "    </tr>\n",
       "    <tr>\n",
       "      <th>7612</th>\n",
       "      <td>10873</td>\n",
       "      <td>latest home razed northern california wildfire...</td>\n",
       "      <td>0</td>\n",
       "      <td>neutral</td>\n",
       "      <td>0</td>\n",
       "    </tr>\n",
       "  </tbody>\n",
       "</table>\n",
       "<p>7613 rows × 5 columns</p>\n",
       "</div>"
      ],
      "text/plain": [
       "         id                                         text_clean  net score  \\\n",
       "0         1         deed reason earthquake may allah forgive u          1   \n",
       "1         4              forest fire near la ronge sask canada         -2   \n",
       "2         5  resident asked shelter place notified officer ...         -1   \n",
       "3         6  people receive wildfire evacuation order calif...          0   \n",
       "4         7  got sent photo ruby alaska smoke wildfire pour...          0   \n",
       "...     ...                                                ...        ...   \n",
       "7608  10869  two giant crane holding bridge collapse nearby...         -2   \n",
       "7609  10870  control wild fire california even northern par...         -2   \n",
       "7610  10871                          m1 utc 5km volcano hawaii          0   \n",
       "7611  10872  police investigating ebike collided car little...         -4   \n",
       "7612  10873  latest home razed northern california wildfire...          0   \n",
       "\n",
       "     overall sentiment  negative_count  \n",
       "0             positive               0  \n",
       "1             negative               1  \n",
       "2             negative               1  \n",
       "3              neutral               0  \n",
       "4              neutral               0  \n",
       "...                ...             ...  \n",
       "7608          negative               1  \n",
       "7609          negative               1  \n",
       "7610           neutral               0  \n",
       "7611          negative               2  \n",
       "7612           neutral               0  \n",
       "\n",
       "[7613 rows x 5 columns]"
      ]
     },
     "execution_count": 59,
     "metadata": {},
     "output_type": "execute_result"
    }
   ],
   "source": [
    "df_analyzed[['id', 'text_clean' , 'net score', 'overall sentiment', 'negative_count']]"
   ]
  },
  {
   "cell_type": "markdown",
   "id": "d223dbc8",
   "metadata": {},
   "source": [
    "# Conclusiones"
   ]
  }
 ],
 "metadata": {
  "kernelspec": {
   "display_name": ".venv",
   "language": "python",
   "name": "python3"
  },
  "language_info": {
   "codemirror_mode": {
    "name": "ipython",
    "version": 3
   },
   "file_extension": ".py",
   "mimetype": "text/x-python",
   "name": "python",
   "nbconvert_exporter": "python",
   "pygments_lexer": "ipython3",
   "version": "3.13.5"
  }
 },
 "nbformat": 4,
 "nbformat_minor": 5
}
