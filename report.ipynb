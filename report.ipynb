{
 "cells": [
  {
   "cell_type": "markdown",
   "id": "344c8597",
   "metadata": {},
   "source": [
    "# Lab 5\n",
    "\n",
    "Daniel Alfredo Rayo Roldan\n",
    "\n",
    "Gerardo Gabriel Pineda Riveiro"
   ]
  },
  {
   "cell_type": "code",
   "execution_count": null,
   "id": "7a1d090b",
   "metadata": {},
   "outputs": [],
   "source": [
    "import pandas as pd\n",
    "import numpy as np\n",
    "import matplotlib.pyplot as plt\n",
    "import seaborn as sns\n",
    "from wordcloud import WordCloud\n",
    "import re\n",
    "import string\n",
    "from collections import Counter\n",
    "import nltk\n",
    "from nltk.corpus import stopwords\n",
    "from nltk.tokenize import word_tokenize\n",
    "from nltk.stem import PorterStemmer\n",
    "from nltk.util import ngrams\n",
    "import warnings\n",
    "warnings.filterwarnings('ignore')"
   ]
  },
  {
   "cell_type": "code",
   "execution_count": null,
   "id": "66987d8c",
   "metadata": {},
   "outputs": [
    {
     "data": {
      "application/vnd.microsoft.datawrangler.viewer.v0+json": {
       "columns": [
        {
         "name": "index",
         "rawType": "int64",
         "type": "integer"
        },
        {
         "name": "id",
         "rawType": "int64",
         "type": "integer"
        },
        {
         "name": "keyword",
         "rawType": "object",
         "type": "unknown"
        },
        {
         "name": "location",
         "rawType": "object",
         "type": "unknown"
        },
        {
         "name": "text",
         "rawType": "object",
         "type": "string"
        },
        {
         "name": "target",
         "rawType": "int64",
         "type": "integer"
        }
       ],
       "ref": "e5d8c04d-0ff7-4ab8-a1d8-d694167e33b1",
       "rows": [
        [
         "0",
         "1",
         null,
         null,
         "Our Deeds are the Reason of this #earthquake May ALLAH Forgive us all",
         "1"
        ],
        [
         "1",
         "4",
         null,
         null,
         "Forest fire near La Ronge Sask. Canada",
         "1"
        ],
        [
         "2",
         "5",
         null,
         null,
         "All residents asked to 'shelter in place' are being notified by officers. No other evacuation or shelter in place orders are expected",
         "1"
        ],
        [
         "3",
         "6",
         null,
         null,
         "13,000 people receive #wildfires evacuation orders in California ",
         "1"
        ],
        [
         "4",
         "7",
         null,
         null,
         "Just got sent this photo from Ruby #Alaska as smoke from #wildfires pours into a school ",
         "1"
        ],
        [
         "5",
         "8",
         null,
         null,
         "#RockyFire Update => California Hwy. 20 closed in both directions due to Lake County fire - #CAfire #wildfires",
         "1"
        ],
        [
         "6",
         "10",
         null,
         null,
         "#flood #disaster Heavy rain causes flash flooding of streets in Manitou, Colorado Springs areas",
         "1"
        ],
        [
         "7",
         "13",
         null,
         null,
         "I'm on top of the hill and I can see a fire in the woods...",
         "1"
        ],
        [
         "8",
         "14",
         null,
         null,
         "There's an emergency evacuation happening now in the building across the street",
         "1"
        ],
        [
         "9",
         "15",
         null,
         null,
         "I'm afraid that the tornado is coming to our area...",
         "1"
        ],
        [
         "10",
         "16",
         null,
         null,
         "Three people died from the heat wave so far",
         "1"
        ],
        [
         "11",
         "17",
         null,
         null,
         "Haha South Tampa is getting flooded hah- WAIT A SECOND I LIVE IN SOUTH TAMPA WHAT AM I GONNA DO WHAT AM I GONNA DO FVCK #flooding",
         "1"
        ],
        [
         "12",
         "18",
         null,
         null,
         "#raining #flooding #Florida #TampaBay #Tampa 18 or 19 days. I've lost count ",
         "1"
        ],
        [
         "13",
         "19",
         null,
         null,
         "#Flood in Bago Myanmar #We arrived Bago",
         "1"
        ],
        [
         "14",
         "20",
         null,
         null,
         "Damage to school bus on 80 in multi car crash #BREAKING ",
         "1"
        ],
        [
         "15",
         "23",
         null,
         null,
         "What's up man?",
         "0"
        ],
        [
         "16",
         "24",
         null,
         null,
         "I love fruits",
         "0"
        ],
        [
         "17",
         "25",
         null,
         null,
         "Summer is lovely",
         "0"
        ],
        [
         "18",
         "26",
         null,
         null,
         "My car is so fast",
         "0"
        ],
        [
         "19",
         "28",
         null,
         null,
         "What a goooooooaaaaaal!!!!!!",
         "0"
        ],
        [
         "20",
         "31",
         null,
         null,
         "this is ridiculous....",
         "0"
        ],
        [
         "21",
         "32",
         null,
         null,
         "London is cool ;)",
         "0"
        ],
        [
         "22",
         "33",
         null,
         null,
         "Love skiing",
         "0"
        ],
        [
         "23",
         "34",
         null,
         null,
         "What a wonderful day!",
         "0"
        ],
        [
         "24",
         "36",
         null,
         null,
         "LOOOOOOL",
         "0"
        ],
        [
         "25",
         "37",
         null,
         null,
         "No way...I can't eat that shit",
         "0"
        ],
        [
         "26",
         "38",
         null,
         null,
         "Was in NYC last week!",
         "0"
        ],
        [
         "27",
         "39",
         null,
         null,
         "Love my girlfriend",
         "0"
        ],
        [
         "28",
         "40",
         null,
         null,
         "Cooool :)",
         "0"
        ],
        [
         "29",
         "41",
         null,
         null,
         "Do you like pasta?",
         "0"
        ],
        [
         "30",
         "44",
         null,
         null,
         "The end!",
         "0"
        ],
        [
         "31",
         "48",
         "ablaze",
         "Birmingham",
         "@bbcmtd Wholesale Markets ablaze http://t.co/lHYXEOHY6C",
         "1"
        ],
        [
         "32",
         "49",
         "ablaze",
         "Est. September 2012 - Bristol",
         "We always try to bring the heavy. #metal #RT http://t.co/YAo1e0xngw",
         "0"
        ],
        [
         "33",
         "50",
         "ablaze",
         "AFRICA",
         "#AFRICANBAZE: Breaking news:Nigeria flag set ablaze in Aba. http://t.co/2nndBGwyEi",
         "1"
        ],
        [
         "34",
         "52",
         "ablaze",
         "Philadelphia, PA",
         "Crying out for more! Set me ablaze",
         "0"
        ],
        [
         "35",
         "53",
         "ablaze",
         "London, UK",
         "On plus side LOOK AT THE SKY LAST NIGHT IT WAS ABLAZE http://t.co/qqsmshaJ3N",
         "0"
        ],
        [
         "36",
         "54",
         "ablaze",
         "Pretoria",
         "@PhDSquares #mufc they've built so much hype around new acquisitions but I doubt they will set the EPL ablaze this season.",
         "0"
        ],
        [
         "37",
         "55",
         "ablaze",
         "World Wide!!",
         "INEC Office in Abia Set Ablaze - http://t.co/3ImaomknnA",
         "1"
        ],
        [
         "38",
         "56",
         "ablaze",
         null,
         "Barbados #Bridgetown JAMAICA ÛÒ Two cars set ablaze: SANTA CRUZ ÛÓ Head of the St Elizabeth Police Superintende...  http://t.co/wDUEaj8Q4J",
         "1"
        ],
        [
         "39",
         "57",
         "ablaze",
         "Paranaque City",
         "Ablaze for you Lord :D",
         "0"
        ],
        [
         "40",
         "59",
         "ablaze",
         "Live On Webcam",
         "Check these out: http://t.co/rOI2NSmEJJ http://t.co/3Tj8ZjiN21 http://t.co/YDUiXEfIpE http://t.co/LxTjc87KLS #nsfw",
         "0"
        ],
        [
         "41",
         "61",
         "ablaze",
         null,
         "on the outside you're ablaze and alive\nbut you're dead inside",
         "0"
        ],
        [
         "42",
         "62",
         "ablaze",
         "milky way",
         "Had an awesome time visiting the CFC head office the ancop site and ablaze. Thanks to Tita Vida for taking care of us ??",
         "0"
        ],
        [
         "43",
         "63",
         "ablaze",
         null,
         "SOOOO PUMPED FOR ABLAZE ???? @southridgelife",
         "0"
        ],
        [
         "44",
         "64",
         "ablaze",
         null,
         "I wanted to set Chicago ablaze with my preaching... But not my hotel! http://t.co/o9qknbfOFX",
         "0"
        ],
        [
         "45",
         "65",
         "ablaze",
         null,
         "I gained 3 followers in the last week. You? Know your stats and grow with http://t.co/TIyUliF5c6",
         "0"
        ],
        [
         "46",
         "66",
         "ablaze",
         "GREENSBORO,NORTH CAROLINA",
         "How the West was burned: Thousands of wildfires ablaze in California alone http://t.co/vl5TBR3wbr",
         "1"
        ],
        [
         "47",
         "67",
         "ablaze",
         null,
         "Building the perfect tracklist to life leave the streets ablaze",
         "0"
        ],
        [
         "48",
         "68",
         "ablaze",
         "Live On Webcam",
         "Check these out: http://t.co/rOI2NSmEJJ http://t.co/3Tj8ZjiN21 http://t.co/YDUiXEfIpE http://t.co/LxTjc87KLS #nsfw",
         "0"
        ],
        [
         "49",
         "71",
         "ablaze",
         "England.",
         "First night with retainers in. It's quite weird. Better get used to it; I have to wear them every single night for the next year at least.",
         "0"
        ]
       ],
       "shape": {
        "columns": 5,
        "rows": 7613
       }
      },
      "text/html": [
       "<div>\n",
       "<style scoped>\n",
       "    .dataframe tbody tr th:only-of-type {\n",
       "        vertical-align: middle;\n",
       "    }\n",
       "\n",
       "    .dataframe tbody tr th {\n",
       "        vertical-align: top;\n",
       "    }\n",
       "\n",
       "    .dataframe thead th {\n",
       "        text-align: right;\n",
       "    }\n",
       "</style>\n",
       "<table border=\"1\" class=\"dataframe\">\n",
       "  <thead>\n",
       "    <tr style=\"text-align: right;\">\n",
       "      <th></th>\n",
       "      <th>id</th>\n",
       "      <th>keyword</th>\n",
       "      <th>location</th>\n",
       "      <th>text</th>\n",
       "      <th>target</th>\n",
       "    </tr>\n",
       "  </thead>\n",
       "  <tbody>\n",
       "    <tr>\n",
       "      <th>0</th>\n",
       "      <td>1</td>\n",
       "      <td>NaN</td>\n",
       "      <td>NaN</td>\n",
       "      <td>Our Deeds are the Reason of this #earthquake M...</td>\n",
       "      <td>1</td>\n",
       "    </tr>\n",
       "    <tr>\n",
       "      <th>1</th>\n",
       "      <td>4</td>\n",
       "      <td>NaN</td>\n",
       "      <td>NaN</td>\n",
       "      <td>Forest fire near La Ronge Sask. Canada</td>\n",
       "      <td>1</td>\n",
       "    </tr>\n",
       "    <tr>\n",
       "      <th>2</th>\n",
       "      <td>5</td>\n",
       "      <td>NaN</td>\n",
       "      <td>NaN</td>\n",
       "      <td>All residents asked to 'shelter in place' are ...</td>\n",
       "      <td>1</td>\n",
       "    </tr>\n",
       "    <tr>\n",
       "      <th>3</th>\n",
       "      <td>6</td>\n",
       "      <td>NaN</td>\n",
       "      <td>NaN</td>\n",
       "      <td>13,000 people receive #wildfires evacuation or...</td>\n",
       "      <td>1</td>\n",
       "    </tr>\n",
       "    <tr>\n",
       "      <th>4</th>\n",
       "      <td>7</td>\n",
       "      <td>NaN</td>\n",
       "      <td>NaN</td>\n",
       "      <td>Just got sent this photo from Ruby #Alaska as ...</td>\n",
       "      <td>1</td>\n",
       "    </tr>\n",
       "    <tr>\n",
       "      <th>...</th>\n",
       "      <td>...</td>\n",
       "      <td>...</td>\n",
       "      <td>...</td>\n",
       "      <td>...</td>\n",
       "      <td>...</td>\n",
       "    </tr>\n",
       "    <tr>\n",
       "      <th>7608</th>\n",
       "      <td>10869</td>\n",
       "      <td>NaN</td>\n",
       "      <td>NaN</td>\n",
       "      <td>Two giant cranes holding a bridge collapse int...</td>\n",
       "      <td>1</td>\n",
       "    </tr>\n",
       "    <tr>\n",
       "      <th>7609</th>\n",
       "      <td>10870</td>\n",
       "      <td>NaN</td>\n",
       "      <td>NaN</td>\n",
       "      <td>@aria_ahrary @TheTawniest The out of control w...</td>\n",
       "      <td>1</td>\n",
       "    </tr>\n",
       "    <tr>\n",
       "      <th>7610</th>\n",
       "      <td>10871</td>\n",
       "      <td>NaN</td>\n",
       "      <td>NaN</td>\n",
       "      <td>M1.94 [01:04 UTC]?5km S of Volcano Hawaii. htt...</td>\n",
       "      <td>1</td>\n",
       "    </tr>\n",
       "    <tr>\n",
       "      <th>7611</th>\n",
       "      <td>10872</td>\n",
       "      <td>NaN</td>\n",
       "      <td>NaN</td>\n",
       "      <td>Police investigating after an e-bike collided ...</td>\n",
       "      <td>1</td>\n",
       "    </tr>\n",
       "    <tr>\n",
       "      <th>7612</th>\n",
       "      <td>10873</td>\n",
       "      <td>NaN</td>\n",
       "      <td>NaN</td>\n",
       "      <td>The Latest: More Homes Razed by Northern Calif...</td>\n",
       "      <td>1</td>\n",
       "    </tr>\n",
       "  </tbody>\n",
       "</table>\n",
       "<p>7613 rows × 5 columns</p>\n",
       "</div>"
      ],
      "text/plain": [
       "         id keyword location  \\\n",
       "0         1     NaN      NaN   \n",
       "1         4     NaN      NaN   \n",
       "2         5     NaN      NaN   \n",
       "3         6     NaN      NaN   \n",
       "4         7     NaN      NaN   \n",
       "...     ...     ...      ...   \n",
       "7608  10869     NaN      NaN   \n",
       "7609  10870     NaN      NaN   \n",
       "7610  10871     NaN      NaN   \n",
       "7611  10872     NaN      NaN   \n",
       "7612  10873     NaN      NaN   \n",
       "\n",
       "                                                   text  target  \n",
       "0     Our Deeds are the Reason of this #earthquake M...       1  \n",
       "1                Forest fire near La Ronge Sask. Canada       1  \n",
       "2     All residents asked to 'shelter in place' are ...       1  \n",
       "3     13,000 people receive #wildfires evacuation or...       1  \n",
       "4     Just got sent this photo from Ruby #Alaska as ...       1  \n",
       "...                                                 ...     ...  \n",
       "7608  Two giant cranes holding a bridge collapse int...       1  \n",
       "7609  @aria_ahrary @TheTawniest The out of control w...       1  \n",
       "7610  M1.94 [01:04 UTC]?5km S of Volcano Hawaii. htt...       1  \n",
       "7611  Police investigating after an e-bike collided ...       1  \n",
       "7612  The Latest: More Homes Razed by Northern Calif...       1  \n",
       "\n",
       "[7613 rows x 5 columns]"
      ]
     },
     "execution_count": 7,
     "metadata": {},
     "output_type": "execute_result"
    }
   ],
   "source": [
    "df_train = pd.read_csv(\"./data/train.csv\")\n",
    "\n",
    "df_train.head()"
   ]
  },
  {
   "cell_type": "code",
   "execution_count": 10,
   "id": "e0c6418e",
   "metadata": {},
   "outputs": [
    {
     "name": "stdout",
     "output_type": "stream",
     "text": [
      "=== INFORMACIÓN BÁSICA DEL DATASET ===\n",
      "Número de filas: 7613\n",
      "Número de columnas: 5\n",
      "\n",
      "Columnas: ['id', 'keyword', 'location', 'text', 'target']\n",
      "\n",
      "Tipos de datos:\n"
     ]
    },
    {
     "data": {
      "application/vnd.microsoft.datawrangler.viewer.v0+json": {
       "columns": [
        {
         "name": "index",
         "rawType": "object",
         "type": "string"
        },
        {
         "name": "0",
         "rawType": "object",
         "type": "unknown"
        }
       ],
       "ref": "287c12e3-938f-4c4a-b871-5d45fbf835e9",
       "rows": [
        [
         "id",
         "int64"
        ],
        [
         "keyword",
         "object"
        ],
        [
         "location",
         "object"
        ],
        [
         "text",
         "object"
        ],
        [
         "target",
         "int64"
        ]
       ],
       "shape": {
        "columns": 1,
        "rows": 5
       }
      },
      "text/plain": [
       "id           int64\n",
       "keyword     object\n",
       "location    object\n",
       "text        object\n",
       "target       int64\n",
       "dtype: object"
      ]
     },
     "execution_count": 10,
     "metadata": {},
     "output_type": "execute_result"
    }
   ],
   "source": [
    "print(\"=== INFORMACIÓN BÁSICA DEL DATASET ===\")\n",
    "print(f\"Número de filas: {df_train.shape[0]}\")\n",
    "print(f\"Número de columnas: {df_train.shape[1]}\")\n",
    "print(f\"\\nColumnas: {list(df_train.columns)}\")\n",
    "print(f\"\\nTipos de datos:\")\n",
    "df_train.dtypes"
   ]
  },
  {
   "cell_type": "markdown",
   "id": "281c55e5",
   "metadata": {},
   "source": [
    "## Análisis Exploratorio"
   ]
  },
  {
   "cell_type": "markdown",
   "id": "1ed9f69e",
   "metadata": {},
   "source": [
    "### Valores faltantes"
   ]
  },
  {
   "cell_type": "code",
   "execution_count": 14,
   "id": "b85d6d35",
   "metadata": {},
   "outputs": [
    {
     "data": {
      "application/vnd.microsoft.datawrangler.viewer.v0+json": {
       "columns": [
        {
         "name": "index",
         "rawType": "int64",
         "type": "integer"
        },
        {
         "name": "Columna",
         "rawType": "object",
         "type": "string"
        },
        {
         "name": "Valores Faltantes",
         "rawType": "int64",
         "type": "integer"
        },
        {
         "name": "Porcentaje",
         "rawType": "float64",
         "type": "float"
        }
       ],
       "ref": "3d4c1ee5-1713-4418-9a6b-9aac7064349c",
       "rows": [
        [
         "0",
         "id",
         "0",
         "0.0"
        ],
        [
         "1",
         "keyword",
         "61",
         "0.8012610009194797"
        ],
        [
         "2",
         "location",
         "2533",
         "33.27203467752528"
        ],
        [
         "3",
         "text",
         "0",
         "0.0"
        ],
        [
         "4",
         "target",
         "0",
         "0.0"
        ]
       ],
       "shape": {
        "columns": 3,
        "rows": 5
       }
      },
      "text/html": [
       "<div>\n",
       "<style scoped>\n",
       "    .dataframe tbody tr th:only-of-type {\n",
       "        vertical-align: middle;\n",
       "    }\n",
       "\n",
       "    .dataframe tbody tr th {\n",
       "        vertical-align: top;\n",
       "    }\n",
       "\n",
       "    .dataframe thead th {\n",
       "        text-align: right;\n",
       "    }\n",
       "</style>\n",
       "<table border=\"1\" class=\"dataframe\">\n",
       "  <thead>\n",
       "    <tr style=\"text-align: right;\">\n",
       "      <th></th>\n",
       "      <th>Columna</th>\n",
       "      <th>Valores Faltantes</th>\n",
       "      <th>Porcentaje</th>\n",
       "    </tr>\n",
       "  </thead>\n",
       "  <tbody>\n",
       "    <tr>\n",
       "      <th>0</th>\n",
       "      <td>id</td>\n",
       "      <td>0</td>\n",
       "      <td>0.000000</td>\n",
       "    </tr>\n",
       "    <tr>\n",
       "      <th>1</th>\n",
       "      <td>keyword</td>\n",
       "      <td>61</td>\n",
       "      <td>0.801261</td>\n",
       "    </tr>\n",
       "    <tr>\n",
       "      <th>2</th>\n",
       "      <td>location</td>\n",
       "      <td>2533</td>\n",
       "      <td>33.272035</td>\n",
       "    </tr>\n",
       "    <tr>\n",
       "      <th>3</th>\n",
       "      <td>text</td>\n",
       "      <td>0</td>\n",
       "      <td>0.000000</td>\n",
       "    </tr>\n",
       "    <tr>\n",
       "      <th>4</th>\n",
       "      <td>target</td>\n",
       "      <td>0</td>\n",
       "      <td>0.000000</td>\n",
       "    </tr>\n",
       "  </tbody>\n",
       "</table>\n",
       "</div>"
      ],
      "text/plain": [
       "    Columna  Valores Faltantes  Porcentaje\n",
       "0        id                  0    0.000000\n",
       "1   keyword                 61    0.801261\n",
       "2  location               2533   33.272035\n",
       "3      text                  0    0.000000\n",
       "4    target                  0    0.000000"
      ]
     },
     "execution_count": 14,
     "metadata": {},
     "output_type": "execute_result"
    }
   ],
   "source": [
    "missing_values = df_train.isnull().sum()\n",
    "missing_percent = (missing_values / len(df_train)) * 100\n",
    "\n",
    "missing_df = pd.DataFrame({\n",
    "    'Columna': missing_values.index,\n",
    "    'Valores Faltantes': missing_values.values,\n",
    "    'Porcentaje': missing_percent.values\n",
    "})\n",
    "missing_df"
   ]
  },
  {
   "cell_type": "markdown",
   "id": "98c18794",
   "metadata": {},
   "source": [
    "### Distribución de variable objetivo"
   ]
  },
  {
   "cell_type": "code",
   "execution_count": 23,
   "id": "217b3bf5",
   "metadata": {},
   "outputs": [
    {
     "name": "stdout",
     "output_type": "stream",
     "text": [
      "\n",
      "=== DISTRIBUCIÓN DE LA VARIABLE OBJETIVO ===\n",
      "Tweets NO desastre (0): 4342 (57.0%)\n",
      "Tweets de desastre (1): 3271 (43.0%)\n"
     ]
    },
    {
     "data": {
      "image/png": "[encoded data removed]",
      "text/plain": [
       "<Figure size 1200x500 with 1 Axes>"
      ]
     },
     "metadata": {},
     "output_type": "display_data"
    }
   ],
   "source": [
    "# Distribución de la variable objetivo\n",
    "print(\"\\n=== DISTRIBUCIÓN DE LA VARIABLE OBJETIVO ===\")\n",
    "target_counts = df_train['target'].value_counts()\n",
    "print(f\"Tweets NO desastre (0): {target_counts[0]} ({target_counts[0]/len(df_train)*100:.1f}%)\")\n",
    "print(f\"Tweets de desastre (1): {target_counts[1]} ({target_counts[1]/len(df_train)*100:.1f}%)\")\n",
    "\n",
    "# Visualización de la distribución\n",
    "fig, (ax1) = plt.subplots(1, 1, figsize=(12, 5))\n",
    "\n",
    "# Gráfico de barras\n",
    "target_counts.plot(kind='bar', ax=ax1, color=['skyblue', 'salmon'])\n",
    "ax1.set_title('Distribución de Tweets por Categoría')\n",
    "ax1.set_xlabel('Categoría (0: No Desastre, 1: Desastre)')\n",
    "ax1.set_ylabel('Número de Tweets')\n",
    "ax1.tick_params(axis='x', rotation=0)\n",
    "\n",
    "plt.tight_layout()\n",
    "plt.show()"
   ]
  },
  {
   "cell_type": "code",
   "execution_count": 24,
   "id": "9c662c63",
   "metadata": {},
   "outputs": [
    {
     "name": "stdout",
     "output_type": "stream",
     "text": [
      "\n",
      "=== EJEMPLOS DE TWEETS ===\n",
      "Tweets de DESASTRE:\n",
      "1. Our Deeds are the Reason of this #earthquake May ALLAH Forgive us all\n",
      "2. Forest fire near La Ronge Sask. Canada\n",
      "3. All residents asked to 'shelter in place' are being notified by officers. No other evacuation or shelter in place orders are expected\n",
      "\n",
      "Tweets NO de desastre:\n",
      "1. What's up man?\n",
      "2. I love fruits\n",
      "3. Summer is lovely\n"
     ]
    }
   ],
   "source": [
    "# Ejemplos de tweets por categoría\n",
    "print(\"\\n=== EJEMPLOS DE TWEETS ===\")\n",
    "print(\"Tweets de DESASTRE:\")\n",
    "for i, tweet in enumerate(df_train[df_train['target']==1]['text'].head(3)):\n",
    "    print(f\"{i+1}. {tweet}\")\n",
    "\n",
    "print(\"\\nTweets NO de desastre:\")\n",
    "for i, tweet in enumerate(df_train[df_train['target']==0]['text'].head(3)):\n",
    "    print(f\"{i+1}. {tweet}\")"
   ]
  }
 ],
 "metadata": {
  "kernelspec": {
   "display_name": ".venv",
   "language": "python",
   "name": "python3"
  },
  "language_info": {
   "codemirror_mode": {
    "name": "ipython",
    "version": 3
   },
   "file_extension": ".py",
   "mimetype": "text/x-python",
   "name": "python",
   "nbconvert_exporter": "python",
   "pygments_lexer": "ipython3",
   "version": "3.13.5"
  }
 },
 "nbformat": 4,
 "nbformat_minor": 5
}
