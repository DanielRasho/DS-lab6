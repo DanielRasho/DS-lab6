{
 "cells": [
  {
   "cell_type": "markdown",
   "id": "344c8597",
   "metadata": {},
   "source": [
    "# Lab 5\n",
    "\n",
    "Daniel Alfredo Rayo Roldan\n",
    "\n",
    "Gerardo Gabriel Pineda Riveiro\n",
    "\n",
    "https://github.com/DanielRasho/DS-lab6"
   ]
  },
  {
   "cell_type": "code",
   "execution_count": 1,
   "id": "7a1d090b",
   "metadata": {},
   "outputs": [],
   "source": [
    "import pandas as pd\n",
    "import numpy as np\n",
    "import matplotlib.pyplot as plt\n",
    "import seaborn as sns\n",
    "from wordcloud import WordCloud\n",
    "import re\n",
    "import string\n",
    "from collections import Counter\n",
    "import nltk\n",
    "from nltk.corpus import stopwords as nltk_stop\n",
    "from nltk.util import ngrams\n",
    "from nltk.tokenize import TweetTokenizer\n",
    "from nltk.stem import WordNetLemmatizer\n",
    "import warnings\n",
    "from textblob import TextBlob\n",
    "import requests\n",
    "from sklearn.model_selection import train_test_split, cross_val_score, GridSearchCV\n",
    "from sklearn.feature_extraction.text import TfidfVectorizer, CountVectorizer\n",
    "from sklearn.linear_model import LogisticRegression\n",
    "from sklearn.svm import SVC\n",
    "from sklearn.ensemble import RandomForestClassifier\n",
    "from sklearn.naive_bayes import MultinomialNB\n",
    "from sklearn.metrics import (classification_report, confusion_matrix, \n",
    "                           accuracy_score, precision_score, recall_score, \n",
    "                           f1_score, roc_auc_score, roc_curve)\n",
    "from sklearn.pipeline import Pipeline\n",
    "from vaderSentiment.vaderSentiment import SentimentIntensityAnalyzer\n",
    "import requests\n",
    "import xgboost as xgb\n",
    "from xgboost import XGBClassifier\n",
    "warnings.filterwarnings('ignore')"
   ]
  },
  {
   "cell_type": "markdown",
   "id": "185a3b15",
   "metadata": {},
   "source": [
    "## Cargado de Datos\n",
    "\n",
    "Para este reporte se trabajó con un junton de datos igual a , que consistian 7613 en mensajes que tenian representaban mensajes positivos o negativos, las frases estaban escritas de un modo que solo usando el contexto y con conocimiento de la semantíca se podía entender si una frase representaba una catastrofe real o solamente figurada."
   ]
  },
  {
   "cell_type": "code",
   "execution_count": 2,
   "id": "66987d8c",
   "metadata": {},
   "outputs": [
    {
     "data": {
      "application/vnd.microsoft.datawrangler.viewer.v0+json": {
       "columns": [
        {
         "name": "index",
         "rawType": "int64",
         "type": "integer"
        },
        {
         "name": "id",
         "rawType": "int64",
         "type": "integer"
        },
        {
         "name": "keyword",
         "rawType": "object",
         "type": "unknown"
        },
        {
         "name": "location",
         "rawType": "object",
         "type": "unknown"
        },
        {
         "name": "text",
         "rawType": "object",
         "type": "string"
        },
        {
         "name": "target",
         "rawType": "int64",
         "type": "integer"
        }
       ],
       "ref": "67e4b60a-33b9-410e-8d51-2d95d9831728",
       "rows": [
        [
         "0",
         "1",
         null,
         null,
         "Our Deeds are the Reason of this #earthquake May ALLAH Forgive us all",
         "1"
        ],
        [
         "1",
         "4",
         null,
         null,
         "Forest fire near La Ronge Sask. Canada",
         "1"
        ],
        [
         "2",
         "5",
         null,
         null,
         "All residents asked to 'shelter in place' are being notified by officers. No other evacuation or shelter in place orders are expected",
         "1"
        ],
        [
         "3",
         "6",
         null,
         null,
         "13,000 people receive #wildfires evacuation orders in California ",
         "1"
        ],
        [
         "4",
         "7",
         null,
         null,
         "Just got sent this photo from Ruby #Alaska as smoke from #wildfires pours into a school ",
         "1"
        ]
       ],
       "shape": {
        "columns": 5,
        "rows": 5
       }
      },
      "text/html": [
       "<div>\n",
       "<style scoped>\n",
       "    .dataframe tbody tr th:only-of-type {\n",
       "        vertical-align: middle;\n",
       "    }\n",
       "\n",
       "    .dataframe tbody tr th {\n",
       "        vertical-align: top;\n",
       "    }\n",
       "\n",
       "    .dataframe thead th {\n",
       "        text-align: right;\n",
       "    }\n",
       "</style>\n",
       "<table border=\"1\" class=\"dataframe\">\n",
       "  <thead>\n",
       "    <tr style=\"text-align: right;\">\n",
       "      <th></th>\n",
       "      <th>id</th>\n",
       "      <th>keyword</th>\n",
       "      <th>location</th>\n",
       "      <th>text</th>\n",
       "      <th>target</th>\n",
       "    </tr>\n",
       "  </thead>\n",
       "  <tbody>\n",
       "    <tr>\n",
       "      <th>0</th>\n",
       "      <td>1</td>\n",
       "      <td>NaN</td>\n",
       "      <td>NaN</td>\n",
       "      <td>Our Deeds are the Reason of this #earthquake M...</td>\n",
       "      <td>1</td>\n",
       "    </tr>\n",
       "    <tr>\n",
       "      <th>1</th>\n",
       "      <td>4</td>\n",
       "      <td>NaN</td>\n",
       "      <td>NaN</td>\n",
       "      <td>Forest fire near La Ronge Sask. Canada</td>\n",
       "      <td>1</td>\n",
       "    </tr>\n",
       "    <tr>\n",
       "      <th>2</th>\n",
       "      <td>5</td>\n",
       "      <td>NaN</td>\n",
       "      <td>NaN</td>\n",
       "      <td>All residents asked to 'shelter in place' are ...</td>\n",
       "      <td>1</td>\n",
       "    </tr>\n",
       "    <tr>\n",
       "      <th>3</th>\n",
       "      <td>6</td>\n",
       "      <td>NaN</td>\n",
       "      <td>NaN</td>\n",
       "      <td>13,000 people receive #wildfires evacuation or...</td>\n",
       "      <td>1</td>\n",
       "    </tr>\n",
       "    <tr>\n",
       "      <th>4</th>\n",
       "      <td>7</td>\n",
       "      <td>NaN</td>\n",
       "      <td>NaN</td>\n",
       "      <td>Just got sent this photo from Ruby #Alaska as ...</td>\n",
       "      <td>1</td>\n",
       "    </tr>\n",
       "  </tbody>\n",
       "</table>\n",
       "</div>"
      ],
      "text/plain": [
       "   id keyword location                                               text  \\\n",
       "0   1     NaN      NaN  Our Deeds are the Reason of this #earthquake M...   \n",
       "1   4     NaN      NaN             Forest fire near La Ronge Sask. Canada   \n",
       "2   5     NaN      NaN  All residents asked to 'shelter in place' are ...   \n",
       "3   6     NaN      NaN  13,000 people receive #wildfires evacuation or...   \n",
       "4   7     NaN      NaN  Just got sent this photo from Ruby #Alaska as ...   \n",
       "\n",
       "   target  \n",
       "0       1  \n",
       "1       1  \n",
       "2       1  \n",
       "3       1  \n",
       "4       1  "
      ]
     },
     "execution_count": 2,
     "metadata": {},
     "output_type": "execute_result"
    }
   ],
   "source": [
    "df_train = pd.read_csv(\"./data/train.csv\")\n",
    "\n",
    "df_train.head()"
   ]
  },
  {
   "cell_type": "code",
   "execution_count": 3,
   "id": "e0c6418e",
   "metadata": {},
   "outputs": [
    {
     "name": "stdout",
     "output_type": "stream",
     "text": [
      "Número de filas: 7613\n",
      "Número de columnas: 5\n",
      "\n",
      "Columnas: ['id', 'keyword', 'location', 'text', 'target']\n",
      "\n",
      "Tipos de datos:\n"
     ]
    },
    {
     "data": {
      "application/vnd.microsoft.datawrangler.viewer.v0+json": {
       "columns": [
        {
         "name": "index",
         "rawType": "object",
         "type": "string"
        },
        {
         "name": "0",
         "rawType": "object",
         "type": "unknown"
        }
       ],
       "ref": "5ec454c4-ae6b-441f-b8f8-6b188e92571c",
       "rows": [
        [
         "id",
         "int64"
        ],
        [
         "keyword",
         "object"
        ],
        [
         "location",
         "object"
        ],
        [
         "text",
         "object"
        ],
        [
         "target",
         "int64"
        ]
       ],
       "shape": {
        "columns": 1,
        "rows": 5
       }
      },
      "text/plain": [
       "id           int64\n",
       "keyword     object\n",
       "location    object\n",
       "text        object\n",
       "target       int64\n",
       "dtype: object"
      ]
     },
     "execution_count": 3,
     "metadata": {},
     "output_type": "execute_result"
    }
   ],
   "source": [
    "print(f\"Número de filas: {df_train.shape[0]}\")\n",
    "print(f\"Número de columnas: {df_train.shape[1]}\")\n",
    "print(f\"\\nColumnas: {list(df_train.columns)}\")\n",
    "print(f\"\\nTipos de datos:\")\n",
    "df_train.dtypes"
   ]
  },
  {
   "cell_type": "markdown",
   "id": "281c55e5",
   "metadata": {},
   "source": [
    "## Análisis Exploratorio"
   ]
  },
  {
   "cell_type": "markdown",
   "id": "1ed9f69e",
   "metadata": {},
   "source": [
    "### Valores faltantes"
   ]
  },
  {
   "cell_type": "markdown",
   "id": "9fee6e50",
   "metadata": {},
   "source": [
    "Del dataset se puede observar que hay una cantidad considerable de datos nulos en la variable de localización, pero es esperable considerando que los datos fueron extraidos de las redes sociales. Se usaran `text` y `target` no presentan datos nulos, así que no se realizara ningún preprocesamiento para datos nulos."
   ]
  },
  {
   "cell_type": "code",
   "execution_count": 4,
   "id": "b85d6d35",
   "metadata": {},
   "outputs": [
    {
     "data": {
      "application/vnd.microsoft.datawrangler.viewer.v0+json": {
       "columns": [
        {
         "name": "index",
         "rawType": "int64",
         "type": "integer"
        },
        {
         "name": "Columna",
         "rawType": "object",
         "type": "string"
        },
        {
         "name": "Valores Faltantes",
         "rawType": "int64",
         "type": "integer"
        },
        {
         "name": "Porcentaje",
         "rawType": "float64",
         "type": "float"
        }
       ],
       "ref": "8f70cbb3-ae73-489d-aa90-352743c1d4b4",
       "rows": [
        [
         "0",
         "id",
         "0",
         "0.0"
        ],
        [
         "1",
         "keyword",
         "61",
         "0.8012610009194797"
        ],
        [
         "2",
         "location",
         "2533",
         "33.27203467752528"
        ],
        [
         "3",
         "text",
         "0",
         "0.0"
        ],
        [
         "4",
         "target",
         "0",
         "0.0"
        ]
       ],
       "shape": {
        "columns": 3,
        "rows": 5
       }
      },
      "text/html": [
       "<div>\n",
       "<style scoped>\n",
       "    .dataframe tbody tr th:only-of-type {\n",
       "        vertical-align: middle;\n",
       "    }\n",
       "\n",
       "    .dataframe tbody tr th {\n",
       "        vertical-align: top;\n",
       "    }\n",
       "\n",
       "    .dataframe thead th {\n",
       "        text-align: right;\n",
       "    }\n",
       "</style>\n",
       "<table border=\"1\" class=\"dataframe\">\n",
       "  <thead>\n",
       "    <tr style=\"text-align: right;\">\n",
       "      <th></th>\n",
       "      <th>Columna</th>\n",
       "      <th>Valores Faltantes</th>\n",
       "      <th>Porcentaje</th>\n",
       "    </tr>\n",
       "  </thead>\n",
       "  <tbody>\n",
       "    <tr>\n",
       "      <th>0</th>\n",
       "      <td>id</td>\n",
       "      <td>0</td>\n",
       "      <td>0.000000</td>\n",
       "    </tr>\n",
       "    <tr>\n",
       "      <th>1</th>\n",
       "      <td>keyword</td>\n",
       "      <td>61</td>\n",
       "      <td>0.801261</td>\n",
       "    </tr>\n",
       "    <tr>\n",
       "      <th>2</th>\n",
       "      <td>location</td>\n",
       "      <td>2533</td>\n",
       "      <td>33.272035</td>\n",
       "    </tr>\n",
       "    <tr>\n",
       "      <th>3</th>\n",
       "      <td>text</td>\n",
       "      <td>0</td>\n",
       "      <td>0.000000</td>\n",
       "    </tr>\n",
       "    <tr>\n",
       "      <th>4</th>\n",
       "      <td>target</td>\n",
       "      <td>0</td>\n",
       "      <td>0.000000</td>\n",
       "    </tr>\n",
       "  </tbody>\n",
       "</table>\n",
       "</div>"
      ],
      "text/plain": [
       "    Columna  Valores Faltantes  Porcentaje\n",
       "0        id                  0    0.000000\n",
       "1   keyword                 61    0.801261\n",
       "2  location               2533   33.272035\n",
       "3      text                  0    0.000000\n",
       "4    target                  0    0.000000"
      ]
     },
     "execution_count": 4,
     "metadata": {},
     "output_type": "execute_result"
    }
   ],
   "source": [
    "missing_values = df_train.isnull().sum()\n",
    "missing_percent = (missing_values / len(df_train)) * 100\n",
    "\n",
    "missing_df = pd.DataFrame({\n",
    "    'Columna': missing_values.index,\n",
    "    'Valores Faltantes': missing_values.values,\n",
    "    'Porcentaje': missing_percent.values\n",
    "})\n",
    "missing_df"
   ]
  },
  {
   "cell_type": "markdown",
   "id": "98c18794",
   "metadata": {},
   "source": [
    "### Distribución de variable objetivo\n",
    "Los datos no se encuentran del todo balanceados, se cuentan aproximadamente con 4000 mensajes positivos y 3000 negativos, es decir  una diferencia de 1000 datos, por lo que es probable que los modelos entrenados en siguientes secciones tengan problemas para identificar mensajes negativos."
   ]
  },
  {
   "cell_type": "code",
   "execution_count": 5,
   "id": "217b3bf5",
   "metadata": {},
   "outputs": [
    {
     "name": "stdout",
     "output_type": "stream",
     "text": [
      "Tweets NO desastre (0): 4342 (57.0%)\n",
      "Tweets de desastre (1): 3271 (43.0%)\n"
     ]
    },
    {
     "data": {
      "image/png": "[encoded data removed]",
      "text/plain": [
       "<Figure size 1200x500 with 1 Axes>"
      ]
     },
     "metadata": {},
     "output_type": "display_data"
    }
   ],
   "source": [
    "target_counts = df_train['target'].value_counts()\n",
    "print(f\"Tweets NO desastre (0): {target_counts[0]} ({target_counts[0]/len(df_train)*100:.1f}%)\")\n",
    "print(f\"Tweets de desastre (1): {target_counts[1]} ({target_counts[1]/len(df_train)*100:.1f}%)\")\n",
    "\n",
    "fig, (ax1) = plt.subplots(1, 1, figsize=(12, 5))\n",
    "\n",
    "target_counts.plot(kind='bar', ax=ax1, color=['skyblue', 'salmon'])\n",
    "ax1.set_title('Distribución de Tweets por Categoría')\n",
    "ax1.set_xlabel('Categoría (0: No Desastre, 1: Desastre)')\n",
    "ax1.set_ylabel('Número de Tweets')\n",
    "ax1.tick_params(axis='x', rotation=0)\n",
    "\n",
    "plt.tight_layout()\n",
    "plt.show()"
   ]
  },
  {
   "cell_type": "code",
   "execution_count": 6,
   "id": "9c662c63",
   "metadata": {},
   "outputs": [
    {
     "name": "stdout",
     "output_type": "stream",
     "text": [
      "\n",
      "=== EJEMPLOS DE TWEETS ===\n",
      "Tweets de DESASTRE:\n",
      "1. Our Deeds are the Reason of this #earthquake May ALLAH Forgive us all\n",
      "2. Forest fire near La Ronge Sask. Canada\n",
      "3. All residents asked to 'shelter in place' are being notified by officers. No other evacuation or shelter in place orders are expected\n",
      "\n",
      "Tweets NO de desastre:\n",
      "1. What's up man?\n",
      "2. I love fruits\n",
      "3. Summer is lovely\n"
     ]
    }
   ],
   "source": [
    "print(\"\\n=== EJEMPLOS DE TWEETS ===\")\n",
    "print(\"Tweets de DESASTRE:\")\n",
    "for i, tweet in enumerate(df_train[df_train['target']==1]['text'].head(3)):\n",
    "    print(f\"{i+1}. {tweet}\")\n",
    "\n",
    "print(\"\\nTweets NO de desastre:\")\n",
    "for i, tweet in enumerate(df_train[df_train['target']==0]['text'].head(3)):\n",
    "    print(f\"{i+1}. {tweet}\")"
   ]
  },
  {
   "cell_type": "markdown",
   "id": "e9055443",
   "metadata": {},
   "source": [
    "# Preprocesamiento\n",
    "\n",
    "Se descargan las stopword del paquete de nltk y se crea el tokenizador de tweets de la libreria nltk."
   ]
  },
  {
   "cell_type": "code",
   "execution_count": 7,
   "id": "d340aaae",
   "metadata": {},
   "outputs": [
    {
     "name": "stderr",
     "output_type": "stream",
     "text": [
      "[nltk_data] Downloading package stopwords to /home/smaug/nltk_data...\n",
      "[nltk_data]   Package stopwords is already up-to-date!\n",
      "[nltk_data] Downloading package wordnet to /home/smaug/nltk_data...\n",
      "[nltk_data]   Package wordnet is already up-to-date!\n",
      "[nltk_data] Downloading package omw-1.4 to /home/smaug/nltk_data...\n",
      "[nltk_data]   Package omw-1.4 is already up-to-date!\n"
     ]
    }
   ],
   "source": [
    "nltk.download(\"stopwords\"); nltk.download(\"wordnet\"); nltk.download(\"omw-1.4\")\n",
    "tt = TweetTokenizer(preserve_case=not True, reduce_len=True, strip_handles=False)\n",
    "wnl = WordNetLemmatizer()"
   ]
  },
  {
   "cell_type": "markdown",
   "id": "5ea74b8a",
   "metadata": {},
   "source": [
    "Como el idioma del set es ingles se obtienen los stopwords en este idio y nos aseguramos que las palabras negativas que se queden porque estas son valiosas para el analiss"
   ]
  },
  {
   "cell_type": "code",
   "execution_count": 8,
   "id": "0259787b",
   "metadata": {},
   "outputs": [],
   "source": [
    "stopwords = set(nltk_stop.words(\"english\"))\n",
    "negs = {\"no\",\"not\",\"n't\"}\n",
    "stopwords = {w for w in stopwords if w.lower() not in negs}"
   ]
  },
  {
   "cell_type": "markdown",
   "id": "6edd32bc",
   "metadata": {},
   "source": [
    "Se crean expresiones regualres especificas para cada parte de la limpieza que se quiere quitar."
   ]
  },
  {
   "cell_type": "code",
   "execution_count": 9,
   "id": "225e9f7d",
   "metadata": {},
   "outputs": [],
   "source": [
    "URL_RE = re.compile(r\"(https?://\\S+|www\\.\\S+)\")\n",
    "MENTION_RE = re.compile(r\"@\\w+\")\n",
    "HASHTAG_RE = re.compile(r\"#(\\w+)\")\n",
    "APOSTROPHES_RE = re.compile(r\"[’`´]\")\n",
    "EMOJI_RE = re.compile(\n",
    "    \"[\"\n",
    "    \"\\U0001F600-\\U0001F64F\"  # emoticons\n",
    "    \"\\U0001F300-\\U0001F5FF\"  # symbols & pictographs\n",
    "    \"\\U0001F680-\\U0001F6FF\"  # transport & map\n",
    "    \"\\U0001F1E0-\\U0001F1FF\"  # flags\n",
    "    \"\\U00002702-\\U000027B0\"\n",
    "    \"\\U000024C2-\\U0001F251\"\n",
    "    \"]+\", flags=re.UNICODE\n",
    ")\n",
    "NUMBER_RE = re.compile(r\"\\b\\d+(?:[.,]\\d+)*\\b\")\n",
    "\n",
    "PUNCT_TABLE = str.maketrans(\"\", \"\", string.punctuation)"
   ]
  },
  {
   "cell_type": "markdown",
   "id": "ee6c1838",
   "metadata": {},
   "source": [
    "Se crea una funcion donde se mapean todas las palabras y se quita lo siguiente:\n",
    "- Se convirtio todo a minusculas.\n",
    "- Se quitar los caracteres especiales que aparecen como *#*, *@* o los *apostrofes*\n",
    "- Se quitar las url\n",
    "- Se decidio quitar los emojis pero se quedo con una flag por si se quieren dejar.\n",
    "- Se quitaron los signos de puntuación.\n",
    "- Se quitaron las stopwords\n",
    "- Se quitaron los numeros menos el 911"
   ]
  },
  {
   "cell_type": "code",
   "execution_count": 10,
   "id": "ed88349f",
   "metadata": {},
   "outputs": [],
   "source": [
    "def remove_non_ascii(text: str) -> str:\n",
    "    return re.sub(r\"[^\\x00-\\x7F]+\", \" \", text)\n",
    "\n",
    "def count_pattern(pat, text):\n",
    "    return len(pat.findall(text))\n",
    "\n",
    "def clean_raw(text: str) -> dict:\n",
    "    original = text\n",
    "\n",
    "    \n",
    "    text = text.lower()\n",
    "\n",
    "    urls = mentions = emojis = hashtags = numbers = 0\n",
    "\n",
    "    urls = count_pattern(URL_RE, text)\n",
    "    text = URL_RE.sub(\" \", text)\n",
    "\n",
    "    mentions = count_pattern(MENTION_RE, text)\n",
    "    text = MENTION_RE.sub(\" \", text)\n",
    "\n",
    "    hashtags = count_pattern(HASHTAG_RE, text)\n",
    "    text = HASHTAG_RE.sub(lambda m: m.group(1), text)\n",
    "\n",
    "    text = APOSTROPHES_RE.sub(\"'\", text)\n",
    "\n",
    "    if True: # Cambiar esto para cambiarlos emojis (si queres rayo)\n",
    "        emojis = len(EMOJI_RE.findall(text))\n",
    "        text = EMOJI_RE.sub(\" \", text)\n",
    "\n",
    "    # Aqui estan los numeros solo vamos a dejar el 911\n",
    "    def num_filter(m):\n",
    "        tok = m.group(0)\n",
    "        return tok if tok in {\"911\"} else \" \"\n",
    "    numbers = len(NUMBER_RE.findall(text))\n",
    "    text = NUMBER_RE.sub(num_filter, text)\n",
    "\n",
    "    text = text.translate(PUNCT_TABLE)\n",
    "\n",
    "    text = remove_non_ascii(text)\n",
    "\n",
    "    text = re.sub(r\"\\s+\", \" \", text).strip()\n",
    "\n",
    "    return {\n",
    "        \"text_raw\": original,\n",
    "        \"text_clean_raw\": text,\n",
    "        \"urls_removed\": urls,\n",
    "        \"mentions_removed\": mentions,\n",
    "        \"emojis_removed\": emojis,\n",
    "        \"hashtags_unhashed\": hashtags,\n",
    "        \"numbers_affected\": numbers\n",
    "    }\n",
    "\n",
    "clean_rows = df_train[\"text\"].map(clean_raw)\n",
    "clean_df = pd.DataFrame(list(clean_rows))\n",
    "df_train = pd.concat([df_train, clean_df], axis=1)"
   ]
  },
  {
   "cell_type": "code",
   "execution_count": 11,
   "id": "dc4310e2",
   "metadata": {},
   "outputs": [],
   "source": [
    "def tokenize_and_normalize(text: str):\n",
    "    tokens = []\n",
    "    toks = tt.tokenize(text)\n",
    "    toks = [t for t in toks if all(ch not in string.punctuation for ch in t)]\n",
    "    toks = [wnl.lemmatize(t) for t in toks]\n",
    "\n",
    "    toks = [t for t in toks if t.lower() not in stopwords]\n",
    "    tokens = toks\n",
    "\n",
    "    tokens = [t.strip() for t in tokens if t.strip() != \"\"]\n",
    "    return tokens\n",
    "\n",
    "df_train[\"tokens\"] = df_train[\"text_clean_raw\"].map(tokenize_and_normalize)\n",
    "df_train[\"text_clean\"] = df_train[\"tokens\"].map(lambda ts: \" \".join(ts))"
   ]
  },
  {
   "cell_type": "code",
   "execution_count": 12,
   "id": "f01acb68",
   "metadata": {},
   "outputs": [],
   "source": [
    "df_train[\"len_raw\"] = df_train[\"text\"].str.split().map(len)\n",
    "df_train[\"len_clean\"] = df_train[\"tokens\"].map(len)"
   ]
  },
  {
   "cell_type": "code",
   "execution_count": 13,
   "id": "93dc6f60",
   "metadata": {},
   "outputs": [
    {
     "name": "stdout",
     "output_type": "stream",
     "text": [
      "                                      text_clean_raw  \\\n",
      "0  our deeds are the reason of this earthquake ma...   \n",
      "\n",
      "                                              tokens  \\\n",
      "0  [deed, reason, earthquake, may, allah, forgive...   \n",
      "\n",
      "                                   text_clean  \n",
      "0  deed reason earthquake may allah forgive u  \n"
     ]
    }
   ],
   "source": [
    "print(df_train[[\"text_clean_raw\",\"tokens\",\"text_clean\"]].head(1))"
   ]
  },
  {
   "cell_type": "markdown",
   "id": "fef983c1",
   "metadata": {},
   "source": [
    "### Frecuencia de palabras por categoría\n",
    "Tras el preprocesamiento se contó las palabras más frecuentes en ambas categorías de tweets."
   ]
  },
  {
   "cell_type": "code",
   "execution_count": 14,
   "id": "7f395b42",
   "metadata": {},
   "outputs": [
    {
     "name": "stdout",
     "output_type": "stream",
     "text": [
      "TOP 20 PALABRAS MÁS FRECUENTES - TWEETS DE DESASTRE:\n",
      "fire: 265\n",
      "wa: 174\n",
      "news: 136\n",
      "via: 121\n",
      "disaster: 117\n",
      "california: 115\n",
      "suicide: 110\n",
      "amp: 109\n",
      "no: 108\n",
      "police: 107\n",
      "people: 106\n",
      "u: 105\n",
      "family: 105\n",
      "ha: 105\n",
      "home: 101\n",
      "train: 100\n",
      "building: 95\n",
      "not: 93\n",
      "killed: 93\n",
      "like: 92\n",
      "\n",
      "TOP 20 PALABRAS MÁS FRECUENTES - TWEETS NO DE DESASTRE:\n",
      "like: 255\n",
      "im: 244\n",
      "wa: 219\n",
      "not: 204\n",
      "amp: 193\n",
      "get: 185\n",
      "new: 171\n",
      "ha: 152\n",
      "no: 146\n",
      "u: 146\n",
      "dont: 141\n",
      "one: 137\n",
      "body: 117\n",
      "time: 104\n",
      "video: 102\n",
      "via: 99\n",
      "would: 97\n",
      "day: 96\n",
      "love: 95\n",
      "people: 92\n"
     ]
    }
   ],
   "source": [
    "disaster_tweets = df_train[df_train['target'] == 1]['text_clean']\n",
    "non_disaster_tweets = df_train[df_train['target'] == 0]['text_clean']\n",
    "\n",
    "def get_word_frequencies(texts, top_n=20):\n",
    "    \"\"\"\n",
    "    Obtiene las palabras más frecuentes de una lista de textos\n",
    "    \"\"\"\n",
    "    all_words = []\n",
    "    for text in texts:\n",
    "        words = text.split()\n",
    "        all_words.extend(words)\n",
    "    \n",
    "    return Counter(all_words).most_common(top_n)\n",
    "\n",
    "# Obtener palabras más frecuentes para cada categoría\n",
    "disaster_freq = get_word_frequencies(disaster_tweets)\n",
    "non_disaster_freq = get_word_frequencies(non_disaster_tweets)\n",
    "\n",
    "print(\"TOP 20 PALABRAS MÁS FRECUENTES - TWEETS DE DESASTRE:\")\n",
    "for word, freq in disaster_freq:\n",
    "    print(f\"{word}: {freq}\")\n",
    "\n",
    "print(\"\\nTOP 20 PALABRAS MÁS FRECUENTES - TWEETS NO DE DESASTRE:\")\n",
    "for word, freq in non_disaster_freq:\n",
    "    print(f\"{word}: {freq}\")"
   ]
  },
  {
   "cell_type": "code",
   "execution_count": 15,
   "id": "83c7dff7",
   "metadata": {},
   "outputs": [
    {
     "data": {
      "image/png": "[encoded data removed]",
      "text/plain": [
       "<Figure size 1200x1000 with 2 Axes>"
      ]
     },
     "metadata": {},
     "output_type": "display_data"
    }
   ],
   "source": [
    "fig, (ax1, ax2) = plt.subplots(2, 1, figsize=(12, 10))\n",
    "\n",
    "# Palabras más frecuentes en tweets de desastre\n",
    "disaster_words = [word for word, freq in disaster_freq]\n",
    "disaster_counts = [freq for word, freq in disaster_freq]\n",
    "\n",
    "ax1.barh(disaster_words[:15][::-1], disaster_counts[:15][::-1], color='salmon')\n",
    "ax1.set_title('Top 15 Palabras Más Frecuentes - Tweets de Desastre')\n",
    "ax1.set_xlabel('Frecuencia')\n",
    "\n",
    "# Palabras más frecuentes en tweets NO de desastre\n",
    "non_disaster_words = [word for word, freq in non_disaster_freq]\n",
    "non_disaster_counts = [freq for word, freq in non_disaster_freq]\n",
    "\n",
    "ax2.barh(non_disaster_words[:15][::-1], non_disaster_counts[:15][::-1], color='skyblue')\n",
    "ax2.set_title('Top 15 Palabras Más Frecuentes - Tweets NO de Desastre')\n",
    "ax2.set_xlabel('Frecuencia')\n",
    "\n",
    "plt.tight_layout()\n",
    "plt.show()"
   ]
  },
  {
   "cell_type": "markdown",
   "id": "76426ad1",
   "metadata": {},
   "source": [
    "Se puede observar como en las palabras más frecuentes en tweets trágicos hacen referencia cuantan con algunos términos que cuentan con pocos terminos figurados, en caso tenerlos siguen teniendo significados negativos. Por el contrario las palabras de tweets inofensivos, no presentan ninguna de estas palabras, de hecho una de las palabras más frecuente es 'ha' la onomatopeya de reirse : 'ha ha ha'."
   ]
  },
  {
   "cell_type": "markdown",
   "id": "7eae8c6c",
   "metadata": {},
   "source": [
    "### Analísis de Bigramas y Trigramas"
   ]
  },
  {
   "cell_type": "markdown",
   "id": "35fef69f",
   "metadata": {},
   "source": [
    "#### Bigramas\n",
    "Si juntamos las palabras de pares para hacer bigramas y las asociamos con el sentimiento de la oración a la que pertenecen la diferencia de gravedad aumenta, al contar con 2 palabras se cuenta con mayor contexto, y es mucho más sencillo saber si las frases son catastróficas o no."
   ]
  },
  {
   "cell_type": "code",
   "execution_count": 16,
   "id": "8d36b014",
   "metadata": {},
   "outputs": [
    {
     "data": {
      "image/png": "[encoded data removed]",
      "text/plain": [
       "<Figure size 1200x1000 with 2 Axes>"
      ]
     },
     "metadata": {},
     "output_type": "display_data"
    }
   ],
   "source": [
    "def get_ngrams(texts, n=2, top_n=15):\n",
    "    all_ngrams = []\n",
    "    for text in texts:\n",
    "        words = text.split()\n",
    "        if len(words) >= n:\n",
    "            text_ngrams = list(ngrams(words, n))\n",
    "            all_ngrams.extend(text_ngrams)\n",
    "    \n",
    "    ngram_freq = Counter(all_ngrams)\n",
    "    return ngram_freq.most_common(top_n)\n",
    "\n",
    "# Obtener bigramas más frecuentes\n",
    "disaster_bigrams = get_ngrams(disaster_tweets, n=2, top_n=15)\n",
    "non_disaster_bigrams = get_ngrams(non_disaster_tweets, n=2, top_n=15)\n",
    "\n",
    "# Visualización de bigramas\n",
    "fig, (ax1, ax2) = plt.subplots(2, 1, figsize=(12, 10))\n",
    "\n",
    "# Bigramas de tweets de desastre\n",
    "disaster_bigram_labels = [' '.join(bigram) for bigram, freq in disaster_bigrams]\n",
    "disaster_bigram_counts = [freq for bigram, freq in disaster_bigrams]\n",
    "\n",
    "ax1.barh(disaster_bigram_labels[:10][::-1], disaster_bigram_counts[:10][::-1], color='salmon')\n",
    "ax1.set_title('Top 10 Bigramas - Tweets de Desastre')\n",
    "ax1.set_xlabel('Frecuencia')\n",
    "\n",
    "# Bigramas de tweets NO de desastre\n",
    "non_disaster_bigram_labels = [' '.join(bigram) for bigram, freq in non_disaster_bigrams]\n",
    "non_disaster_bigram_counts = [freq for bigram, freq in non_disaster_bigrams]\n",
    "\n",
    "ax2.barh(non_disaster_bigram_labels[:10][::-1], non_disaster_bigram_counts[:10][::-1], color='skyblue')\n",
    "ax2.set_title('Top 10 Bigramas - Tweets NO de Desastre')\n",
    "ax2.set_xlabel('Frecuencia')\n",
    "\n",
    "plt.tight_layout()\n",
    "plt.show()\n"
   ]
  },
  {
   "cell_type": "markdown",
   "id": "fdb61709",
   "metadata": {},
   "source": [
    "Efectivamente los bigramas de tweets inofensivos, en el peor de los casos pueden tener una cognotación de queja o descaró, pero sin llegar a significar muerte o enfermedad."
   ]
  },
  {
   "cell_type": "markdown",
   "id": "4c47f7f3",
   "metadata": {},
   "source": [
    "#### Trigramas"
   ]
  },
  {
   "cell_type": "markdown",
   "id": "51eb4b77",
   "metadata": {},
   "source": [
    "Por último para el análisis de trigramas se puede descubrir un patrón común en los tweets catastróficos y es que hablan de razas, armas u muerte. Cosa que en los tweets que se consideran como positivos no pasa, en esta categoría predominan más los trigramas relacionados a problemas económicos o de contenido ofensivo, pero no catastrófico."
   ]
  },
  {
   "cell_type": "code",
   "execution_count": 17,
   "id": "9b1af1d1",
   "metadata": {},
   "outputs": [
    {
     "name": "stdout",
     "output_type": "stream",
     "text": [
      "\n",
      "TOP 10 TRIGRAMAS - TWEETS DE DESASTRE:\n",
      "suicide bomber detonated: 30\n",
      "northern california wildfire: 29\n",
      "latest home razed: 28\n",
      "home razed northern: 28\n",
      "pkk suicide bomber: 28\n",
      "bomber detonated bomb: 28\n",
      "razed northern california: 27\n",
      "16yr old pkk: 27\n",
      "old pkk suicide: 27\n",
      "family sue legionnaire: 26\n",
      "\n",
      "TOP 10 TRIGRAMAS - TWEETS NO DE DESASTRE:\n",
      "cross body bag: 23\n",
      "reddit quarantine offensive: 21\n",
      "quarantine offensive content: 20\n",
      "pick fan army: 17\n",
      "reddits new content: 16\n",
      "new content policy: 16\n",
      "china stock market: 16\n",
      "stock market crash: 16\n",
      "full read ebay: 15\n",
      "ignition knock detonation: 15\n"
     ]
    }
   ],
   "source": [
    "disaster_trigrams = get_ngrams(disaster_tweets, n=3, top_n=10)\n",
    "non_disaster_trigrams = get_ngrams(non_disaster_tweets, n=3, top_n=10)\n",
    "\n",
    "print(\"\\nTOP 10 TRIGRAMAS - TWEETS DE DESASTRE:\")\n",
    "for trigram, freq in disaster_trigrams:\n",
    "    print(f\"{' '.join(trigram)}: {freq}\")\n",
    "\n",
    "print(\"\\nTOP 10 TRIGRAMAS - TWEETS NO DE DESASTRE:\")\n",
    "for trigram, freq in non_disaster_trigrams:\n",
    "    print(f\"{' '.join(trigram)}: {freq}\")"
   ]
  },
  {
   "cell_type": "markdown",
   "id": "e26e059f",
   "metadata": {},
   "source": [
    "## Modelos de Clasificación de sentimientos"
   ]
  },
  {
   "cell_type": "markdown",
   "id": "9fb66a08",
   "metadata": {},
   "source": [
    "Terminado el análisis exploratorio, en esta sección se utilizarán los textos limpios para entrenar modelos que clasifiquen si un tweet es catastrófico o inofensivo. Se empleara esta división de datos: \n",
    "\n",
    "- **Entrenamiento** - 75%\n",
    "- **Test** - 25%\n",
    "\n",
    "Se utilizara **GridSearch** para descubrimiento de parámetros óptimos, y se trabajara con 3 diferentes algoritmos para descubrir el que tiene mejor rendimiento."
   ]
  },
  {
   "cell_type": "code",
   "execution_count": 29,
   "id": "f5ea7a0e",
   "metadata": {},
   "outputs": [],
   "source": [
    "X_train, X_test, y_train, y_test = train_test_split(\n",
    "    df_train[\"text_clean\"], df_train[\"target\"], \n",
    "    test_size=0.25, \n",
    "    random_state=42,\n",
    "    stratify=df_train[\"target\"]\n",
    ")"
   ]
  },
  {
   "cell_type": "code",
   "execution_count": 19,
   "id": "b498b719",
   "metadata": {},
   "outputs": [],
   "source": [
    "def train_and_optimize_model(pipeline, param_grid, X_train, y_train, model_name):\n",
    "    print(f\"\\n=== ENTRENANDO {model_name.upper()} ===\")\n",
    "    print(\"Ejecutando Grid Search para encontrar mejores hiperparámetros...\")\n",
    "    \n",
    "    grid_search = GridSearchCV(\n",
    "        pipeline,\n",
    "        param_grid,\n",
    "        cv=5,\n",
    "        scoring='f1',\n",
    "        n_jobs=-1,\n",
    "        verbose=1\n",
    "    )\n",
    "    \n",
    "    grid_search.fit(X_train, y_train)\n",
    "    \n",
    "    print(f\"✓ {model_name} entrenado\")\n",
    "    print(f\"Mejores parámetros: {grid_search.best_params_}\")\n",
    "    print(f\"Mejor F1-Score (CV): {grid_search.best_score_:.4f}\")\n",
    "    \n",
    "    return grid_search.best_estimator_\n",
    "\n",
    "def evaluate_model(model, X_test, y_test, model_name):\n",
    "    print(f\"\\n=== EVALUACIÓN {model_name.upper()} ===\")\n",
    "    \n",
    "    y_pred = model.predict(X_test)\n",
    "    y_pred_proba = model.predict_proba(X_test)[:, 1]\n",
    "    \n",
    "    accuracy = accuracy_score(y_test, y_pred)\n",
    "    precision = precision_score(y_test, y_pred)\n",
    "    recall = recall_score(y_test, y_pred)\n",
    "    f1 = f1_score(y_test, y_pred)\n",
    "    roc_auc = roc_auc_score(y_test, y_pred_proba)\n",
    "    \n",
    "    print(f\"Accuracy: {accuracy:.4f}\")\n",
    "    print(f\"Precision: {precision:.4f}\")\n",
    "    print(f\"Recall: {recall:.4f}\")\n",
    "    print(f\"F1-Score: {f1:.4f}\")\n",
    "    print(f\"ROC-AUC: {roc_auc:.4f}\")\n",
    "    \n",
    "    print(f\"\\nReporte de clasificación detallado:\")\n",
    "    target_names = ['Positivo (0)', 'Negativo (1)']\n",
    "    print(classification_report(y_test, y_pred, target_names=target_names))\n",
    "    \n",
    "    return {\n",
    "        'model': model,\n",
    "        'predictions': y_pred,\n",
    "        'probabilities': y_pred_proba,\n",
    "        'metrics': {\n",
    "            'accuracy': accuracy,\n",
    "            'precision': precision,\n",
    "            'recall': recall,\n",
    "            'f1_score': f1,\n",
    "            'roc_auc': roc_auc\n",
    "        }\n",
    "    }\n",
    "    \n",
    "def plot_confusion_matrices(model_result, y_test, model_name):\n",
    "    fig, ax = plt.subplots(1, 1, figsize=(8, 6))\n",
    "    \n",
    "    cm = confusion_matrix(y_test, model_result['predictions'])\n",
    "    \n",
    "    sns.heatmap(cm, annot=True, fmt='d', cmap='Blues', ax=ax,\n",
    "               xticklabels=['Positivo (0)', 'Negativo (1)'],\n",
    "               yticklabels=['Positivo (0)', 'Negativo (1)'])\n",
    "    \n",
    "    f1 = model_result['metrics']['f1_score']\n",
    "    accuracy = model_result['metrics']['accuracy']\n",
    "    ax.set_title(f'Matriz de Confusión - {model_name}\\nF1-Score: {f1:.3f} | Accuracy: {accuracy:.3f}')\n",
    "    ax.set_ylabel('Valor Real')\n",
    "    ax.set_xlabel('Predicción')\n",
    "    \n",
    "    plt.tight_layout()\n",
    "    plt.show()"
   ]
  },
  {
   "cell_type": "markdown",
   "id": "f5c661c4",
   "metadata": {},
   "source": [
    "### Regresión Logística"
   ]
  },
  {
   "cell_type": "code",
   "execution_count": 20,
   "id": "ed63469e",
   "metadata": {},
   "outputs": [],
   "source": [
    "def create_logistic_regression_model():\n",
    "    pipeline = Pipeline([\n",
    "        ('tfidf', TfidfVectorizer(\n",
    "            max_features=10000,\n",
    "            ngram_range=(1, 2),\n",
    "            min_df=2,\n",
    "            max_df=0.95,\n",
    "            lowercase=True,\n",
    "            stop_words='english'\n",
    "        )),\n",
    "        ('classifier', LogisticRegression(\n",
    "            random_state=42,\n",
    "            max_iter=1000,\n",
    "            solver='liblinear'\n",
    "        ))\n",
    "    ])\n",
    "    \n",
    "    # Grid de hiperparámetros para optimización\n",
    "    param_grid = {\n",
    "        'tfidf__max_features': [8000, 10000, 12000],\n",
    "        'tfidf__ngram_range': [(1, 1), (1, 2)],\n",
    "        'classifier__C': [0.1, 1.0, 10.0]\n",
    "    }\n",
    "    \n",
    "    return pipeline, param_grid"
   ]
  },
  {
   "cell_type": "code",
   "execution_count": 21,
   "id": "9d1f24b4",
   "metadata": {},
   "outputs": [
    {
     "name": "stdout",
     "output_type": "stream",
     "text": [
      "\n",
      "=== ENTRENANDO REGRESIÓN LOGÍSTICA ===\n",
      "Ejecutando Grid Search para encontrar mejores hiperparámetros...\n",
      "Fitting 5 folds for each of 18 candidates, totalling 90 fits\n",
      "✓ Regresión Logística entrenado\n",
      "Mejores parámetros: {'classifier__C': 1.0, 'tfidf__max_features': 8000, 'tfidf__ngram_range': (1, 1)}\n",
      "Mejor F1-Score (CV): 0.7302\n",
      "\n",
      "=== EVALUACIÓN REGRESIÓN LOGÍSTICA ===\n",
      "Accuracy: 0.8162\n",
      "Precision: 0.8431\n",
      "Recall: 0.7029\n",
      "F1-Score: 0.7667\n",
      "ROC-AUC: 0.8675\n",
      "\n",
      "Reporte de clasificación detallado:\n",
      "              precision    recall  f1-score   support\n",
      "\n",
      "Positivo (0)       0.80      0.90      0.85      1086\n",
      "Negativo (1)       0.84      0.70      0.77       818\n",
      "\n",
      "    accuracy                           0.82      1904\n",
      "   macro avg       0.82      0.80      0.81      1904\n",
      "weighted avg       0.82      0.82      0.81      1904\n",
      "\n"
     ]
    }
   ],
   "source": [
    "lr_pipeline, lr_param_grid = create_logistic_regression_model()\n",
    "lr_model = train_and_optimize_model(lr_pipeline, lr_param_grid, \n",
    "                                   X_train, y_train, \"Regresión Logística\")\n",
    "lr_results = evaluate_model(lr_model, X_test, y_test, \"Regresión Logística\")"
   ]
  },
  {
   "cell_type": "code",
   "execution_count": 22,
   "id": "b1d934db",
   "metadata": {},
   "outputs": [
    {
     "data": {
      "image/png": "[encoded data removed]",
      "text/plain": [
       "<Figure size 800x600 with 2 Axes>"
      ]
     },
     "metadata": {},
     "output_type": "display_data"
    }
   ],
   "source": [
    "plot_confusion_matrices(lr_results, y_test, \"Regresión Logística\")"
   ]
  },
  {
   "cell_type": "markdown",
   "id": "1ecbbab8",
   "metadata": {},
   "source": [
    "Como se esperaba por el desbalance de datos el modelo es mejor clasificando tweets positivos que negativos, principalmente confundiendo los positivos negativos por positivos. Sin embargo, los estadísticas son favorables pudiendod clasificar poco más del 80% de los datos analizados."
   ]
  },
  {
   "cell_type": "markdown",
   "id": "11029188",
   "metadata": {},
   "source": [
    "### Support Vector Machines"
   ]
  },
  {
   "cell_type": "code",
   "execution_count": 23,
   "id": "96517ec3",
   "metadata": {},
   "outputs": [],
   "source": [
    "def create_svm_model():\n",
    "    \"\"\"\n",
    "    Crea pipeline de SVM con TF-IDF\n",
    "    \"\"\"\n",
    "    pipeline = Pipeline([\n",
    "        ('tfidf', TfidfVectorizer(\n",
    "            max_features=10000,\n",
    "            ngram_range=(1, 2),\n",
    "            min_df=2,\n",
    "            max_df=0.95,\n",
    "            lowercase=True,\n",
    "            stop_words='english'\n",
    "        )),\n",
    "        ('classifier', SVC(\n",
    "            kernel='linear',\n",
    "            random_state=42,\n",
    "            probability=True  # Para calcular ROC-AUC\n",
    "        ))\n",
    "    ])\n",
    "    \n",
    "    # Grid de hiperparámetros para optimización\n",
    "    param_grid = {\n",
    "        'tfidf__max_features': [8000, 10000, 12000],\n",
    "        'tfidf__ngram_range': [(1, 1), (1, 2)],\n",
    "        'classifier__C': [0.1, 1.0, 10.0]\n",
    "    }\n",
    "    \n",
    "    return pipeline, param_grid"
   ]
  },
  {
   "cell_type": "code",
   "execution_count": 24,
   "id": "3a5138a8",
   "metadata": {},
   "outputs": [
    {
     "name": "stdout",
     "output_type": "stream",
     "text": [
      "\n",
      "=== ENTRENANDO SVM ===\n",
      "Ejecutando Grid Search para encontrar mejores hiperparámetros...\n",
      "Fitting 5 folds for each of 18 candidates, totalling 90 fits\n",
      "✓ SVM entrenado\n",
      "Mejores parámetros: {'classifier__C': 1.0, 'tfidf__max_features': 8000, 'tfidf__ngram_range': (1, 2)}\n",
      "Mejor F1-Score (CV): 0.7296\n",
      "\n",
      "=== EVALUACIÓN SVM ===\n",
      "Accuracy: 0.8083\n",
      "Precision: 0.8159\n",
      "Recall: 0.7152\n",
      "F1-Score: 0.7622\n",
      "ROC-AUC: 0.8611\n",
      "\n",
      "Reporte de clasificación detallado:\n",
      "              precision    recall  f1-score   support\n",
      "\n",
      "Positivo (0)       0.80      0.88      0.84      1086\n",
      "Negativo (1)       0.82      0.72      0.76       818\n",
      "\n",
      "    accuracy                           0.81      1904\n",
      "   macro avg       0.81      0.80      0.80      1904\n",
      "weighted avg       0.81      0.81      0.81      1904\n",
      "\n"
     ]
    }
   ],
   "source": [
    "svm_pipeline, svm_param_grid = create_svm_model()\n",
    "svm_model = train_and_optimize_model(svm_pipeline, svm_param_grid, \n",
    "                                   X_train, y_train, \"SVM\")\n",
    "svm_results = evaluate_model(svm_model, X_test, y_test, \"SVM\")"
   ]
  },
  {
   "cell_type": "code",
   "execution_count": 25,
   "id": "a506b9a6",
   "metadata": {},
   "outputs": [
    {
     "data": {
      "image/png": "[encoded data removed]",
      "text/plain": [
       "<Figure size 800x600 with 2 Axes>"
      ]
     },
     "metadata": {},
     "output_type": "display_data"
    }
   ],
   "source": [
    "plot_confusion_matrices(svm_results, y_test, \"SVM\")"
   ]
  },
  {
   "cell_type": "markdown",
   "id": "1498c0d6",
   "metadata": {},
   "source": [
    "El modelo hecho con SVM tuvo un rendimiento sumament similar al realizado con regresión logística. Sin embargo, se tomó mucho más tiempo en entrenar, al rededor de 20 veces más (2 min aproximadamente), y a pesar de hecho tuvo un accuracy de 81%, 1% menor que con regresión logística."
   ]
  },
  {
   "cell_type": "markdown",
   "id": "648d8829",
   "metadata": {},
   "source": [
    "### XGBoost"
   ]
  },
  {
   "cell_type": "code",
   "execution_count": 26,
   "id": "30cc33fc",
   "metadata": {},
   "outputs": [],
   "source": [
    "def create_xgboost_model():\n",
    "    \"\"\"\n",
    "    Crea pipeline de XGBoost con TF-IDF optimizado para sentimiento\n",
    "    \"\"\"\n",
    "    pipeline = Pipeline([\n",
    "        ('tfidf', TfidfVectorizer(\n",
    "            max_features=15000,        # Más features para XGBoost\n",
    "            ngram_range=(1, 3),        # Incluir trigramas para mejor contexto\n",
    "            min_df=2,                  # Palabra debe aparecer al menos 2 veces\n",
    "            max_df=0.95,               # Ignorar palabras muy frecuentes\n",
    "            lowercase=True,\n",
    "            stop_words='english',\n",
    "            sublinear_tf=True,         # Escala logarítmica para TF\n",
    "            use_idf=True,\n",
    "            smooth_idf=True\n",
    "        )),\n",
    "        ('classifier', XGBClassifier(\n",
    "            random_state=42,\n",
    "            eval_metric='logloss',     # Para clasificación binaria\n",
    "            use_label_encoder=False,   # Evitar warnings\n",
    "            n_jobs=-1                  # Usar todos los cores\n",
    "        ))\n",
    "    ])\n",
    "    \n",
    "    param_grid = {\n",
    "        # Parámetros TF-IDF\n",
    "        'tfidf__max_features': [10000, 13000],    # 3 valores\n",
    "        'tfidf__ngram_range': [(1, 2), (1, 3)],         # Incluir trigramas de nuevo\n",
    "        'tfidf__min_df': [2],                        # Frecuencia mínima\n",
    "    \n",
    "        # Parámetros XGBoost principales\n",
    "        'classifier__n_estimators': [150, 200, 250],    # 3 valores\n",
    "        'classifier__max_depth': [3, 4, 5],             # Profundidad del árbol\n",
    "        'classifier__learning_rate': [0.1, 0.15, 0.2], # Tasa de aprendizaje\n",
    "        \n",
    "        # Parámetros de regularización (importantes para texto)\n",
    "        # 'classifier__subsample': [0.8, 0.9],           # Muestreo de filas\n",
    "        'classifier__colsample_bytree': [0.8, 0.9],    # Muestreo de features\n",
    "    }\n",
    "    \n",
    "    \n",
    "    return pipeline, param_grid"
   ]
  },
  {
   "cell_type": "code",
   "execution_count": 27,
   "id": "0d58d4e7",
   "metadata": {},
   "outputs": [
    {
     "name": "stdout",
     "output_type": "stream",
     "text": [
      "\n",
      "=== ENTRENANDO XGBOOST ===\n",
      "Ejecutando Grid Search para encontrar mejores hiperparámetros...\n",
      "Fitting 5 folds for each of 216 candidates, totalling 1080 fits\n",
      "✓ XGBoost entrenado\n",
      "Mejores parámetros: {'classifier__colsample_bytree': 0.8, 'classifier__learning_rate': 0.2, 'classifier__max_depth': 5, 'classifier__n_estimators': 250, 'tfidf__max_features': 10000, 'tfidf__min_df': 2, 'tfidf__ngram_range': (1, 3)}\n",
      "Mejor F1-Score (CV): 0.6967\n",
      "\n",
      "=== EVALUACIÓN XGBOOST ===\n",
      "Accuracy: 0.7831\n",
      "Precision: 0.8179\n",
      "Recall: 0.6369\n",
      "F1-Score: 0.7162\n",
      "ROC-AUC: 0.8451\n",
      "\n",
      "Reporte de clasificación detallado:\n",
      "              precision    recall  f1-score   support\n",
      "\n",
      "Positivo (0)       0.77      0.89      0.82      1086\n",
      "Negativo (1)       0.82      0.64      0.72       818\n",
      "\n",
      "    accuracy                           0.78      1904\n",
      "   macro avg       0.79      0.77      0.77      1904\n",
      "weighted avg       0.79      0.78      0.78      1904\n",
      "\n"
     ]
    }
   ],
   "source": [
    "xgboost_pipeline, xgboost_param_grid = create_xgboost_model()\n",
    "xgboost_model = train_and_optimize_model(xgboost_pipeline, xgboost_param_grid, \n",
    "                                   X_train, y_train, \"XGBoost\")\n",
    "xgboost = evaluate_model(xgboost_model, X_test, y_test, \"XGBoost\")"
   ]
  },
  {
   "cell_type": "code",
   "execution_count": 28,
   "id": "d87ae1a6",
   "metadata": {},
   "outputs": [
    {
     "data": {
      "image/png": "[encoded data removed]",
      "text/plain": [
       "<Figure size 800x600 with 2 Axes>"
      ]
     },
     "metadata": {},
     "output_type": "display_data"
    }
   ],
   "source": [
    "plot_confusion_matrices(xgboost, y_test, \"Regresión Logística\")"
   ]
  },
  {
   "cell_type": "markdown",
   "id": "ec059cc7",
   "metadata": {},
   "source": [
    "Por último se creo un modelo con XGBoost, el cúal tuvo el mayor tiempo de entrenamiento 3.5 minutos, sin embargo tuvo el peor rendimiento con un accuracy de 78%. Probablemente modelos de aprendizaje profundo podrían tener mejores predicciones pero también es cierto que requieren de más tiempo de aprendizaje y gran cantidad de datos, razón por la cuál no se escogieron para este estudio."
   ]
  },
  {
   "cell_type": "markdown",
   "id": "a8eb278f",
   "metadata": {},
   "source": [
    "## Clasificación de tweets usando léxicos"
   ]
  },
  {
   "cell_type": "markdown",
   "id": "8a11c9a6",
   "metadata": {},
   "source": [
    "Para la clasificación de palabras se utilizó el lexico creado por el usuario fnielsen y públicado en github, conteniendo 2477 en conjunto con un pontaje de que tan positivas o negativas son. "
   ]
  },
  {
   "cell_type": "code",
   "execution_count": 33,
   "id": "8c67dd2f",
   "metadata": {},
   "outputs": [
    {
     "name": "stdout",
     "output_type": "stream",
     "text": [
      "✓ AFINN léxico cargado: 2477 palabras\n"
     ]
    }
   ],
   "source": [
    "def download_afinn_lexicon():\n",
    "    url = \"https://raw.githubusercontent.com/fnielsen/afinn/master/afinn/data/AFINN-111.txt\"\n",
    "    try:\n",
    "        response = requests.get(url)\n",
    "        afinn_dict = {}\n",
    "        \n",
    "        for line in response.text.strip().split('\\n'):\n",
    "            word, score = line.split('\\t')\n",
    "            afinn_dict[word] = int(score)\n",
    "        \n",
    "        print(f\"✓ AFINN léxico cargado: {len(afinn_dict)} palabras\")\n",
    "        return afinn_dict\n",
    "    except Exception as e:\n",
    "        print(f\"Error descargando AFINN: {e}\")\n",
    "        return {}\n",
    "\n",
    "afinn_lexicon = download_afinn_lexicon()"
   ]
  },
  {
   "cell_type": "code",
   "execution_count": 34,
   "id": "c56802bc",
   "metadata": {},
   "outputs": [],
   "source": [
    "def classify_word_sentiment(word):\n",
    "    word_lower = word.lower().strip()\n",
    "    \n",
    "    if word_lower in afinn_lexicon:\n",
    "        score = afinn_lexicon[word_lower]\n",
    "        if score > 0:\n",
    "            return 'positive', score, 'afinn'\n",
    "        elif score < 0:\n",
    "            return 'negative', abs(score), 'afinn'\n",
    "    \n",
    "    return 'neutral', 0, 'none'"
   ]
  },
  {
   "cell_type": "code",
   "execution_count": 35,
   "id": "c59006b8",
   "metadata": {},
   "outputs": [],
   "source": [
    "def analyze_tweet_words(word_list):\n",
    "    if not isinstance(word_list, list):\n",
    "        return None\n",
    "    \n",
    "    word_analysis = []\n",
    "    positive_words = []\n",
    "    negative_words = []\n",
    "    neutral_words = []\n",
    "    \n",
    "    total_positive_score = 0\n",
    "    total_negative_score = 0\n",
    "    \n",
    "    for word in word_list:\n",
    "        sentiment, score, source = classify_word_sentiment(word)\n",
    "        \n",
    "        word_info = {\n",
    "            'word': word,\n",
    "            'sentiment': sentiment,\n",
    "            'score': score,\n",
    "            'source': source\n",
    "        }\n",
    "        word_analysis.append(word_info)\n",
    "        \n",
    "        if sentiment == 'positive':\n",
    "            positive_words.append(word)\n",
    "            total_positive_score += score\n",
    "        elif sentiment == 'negative':\n",
    "            negative_words.append(word)\n",
    "            total_negative_score += score\n",
    "        else:\n",
    "            neutral_words.append(word)\n",
    "    \n",
    "    positive_count = len(positive_words)\n",
    "    negative_count = len(negative_words)\n",
    "    \n",
    "    net_score = total_positive_score - total_negative_score\n",
    "    \n",
    "    if positive_count > negative_count and positive_count > 0:\n",
    "        tweet_sentiment = 'positive'\n",
    "    elif negative_count > positive_count and negative_count > 0:\n",
    "        tweet_sentiment = 'negative'\n",
    "    elif net_score > 1:\n",
    "        tweet_sentiment = 'positive'\n",
    "    elif net_score < -1:\n",
    "        tweet_sentiment = 'negative'\n",
    "    else:\n",
    "        tweet_sentiment = 'neutral'\n",
    "    \n",
    "    return {\n",
    "        'word_analysis': word_analysis,\n",
    "        'summary': {\n",
    "            'tweet_sentiment': tweet_sentiment,\n",
    "            'net_score': net_score,\n",
    "            'negative_count': negative_count,\n",
    "        }\n",
    "    }"
   ]
  },
  {
   "cell_type": "code",
   "execution_count": 36,
   "id": "644f4596",
   "metadata": {},
   "outputs": [
    {
     "name": "stdout",
     "output_type": "stream",
     "text": [
      "Analizando sentimiento de 7613 tweets...\n",
      "Procesando tweet 0...\n",
      "Procesando tweet 1000...\n",
      "Procesando tweet 2000...\n",
      "Procesando tweet 3000...\n",
      "Procesando tweet 4000...\n",
      "Procesando tweet 5000...\n",
      "Procesando tweet 6000...\n",
      "Procesando tweet 7000...\n"
     ]
    }
   ],
   "source": [
    "def analyze_dataframe_sentiment(df, words_column='words'):\n",
    "    print(f\"Analizando sentimiento de {len(df)} tweets...\")\n",
    "    \n",
    "    results = []\n",
    "    for i, word_list in enumerate(df[words_column]):\n",
    "        if i % 1000 == 0:\n",
    "            print(f\"Procesando tweet {i}...\")\n",
    "        \n",
    "        analysis = analyze_tweet_words(word_list)\n",
    "        results.append(analysis)\n",
    "    \n",
    "    df = df.copy()\n",
    "    \n",
    "    df['net score'] = [r['summary']['net_score'] if r else 0 for r in results]\n",
    "    df['overall sentiment'] = [r['summary']['tweet_sentiment'] if r else 0 for r in results]\n",
    "    df['negative_count'] = [r['summary']['negative_count'] if r else 0 for r in results]\n",
    "    return df\n",
    "\n",
    "df_analyzed = analyze_dataframe_sentiment(df_train, \"tokens\")"
   ]
  },
  {
   "cell_type": "markdown",
   "id": "a236fce5",
   "metadata": {},
   "source": [
    "Utilizando el lexicon se le dio puntaje a los tweets basados en la suma neta de palabras consideradas positivas menos la palabras negativas."
   ]
  },
  {
   "cell_type": "code",
   "execution_count": 45,
   "id": "dbcfe6f5",
   "metadata": {},
   "outputs": [],
   "source": [
    "final = df_analyzed[['id', 'text_clean' , 'target' ,'net score', 'overall sentiment', 'negative_count']]"
   ]
  },
  {
   "cell_type": "markdown",
   "id": "e1599913",
   "metadata": {},
   "source": [
    "**Top 10 Tweets más negativos**"
   ]
  },
  {
   "cell_type": "markdown",
   "id": "01fd68c1",
   "metadata": {},
   "source": [
    "En general el 60% de los tweets más negativos corresponden con tweets que realmente estan categorizados como catastróficos, mostrando una correlación buena pero no prominente."
   ]
  },
  {
   "cell_type": "code",
   "execution_count": 46,
   "id": "0040eb06",
   "metadata": {},
   "outputs": [
    {
     "data": {
      "application/vnd.microsoft.datawrangler.viewer.v0+json": {
       "columns": [
        {
         "name": "index",
         "rawType": "int64",
         "type": "integer"
        },
        {
         "name": "id",
         "rawType": "int64",
         "type": "integer"
        },
        {
         "name": "text_clean",
         "rawType": "object",
         "type": "string"
        },
        {
         "name": "target",
         "rawType": "int64",
         "type": "integer"
        },
        {
         "name": "net score",
         "rawType": "int64",
         "type": "integer"
        },
        {
         "name": "overall sentiment",
         "rawType": "object",
         "type": "string"
        },
        {
         "name": "negative_count",
         "rawType": "int64",
         "type": "integer"
        }
       ],
       "ref": "5e73f590-4ffb-4712-bd2a-5b9b9777963d",
       "rows": [
        [
         "7472",
         "10689",
         "wreck wreck wreck wreck wreck wreck wreck wreck wreck wreck wreck wreck wreck",
         "0",
         "-26",
         "negative",
         "13"
        ],
        [
         "6980",
         "10011",
         "stop fucking saying whole nother sound fucking stupid fucking mean whole not fucking tonguetwister",
         "0",
         "-19",
         "negative",
         "6"
        ],
        [
         "6814",
         "9761",
         "im trapped damn gas pump two suv either side fuck dickhead",
         "0",
         "-14",
         "negative",
         "4"
        ],
        [
         "6414",
         "9172",
         "suicide bomber target saudi mosque least dead suicide bomber target saudi mosque least dead ridiculous",
         "1",
         "-13",
         "negative",
         "5"
        ],
        [
         "160",
         "231",
         "horrible accident man died wing airplane wtf believe eye",
         "1",
         "-12",
         "negative",
         "4"
        ],
        [
         "2154",
         "3091",
         "died horrible death trapped ship knew wa risk",
         "1",
         "-12",
         "negative",
         "5"
        ],
        [
         "2019",
         "2898",
         "real shit damage bitch",
         "0",
         "-12",
         "negative",
         "3"
        ],
        [
         "2410",
         "3469",
         "update nopassenger metro train derails causing terrible delay morning derailed train causing hell",
         "1",
         "-12",
         "negative",
         "5"
        ],
        [
         "2844",
         "4089",
         "crime killeddisplaced million systematic torture wa carried look grahamwp fired gun arrest",
         "1",
         "-12",
         "negative",
         "5"
        ],
        [
         "472",
         "682",
         "illegal alien released obamadhs time charged rape amp murder santa maria ca woman prior offense",
         "1",
         "-12",
         "negative",
         "4"
        ]
       ],
       "shape": {
        "columns": 6,
        "rows": 10
       }
      },
      "text/html": [
       "<div>\n",
       "<style scoped>\n",
       "    .dataframe tbody tr th:only-of-type {\n",
       "        vertical-align: middle;\n",
       "    }\n",
       "\n",
       "    .dataframe tbody tr th {\n",
       "        vertical-align: top;\n",
       "    }\n",
       "\n",
       "    .dataframe thead th {\n",
       "        text-align: right;\n",
       "    }\n",
       "</style>\n",
       "<table border=\"1\" class=\"dataframe\">\n",
       "  <thead>\n",
       "    <tr style=\"text-align: right;\">\n",
       "      <th></th>\n",
       "      <th>id</th>\n",
       "      <th>text_clean</th>\n",
       "      <th>target</th>\n",
       "      <th>net score</th>\n",
       "      <th>overall sentiment</th>\n",
       "      <th>negative_count</th>\n",
       "    </tr>\n",
       "  </thead>\n",
       "  <tbody>\n",
       "    <tr>\n",
       "      <th>7472</th>\n",
       "      <td>10689</td>\n",
       "      <td>wreck wreck wreck wreck wreck wreck wreck wrec...</td>\n",
       "      <td>0</td>\n",
       "      <td>-26</td>\n",
       "      <td>negative</td>\n",
       "      <td>13</td>\n",
       "    </tr>\n",
       "    <tr>\n",
       "      <th>6980</th>\n",
       "      <td>10011</td>\n",
       "      <td>stop fucking saying whole nother sound fucking...</td>\n",
       "      <td>0</td>\n",
       "      <td>-19</td>\n",
       "      <td>negative</td>\n",
       "      <td>6</td>\n",
       "    </tr>\n",
       "    <tr>\n",
       "      <th>6814</th>\n",
       "      <td>9761</td>\n",
       "      <td>im trapped damn gas pump two suv either side f...</td>\n",
       "      <td>0</td>\n",
       "      <td>-14</td>\n",
       "      <td>negative</td>\n",
       "      <td>4</td>\n",
       "    </tr>\n",
       "    <tr>\n",
       "      <th>6414</th>\n",
       "      <td>9172</td>\n",
       "      <td>suicide bomber target saudi mosque least dead ...</td>\n",
       "      <td>1</td>\n",
       "      <td>-13</td>\n",
       "      <td>negative</td>\n",
       "      <td>5</td>\n",
       "    </tr>\n",
       "    <tr>\n",
       "      <th>160</th>\n",
       "      <td>231</td>\n",
       "      <td>horrible accident man died wing airplane wtf b...</td>\n",
       "      <td>1</td>\n",
       "      <td>-12</td>\n",
       "      <td>negative</td>\n",
       "      <td>4</td>\n",
       "    </tr>\n",
       "    <tr>\n",
       "      <th>2154</th>\n",
       "      <td>3091</td>\n",
       "      <td>died horrible death trapped ship knew wa risk</td>\n",
       "      <td>1</td>\n",
       "      <td>-12</td>\n",
       "      <td>negative</td>\n",
       "      <td>5</td>\n",
       "    </tr>\n",
       "    <tr>\n",
       "      <th>2019</th>\n",
       "      <td>2898</td>\n",
       "      <td>real shit damage bitch</td>\n",
       "      <td>0</td>\n",
       "      <td>-12</td>\n",
       "      <td>negative</td>\n",
       "      <td>3</td>\n",
       "    </tr>\n",
       "    <tr>\n",
       "      <th>2410</th>\n",
       "      <td>3469</td>\n",
       "      <td>update nopassenger metro train derails causing...</td>\n",
       "      <td>1</td>\n",
       "      <td>-12</td>\n",
       "      <td>negative</td>\n",
       "      <td>5</td>\n",
       "    </tr>\n",
       "    <tr>\n",
       "      <th>2844</th>\n",
       "      <td>4089</td>\n",
       "      <td>crime killeddisplaced million systematic tortu...</td>\n",
       "      <td>1</td>\n",
       "      <td>-12</td>\n",
       "      <td>negative</td>\n",
       "      <td>5</td>\n",
       "    </tr>\n",
       "    <tr>\n",
       "      <th>472</th>\n",
       "      <td>682</td>\n",
       "      <td>illegal alien released obamadhs time charged r...</td>\n",
       "      <td>1</td>\n",
       "      <td>-12</td>\n",
       "      <td>negative</td>\n",
       "      <td>4</td>\n",
       "    </tr>\n",
       "  </tbody>\n",
       "</table>\n",
       "</div>"
      ],
      "text/plain": [
       "         id                                         text_clean  target  \\\n",
       "7472  10689  wreck wreck wreck wreck wreck wreck wreck wrec...       0   \n",
       "6980  10011  stop fucking saying whole nother sound fucking...       0   \n",
       "6814   9761  im trapped damn gas pump two suv either side f...       0   \n",
       "6414   9172  suicide bomber target saudi mosque least dead ...       1   \n",
       "160     231  horrible accident man died wing airplane wtf b...       1   \n",
       "2154   3091      died horrible death trapped ship knew wa risk       1   \n",
       "2019   2898                             real shit damage bitch       0   \n",
       "2410   3469  update nopassenger metro train derails causing...       1   \n",
       "2844   4089  crime killeddisplaced million systematic tortu...       1   \n",
       "472     682  illegal alien released obamadhs time charged r...       1   \n",
       "\n",
       "      net score overall sentiment  negative_count  \n",
       "7472        -26          negative              13  \n",
       "6980        -19          negative               6  \n",
       "6814        -14          negative               4  \n",
       "6414        -13          negative               5  \n",
       "160         -12          negative               4  \n",
       "2154        -12          negative               5  \n",
       "2019        -12          negative               3  \n",
       "2410        -12          negative               5  \n",
       "2844        -12          negative               5  \n",
       "472         -12          negative               4  "
      ]
     },
     "execution_count": 46,
     "metadata": {},
     "output_type": "execute_result"
    }
   ],
   "source": [
    "final.sort_values(by=\"net score\", ascending=True).head(10)"
   ]
  },
  {
   "cell_type": "markdown",
   "id": "4abc6fd9",
   "metadata": {},
   "source": [
    "**Top 10 Tweets más positivos**"
   ]
  },
  {
   "cell_type": "markdown",
   "id": "1a2b1206",
   "metadata": {},
   "source": [
    "Por el contrario, el puntaje de negatividad es mucho más exacto para frases positivas, el 90% de los tweets positivos son realmente categorizados como positivos."
   ]
  },
  {
   "cell_type": "code",
   "execution_count": 47,
   "id": "ec3f6783",
   "metadata": {},
   "outputs": [
    {
     "data": {
      "application/vnd.microsoft.datawrangler.viewer.v0+json": {
       "columns": [
        {
         "name": "index",
         "rawType": "int64",
         "type": "integer"
        },
        {
         "name": "id",
         "rawType": "int64",
         "type": "integer"
        },
        {
         "name": "text_clean",
         "rawType": "object",
         "type": "string"
        },
        {
         "name": "target",
         "rawType": "int64",
         "type": "integer"
        },
        {
         "name": "net score",
         "rawType": "int64",
         "type": "integer"
        },
        {
         "name": "overall sentiment",
         "rawType": "object",
         "type": "string"
        },
        {
         "name": "negative_count",
         "rawType": "int64",
         "type": "integer"
        }
       ],
       "ref": "ecf8c9a2-a338-40ae-be9e-0eabb0b87086",
       "rows": [
        [
         "6992",
         "10028",
         "check want twister ticket vip experience see shania click would love love love win",
         "0",
         "14",
         "positive",
         "0"
        ],
        [
         "5033",
         "7176",
         "first impression glad hat man leaving lieu interesting lady hope mudslide lady triumph next week",
         "0",
         "11",
         "positive",
         "0"
        ],
        [
         "1001",
         "1453",
         "im not drake fan enjoy seeing bodybagging people great marketing lol",
         "0",
         "11",
         "positive",
         "0"
        ],
        [
         "6292",
         "8989",
         "today storm pas let tomorrow light greet kiss bask loving warmth let soul return bliss",
         "1",
         "10",
         "positive",
         "0"
        ],
        [
         "3382",
         "4844",
         "enjoyed show today great fun emergency non evacuation wa interesting great run",
         "0",
         "10",
         "positive",
         "1"
        ],
        [
         "3163",
         "4541",
         "enjoyed show today great fun emergency non evacuation wa interesting great run",
         "0",
         "10",
         "positive",
         "1"
        ],
        [
         "1909",
         "2744",
         "disillusioned lead character check happy go lucky free spirit girl check dream life crushed check great music check crowe trope intact",
         "0",
         "10",
         "positive",
         "2"
        ],
        [
         "6560",
         "9386",
         "yeah survived season movie let hope good hope",
         "0",
         "10",
         "positive",
         "0"
        ],
        [
         "132",
         "191",
         "aftershock back school kick wa great want thank everyone making possible great night",
         "0",
         "9",
         "positive",
         "0"
        ],
        [
         "5656",
         "8068",
         "coastal german shepherd rescue oc shared link ecstatic rescued racco animalrescue",
         "0",
         "9",
         "positive",
         "0"
        ]
       ],
       "shape": {
        "columns": 6,
        "rows": 10
       }
      },
      "text/html": [
       "<div>\n",
       "<style scoped>\n",
       "    .dataframe tbody tr th:only-of-type {\n",
       "        vertical-align: middle;\n",
       "    }\n",
       "\n",
       "    .dataframe tbody tr th {\n",
       "        vertical-align: top;\n",
       "    }\n",
       "\n",
       "    .dataframe thead th {\n",
       "        text-align: right;\n",
       "    }\n",
       "</style>\n",
       "<table border=\"1\" class=\"dataframe\">\n",
       "  <thead>\n",
       "    <tr style=\"text-align: right;\">\n",
       "      <th></th>\n",
       "      <th>id</th>\n",
       "      <th>text_clean</th>\n",
       "      <th>target</th>\n",
       "      <th>net score</th>\n",
       "      <th>overall sentiment</th>\n",
       "      <th>negative_count</th>\n",
       "    </tr>\n",
       "  </thead>\n",
       "  <tbody>\n",
       "    <tr>\n",
       "      <th>6992</th>\n",
       "      <td>10028</td>\n",
       "      <td>check want twister ticket vip experience see s...</td>\n",
       "      <td>0</td>\n",
       "      <td>14</td>\n",
       "      <td>positive</td>\n",
       "      <td>0</td>\n",
       "    </tr>\n",
       "    <tr>\n",
       "      <th>5033</th>\n",
       "      <td>7176</td>\n",
       "      <td>first impression glad hat man leaving lieu int...</td>\n",
       "      <td>0</td>\n",
       "      <td>11</td>\n",
       "      <td>positive</td>\n",
       "      <td>0</td>\n",
       "    </tr>\n",
       "    <tr>\n",
       "      <th>1001</th>\n",
       "      <td>1453</td>\n",
       "      <td>im not drake fan enjoy seeing bodybagging peop...</td>\n",
       "      <td>0</td>\n",
       "      <td>11</td>\n",
       "      <td>positive</td>\n",
       "      <td>0</td>\n",
       "    </tr>\n",
       "    <tr>\n",
       "      <th>6292</th>\n",
       "      <td>8989</td>\n",
       "      <td>today storm pas let tomorrow light greet kiss ...</td>\n",
       "      <td>1</td>\n",
       "      <td>10</td>\n",
       "      <td>positive</td>\n",
       "      <td>0</td>\n",
       "    </tr>\n",
       "    <tr>\n",
       "      <th>3382</th>\n",
       "      <td>4844</td>\n",
       "      <td>enjoyed show today great fun emergency non eva...</td>\n",
       "      <td>0</td>\n",
       "      <td>10</td>\n",
       "      <td>positive</td>\n",
       "      <td>1</td>\n",
       "    </tr>\n",
       "    <tr>\n",
       "      <th>3163</th>\n",
       "      <td>4541</td>\n",
       "      <td>enjoyed show today great fun emergency non eva...</td>\n",
       "      <td>0</td>\n",
       "      <td>10</td>\n",
       "      <td>positive</td>\n",
       "      <td>1</td>\n",
       "    </tr>\n",
       "    <tr>\n",
       "      <th>1909</th>\n",
       "      <td>2744</td>\n",
       "      <td>disillusioned lead character check happy go lu...</td>\n",
       "      <td>0</td>\n",
       "      <td>10</td>\n",
       "      <td>positive</td>\n",
       "      <td>2</td>\n",
       "    </tr>\n",
       "    <tr>\n",
       "      <th>6560</th>\n",
       "      <td>9386</td>\n",
       "      <td>yeah survived season movie let hope good hope</td>\n",
       "      <td>0</td>\n",
       "      <td>10</td>\n",
       "      <td>positive</td>\n",
       "      <td>0</td>\n",
       "    </tr>\n",
       "    <tr>\n",
       "      <th>132</th>\n",
       "      <td>191</td>\n",
       "      <td>aftershock back school kick wa great want than...</td>\n",
       "      <td>0</td>\n",
       "      <td>9</td>\n",
       "      <td>positive</td>\n",
       "      <td>0</td>\n",
       "    </tr>\n",
       "    <tr>\n",
       "      <th>5656</th>\n",
       "      <td>8068</td>\n",
       "      <td>coastal german shepherd rescue oc shared link ...</td>\n",
       "      <td>0</td>\n",
       "      <td>9</td>\n",
       "      <td>positive</td>\n",
       "      <td>0</td>\n",
       "    </tr>\n",
       "  </tbody>\n",
       "</table>\n",
       "</div>"
      ],
      "text/plain": [
       "         id                                         text_clean  target  \\\n",
       "6992  10028  check want twister ticket vip experience see s...       0   \n",
       "5033   7176  first impression glad hat man leaving lieu int...       0   \n",
       "1001   1453  im not drake fan enjoy seeing bodybagging peop...       0   \n",
       "6292   8989  today storm pas let tomorrow light greet kiss ...       1   \n",
       "3382   4844  enjoyed show today great fun emergency non eva...       0   \n",
       "3163   4541  enjoyed show today great fun emergency non eva...       0   \n",
       "1909   2744  disillusioned lead character check happy go lu...       0   \n",
       "6560   9386      yeah survived season movie let hope good hope       0   \n",
       "132     191  aftershock back school kick wa great want than...       0   \n",
       "5656   8068  coastal german shepherd rescue oc shared link ...       0   \n",
       "\n",
       "      net score overall sentiment  negative_count  \n",
       "6992         14          positive               0  \n",
       "5033         11          positive               0  \n",
       "1001         11          positive               0  \n",
       "6292         10          positive               0  \n",
       "3382         10          positive               1  \n",
       "3163         10          positive               1  \n",
       "1909         10          positive               2  \n",
       "6560         10          positive               0  \n",
       "132           9          positive               0  \n",
       "5656          9          positive               0  "
      ]
     },
     "execution_count": 47,
     "metadata": {},
     "output_type": "execute_result"
    }
   ],
   "source": [
    "final.sort_values(by=\"net score\", ascending=False).head(10)"
   ]
  },
  {
   "cell_type": "markdown",
   "id": "d223dbc8",
   "metadata": {},
   "source": [
    "# Conclusiones"
   ]
  }
 ],
 "metadata": {
  "kernelspec": {
   "display_name": ".venv",
   "language": "python",
   "name": "python3"
  },
  "language_info": {
   "codemirror_mode": {
    "name": "ipython",
    "version": 3
   },
   "file_extension": ".py",
   "mimetype": "text/x-python",
   "name": "python",
   "nbconvert_exporter": "python",
   "pygments_lexer": "ipython3",
   "version": "3.13.5"
  }
 },
 "nbformat": 4,
 "nbformat_minor": 5
}
