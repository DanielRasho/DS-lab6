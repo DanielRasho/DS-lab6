{
 "cells": [
  {
   "cell_type": "markdown",
   "id": "344c8597",
   "metadata": {},
   "source": [
    "# Lab 5\n",
    "\n",
    "Daniel Alfredo Rayo Roldan\n",
    "\n",
    "Gerardo Gabriel Pineda Riveiro\n",
    "\n",
    "https://github.com/DanielRasho/DS-lab6"
   ]
  },
  {
   "cell_type": "code",
   "execution_count": 42,
   "id": "7a1d090b",
   "metadata": {},
   "outputs": [],
   "source": [
    "import pandas as pd\n",
    "import numpy as np\n",
    "import matplotlib.pyplot as plt\n",
    "import seaborn as sns\n",
    "from wordcloud import WordCloud\n",
    "import re\n",
    "import string\n",
    "from collections import Counter\n",
    "import nltk\n",
    "from nltk.corpus import stopwords as nltk_stop\n",
    "from nltk.util import ngrams\n",
    "from nltk.tokenize import TweetTokenizer\n",
    "from nltk.stem import WordNetLemmatizer\n",
    "import warnings\n",
    "from vaderSentiment.vaderSentiment import SentimentIntensityAnalyzer\n",
    "warnings.filterwarnings('ignore')"
   ]
  },
  {
   "cell_type": "code",
   "execution_count": 37,
   "id": "66987d8c",
   "metadata": {},
   "outputs": [
    {
     "data": {
      "application/vnd.microsoft.datawrangler.viewer.v0+json": {
       "columns": [
        {
         "name": "index",
         "rawType": "int64",
         "type": "integer"
        },
        {
         "name": "id",
         "rawType": "int64",
         "type": "integer"
        },
        {
         "name": "keyword",
         "rawType": "object",
         "type": "unknown"
        },
        {
         "name": "location",
         "rawType": "object",
         "type": "unknown"
        },
        {
         "name": "text",
         "rawType": "object",
         "type": "string"
        },
        {
         "name": "target",
         "rawType": "int64",
         "type": "integer"
        }
       ],
       "ref": "7a558b7a-5344-4936-a417-c04f2f88fbb0",
       "rows": [
        [
         "0",
         "1",
         null,
         null,
         "Our Deeds are the Reason of this #earthquake May ALLAH Forgive us all",
         "1"
        ],
        [
         "1",
         "4",
         null,
         null,
         "Forest fire near La Ronge Sask. Canada",
         "1"
        ],
        [
         "2",
         "5",
         null,
         null,
         "All residents asked to 'shelter in place' are being notified by officers. No other evacuation or shelter in place orders are expected",
         "1"
        ],
        [
         "3",
         "6",
         null,
         null,
         "13,000 people receive #wildfires evacuation orders in California ",
         "1"
        ],
        [
         "4",
         "7",
         null,
         null,
         "Just got sent this photo from Ruby #Alaska as smoke from #wildfires pours into a school ",
         "1"
        ]
       ],
       "shape": {
        "columns": 5,
        "rows": 5
       }
      },
      "text/html": [
       "<div>\n",
       "<style scoped>\n",
       "    .dataframe tbody tr th:only-of-type {\n",
       "        vertical-align: middle;\n",
       "    }\n",
       "\n",
       "    .dataframe tbody tr th {\n",
       "        vertical-align: top;\n",
       "    }\n",
       "\n",
       "    .dataframe thead th {\n",
       "        text-align: right;\n",
       "    }\n",
       "</style>\n",
       "<table border=\"1\" class=\"dataframe\">\n",
       "  <thead>\n",
       "    <tr style=\"text-align: right;\">\n",
       "      <th></th>\n",
       "      <th>id</th>\n",
       "      <th>keyword</th>\n",
       "      <th>location</th>\n",
       "      <th>text</th>\n",
       "      <th>target</th>\n",
       "    </tr>\n",
       "  </thead>\n",
       "  <tbody>\n",
       "    <tr>\n",
       "      <th>0</th>\n",
       "      <td>1</td>\n",
       "      <td>NaN</td>\n",
       "      <td>NaN</td>\n",
       "      <td>Our Deeds are the Reason of this #earthquake M...</td>\n",
       "      <td>1</td>\n",
       "    </tr>\n",
       "    <tr>\n",
       "      <th>1</th>\n",
       "      <td>4</td>\n",
       "      <td>NaN</td>\n",
       "      <td>NaN</td>\n",
       "      <td>Forest fire near La Ronge Sask. Canada</td>\n",
       "      <td>1</td>\n",
       "    </tr>\n",
       "    <tr>\n",
       "      <th>2</th>\n",
       "      <td>5</td>\n",
       "      <td>NaN</td>\n",
       "      <td>NaN</td>\n",
       "      <td>All residents asked to 'shelter in place' are ...</td>\n",
       "      <td>1</td>\n",
       "    </tr>\n",
       "    <tr>\n",
       "      <th>3</th>\n",
       "      <td>6</td>\n",
       "      <td>NaN</td>\n",
       "      <td>NaN</td>\n",
       "      <td>13,000 people receive #wildfires evacuation or...</td>\n",
       "      <td>1</td>\n",
       "    </tr>\n",
       "    <tr>\n",
       "      <th>4</th>\n",
       "      <td>7</td>\n",
       "      <td>NaN</td>\n",
       "      <td>NaN</td>\n",
       "      <td>Just got sent this photo from Ruby #Alaska as ...</td>\n",
       "      <td>1</td>\n",
       "    </tr>\n",
       "  </tbody>\n",
       "</table>\n",
       "</div>"
      ],
      "text/plain": [
       "   id keyword location                                               text  \\\n",
       "0   1     NaN      NaN  Our Deeds are the Reason of this #earthquake M...   \n",
       "1   4     NaN      NaN             Forest fire near La Ronge Sask. Canada   \n",
       "2   5     NaN      NaN  All residents asked to 'shelter in place' are ...   \n",
       "3   6     NaN      NaN  13,000 people receive #wildfires evacuation or...   \n",
       "4   7     NaN      NaN  Just got sent this photo from Ruby #Alaska as ...   \n",
       "\n",
       "   target  \n",
       "0       1  \n",
       "1       1  \n",
       "2       1  \n",
       "3       1  \n",
       "4       1  "
      ]
     },
     "execution_count": 37,
     "metadata": {},
     "output_type": "execute_result"
    }
   ],
   "source": [
    "df_train = pd.read_csv(\"./data/train.csv\")\n",
    "\n",
    "df_train.head()"
   ]
  },
  {
   "cell_type": "code",
   "execution_count": 35,
   "id": "e0c6418e",
   "metadata": {},
   "outputs": [
    {
     "name": "stdout",
     "output_type": "stream",
     "text": [
      "Número de filas: 7613\n",
      "Número de columnas: 5\n",
      "\n",
      "Columnas: ['id', 'keyword', 'location', 'text', 'target']\n",
      "\n",
      "Tipos de datos:\n"
     ]
    },
    {
     "data": {
      "application/vnd.microsoft.datawrangler.viewer.v0+json": {
       "columns": [
        {
         "name": "index",
         "rawType": "object",
         "type": "string"
        },
        {
         "name": "0",
         "rawType": "object",
         "type": "unknown"
        }
       ],
       "ref": "e53c0ac6-15e1-47ee-a289-93b8caa0eced",
       "rows": [
        [
         "id",
         "int64"
        ],
        [
         "keyword",
         "object"
        ],
        [
         "location",
         "object"
        ],
        [
         "text",
         "object"
        ],
        [
         "target",
         "int64"
        ]
       ],
       "shape": {
        "columns": 1,
        "rows": 5
       }
      },
      "text/plain": [
       "id           int64\n",
       "keyword     object\n",
       "location    object\n",
       "text        object\n",
       "target       int64\n",
       "dtype: object"
      ]
     },
     "execution_count": 35,
     "metadata": {},
     "output_type": "execute_result"
    }
   ],
   "source": [
    "print(f\"Número de filas: {df_train.shape[0]}\")\n",
    "print(f\"Número de columnas: {df_train.shape[1]}\")\n",
    "print(f\"\\nColumnas: {list(df_train.columns)}\")\n",
    "print(f\"\\nTipos de datos:\")\n",
    "df_train.dtypes"
   ]
  },
  {
   "cell_type": "markdown",
   "id": "281c55e5",
   "metadata": {},
   "source": [
    "## Análisis Exploratorio"
   ]
  },
  {
   "cell_type": "markdown",
   "id": "1ed9f69e",
   "metadata": {},
   "source": [
    "### Valores faltantes"
   ]
  },
  {
   "cell_type": "code",
   "execution_count": 14,
   "id": "b85d6d35",
   "metadata": {},
   "outputs": [
    {
     "data": {
      "application/vnd.microsoft.datawrangler.viewer.v0+json": {
       "columns": [
        {
         "name": "index",
         "rawType": "int64",
         "type": "integer"
        },
        {
         "name": "Columna",
         "rawType": "object",
         "type": "string"
        },
        {
         "name": "Valores Faltantes",
         "rawType": "int64",
         "type": "integer"
        },
        {
         "name": "Porcentaje",
         "rawType": "float64",
         "type": "float"
        }
       ],
       "ref": "3d4c1ee5-1713-4418-9a6b-9aac7064349c",
       "rows": [
        [
         "0",
         "id",
         "0",
         "0.0"
        ],
        [
         "1",
         "keyword",
         "61",
         "0.8012610009194797"
        ],
        [
         "2",
         "location",
         "2533",
         "33.27203467752528"
        ],
        [
         "3",
         "text",
         "0",
         "0.0"
        ],
        [
         "4",
         "target",
         "0",
         "0.0"
        ]
       ],
       "shape": {
        "columns": 3,
        "rows": 5
       }
      },
      "text/html": [
       "<div>\n",
       "<style scoped>\n",
       "    .dataframe tbody tr th:only-of-type {\n",
       "        vertical-align: middle;\n",
       "    }\n",
       "\n",
       "    .dataframe tbody tr th {\n",
       "        vertical-align: top;\n",
       "    }\n",
       "\n",
       "    .dataframe thead th {\n",
       "        text-align: right;\n",
       "    }\n",
       "</style>\n",
       "<table border=\"1\" class=\"dataframe\">\n",
       "  <thead>\n",
       "    <tr style=\"text-align: right;\">\n",
       "      <th></th>\n",
       "      <th>Columna</th>\n",
       "      <th>Valores Faltantes</th>\n",
       "      <th>Porcentaje</th>\n",
       "    </tr>\n",
       "  </thead>\n",
       "  <tbody>\n",
       "    <tr>\n",
       "      <th>0</th>\n",
       "      <td>id</td>\n",
       "      <td>0</td>\n",
       "      <td>0.000000</td>\n",
       "    </tr>\n",
       "    <tr>\n",
       "      <th>1</th>\n",
       "      <td>keyword</td>\n",
       "      <td>61</td>\n",
       "      <td>0.801261</td>\n",
       "    </tr>\n",
       "    <tr>\n",
       "      <th>2</th>\n",
       "      <td>location</td>\n",
       "      <td>2533</td>\n",
       "      <td>33.272035</td>\n",
       "    </tr>\n",
       "    <tr>\n",
       "      <th>3</th>\n",
       "      <td>text</td>\n",
       "      <td>0</td>\n",
       "      <td>0.000000</td>\n",
       "    </tr>\n",
       "    <tr>\n",
       "      <th>4</th>\n",
       "      <td>target</td>\n",
       "      <td>0</td>\n",
       "      <td>0.000000</td>\n",
       "    </tr>\n",
       "  </tbody>\n",
       "</table>\n",
       "</div>"
      ],
      "text/plain": [
       "    Columna  Valores Faltantes  Porcentaje\n",
       "0        id                  0    0.000000\n",
       "1   keyword                 61    0.801261\n",
       "2  location               2533   33.272035\n",
       "3      text                  0    0.000000\n",
       "4    target                  0    0.000000"
      ]
     },
     "execution_count": 14,
     "metadata": {},
     "output_type": "execute_result"
    }
   ],
   "source": [
    "missing_values = df_train.isnull().sum()\n",
    "missing_percent = (missing_values / len(df_train)) * 100\n",
    "\n",
    "missing_df = pd.DataFrame({\n",
    "    'Columna': missing_values.index,\n",
    "    'Valores Faltantes': missing_values.values,\n",
    "    'Porcentaje': missing_percent.values\n",
    "})\n",
    "missing_df"
   ]
  },
  {
   "cell_type": "markdown",
   "id": "98c18794",
   "metadata": {},
   "source": [
    "### Distribución de variable objetivo"
   ]
  },
  {
   "cell_type": "code",
   "execution_count": 34,
   "id": "217b3bf5",
   "metadata": {},
   "outputs": [
    {
     "name": "stdout",
     "output_type": "stream",
     "text": [
      "Tweets NO desastre (0): 4342 (57.0%)\n",
      "Tweets de desastre (1): 3271 (43.0%)\n"
     ]
    },
    {
     "data": {
      "image/png": "[encoded data removed]",
      "text/plain": [
       "<Figure size 1200x500 with 1 Axes>"
      ]
     },
     "metadata": {},
     "output_type": "display_data"
    }
   ],
   "source": [
    "# Distribución de la variable objetivo\n",
    "target_counts = df_train['target'].value_counts()\n",
    "print(f\"Tweets NO desastre (0): {target_counts[0]} ({target_counts[0]/len(df_train)*100:.1f}%)\")\n",
    "print(f\"Tweets de desastre (1): {target_counts[1]} ({target_counts[1]/len(df_train)*100:.1f}%)\")\n",
    "\n",
    "# Visualización de la distribución\n",
    "fig, (ax1) = plt.subplots(1, 1, figsize=(12, 5))\n",
    "\n",
    "# Gráfico de barras\n",
    "target_counts.plot(kind='bar', ax=ax1, color=['skyblue', 'salmon'])\n",
    "ax1.set_title('Distribución de Tweets por Categoría')\n",
    "ax1.set_xlabel('Categoría (0: No Desastre, 1: Desastre)')\n",
    "ax1.set_ylabel('Número de Tweets')\n",
    "ax1.tick_params(axis='x', rotation=0)\n",
    "\n",
    "plt.tight_layout()\n",
    "plt.show()"
   ]
  },
  {
   "cell_type": "code",
   "execution_count": 24,
   "id": "9c662c63",
   "metadata": {},
   "outputs": [
    {
     "name": "stdout",
     "output_type": "stream",
     "text": [
      "\n",
      "=== EJEMPLOS DE TWEETS ===\n",
      "Tweets de DESASTRE:\n",
      "1. Our Deeds are the Reason of this #earthquake May ALLAH Forgive us all\n",
      "2. Forest fire near La Ronge Sask. Canada\n",
      "3. All residents asked to 'shelter in place' are being notified by officers. No other evacuation or shelter in place orders are expected\n",
      "\n",
      "Tweets NO de desastre:\n",
      "1. What's up man?\n",
      "2. I love fruits\n",
      "3. Summer is lovely\n"
     ]
    }
   ],
   "source": [
    "# Ejemplos de tweets por categoría\n",
    "print(\"\\n=== EJEMPLOS DE TWEETS ===\")\n",
    "print(\"Tweets de DESASTRE:\")\n",
    "for i, tweet in enumerate(df_train[df_train['target']==1]['text'].head(3)):\n",
    "    print(f\"{i+1}. {tweet}\")\n",
    "\n",
    "print(\"\\nTweets NO de desastre:\")\n",
    "for i, tweet in enumerate(df_train[df_train['target']==0]['text'].head(3)):\n",
    "    print(f\"{i+1}. {tweet}\")"
   ]
  },
  {
   "cell_type": "markdown",
   "id": "e9055443",
   "metadata": {},
   "source": [
    "# Preprocesamiento"
   ]
  },
  {
   "cell_type": "code",
   "execution_count": null,
   "id": "d340aaae",
   "metadata": {},
   "outputs": [
    {
     "name": "stderr",
     "output_type": "stream",
     "text": [
      "[nltk_data] Downloading package stopwords to /home/smaug/nltk_data...\n",
      "[nltk_data]   Package stopwords is already up-to-date!\n",
      "[nltk_data] Downloading package wordnet to /home/smaug/nltk_data...\n",
      "[nltk_data] Downloading package omw-1.4 to /home/smaug/nltk_data...\n"
     ]
    }
   ],
   "source": [
    "nltk.download(\"stopwords\"); nltk.download(\"wordnet\"); nltk.download(\"omw-1.4\")\n",
    "tt = TweetTokenizer(preserve_case=not True, reduce_len=True, strip_handles=False)\n",
    "wnl = WordNetLemmatizer()"
   ]
  },
  {
   "cell_type": "code",
   "execution_count": 43,
   "id": "0259787b",
   "metadata": {},
   "outputs": [],
   "source": [
    "stopwords = set(nltk_stop.words(\"english\"))\n",
    "negs = {\"no\",\"not\",\"n't\"}\n",
    "stopwords = {w for w in stopwords if w.lower() not in negs}"
   ]
  },
  {
   "cell_type": "code",
   "execution_count": 44,
   "id": "225e9f7d",
   "metadata": {},
   "outputs": [],
   "source": [
    "URL_RE = re.compile(r\"(https?://\\S+|www\\.\\S+)\")\n",
    "MENTION_RE = re.compile(r\"@\\w+\")\n",
    "HASHTAG_RE = re.compile(r\"#(\\w+)\")\n",
    "APOSTROPHES_RE = re.compile(r\"[’`´]\")\n",
    "EMOJI_RE = re.compile(\n",
    "    \"[\"\n",
    "    \"\\U0001F600-\\U0001F64F\"  # emoticons\n",
    "    \"\\U0001F300-\\U0001F5FF\"  # symbols & pictographs\n",
    "    \"\\U0001F680-\\U0001F6FF\"  # transport & map\n",
    "    \"\\U0001F1E0-\\U0001F1FF\"  # flags\n",
    "    \"\\U00002702-\\U000027B0\"\n",
    "    \"\\U000024C2-\\U0001F251\"\n",
    "    \"]+\", flags=re.UNICODE\n",
    ")\n",
    "NUMBER_RE = re.compile(r\"\\b\\d+(?:[.,]\\d+)*\\b\")\n",
    "\n",
    "PUNCT_TABLE = str.maketrans(\"\", \"\", string.punctuation)"
   ]
  },
  {
   "cell_type": "code",
   "execution_count": null,
   "id": "ed88349f",
   "metadata": {},
   "outputs": [],
   "source": [
    "def count_pattern(pat, text):\n",
    "    return len(pat.findall(text))\n",
    "\n",
    "def clean_raw(text: str) -> dict:\n",
    "    original = text\n",
    "\n",
    "    \n",
    "    text = text.lower()\n",
    "\n",
    "    urls = mentions = emojis = hashtags = numbers = 0\n",
    "\n",
    "    urls = count_pattern(URL_RE, text)\n",
    "    text = URL_RE.sub(\" \", text)\n",
    "\n",
    "    mentions = count_pattern(MENTION_RE, text)\n",
    "    text = MENTION_RE.sub(\" \", text)\n",
    "\n",
    "    hashtags = count_pattern(HASHTAG_RE, text)\n",
    "    text = HASHTAG_RE.sub(lambda m: m.group(1), text)\n",
    "\n",
    "    text = APOSTROPHES_RE.sub(\"'\", text)\n",
    "\n",
    "    if True: # Cambiar esto para cambiarlos emojis (si queres rayo)\n",
    "        emojis = len(EMOJI_RE.findall(text))\n",
    "        text = EMOJI_RE.sub(\" \", text)\n",
    "\n",
    "    # Aqui estan los numeros solo vamos a dejar el 911\n",
    "    def num_filter(m):\n",
    "        tok = m.group(0)\n",
    "        return tok if tok in {\"911\"} else \" \"\n",
    "    numbers = len(NUMBER_RE.findall(text))\n",
    "    text = NUMBER_RE.sub(num_filter, text)\n",
    "\n",
    "    text = text.translate(PUNCT_TABLE)\n",
    "\n",
    "    text = re.sub(r\"\\s+\", \" \", text).strip()\n",
    "\n",
    "    return {\n",
    "        \"text_raw\": original,\n",
    "        \"text_clean_raw\": text,\n",
    "        \"urls_removed\": urls,\n",
    "        \"mentions_removed\": mentions,\n",
    "        \"emojis_removed\": emojis,\n",
    "        \"hashtags_unhashed\": hashtags,\n",
    "        \"numbers_affected\": numbers\n",
    "    }\n",
    "\n",
    "clean_rows = df_train[\"text\"].map(clean_raw)\n",
    "clean_df = pd.DataFrame(list(clean_rows))\n",
    "df_train = pd.concat([df_train, clean_df], axis=1)"
   ]
  },
  {
   "cell_type": "code",
   "execution_count": null,
   "id": "dc4310e2",
   "metadata": {},
   "outputs": [],
   "source": [
    "def tokenize_and_normalize(text: str):\n",
    "    tokens = []\n",
    "    toks = tt.tokenize(text)\n",
    "    toks = [t for t in toks if all(ch not in string.punctuation for ch in t)]\n",
    "    toks = [wnl.lemmatize(t) for t in toks]\n",
    "    # stopwords\n",
    "    toks = [t for t in toks if t.lower() not in stopwords]\n",
    "    tokens = toks\n",
    "\n",
    "    tokens = [t.strip() for t in tokens if t.strip() != \"\"]\n",
    "    return tokens\n",
    "\n",
    "df_train[\"tokens\"] = df_train[\"text_clean_raw\"].map(tokenize_and_normalize)\n",
    "df_train[\"text_clean\"] = df_train[\"tokens\"].map(lambda ts: \" \".join(ts))"
   ]
  },
  {
   "cell_type": "code",
   "execution_count": null,
   "id": "f01acb68",
   "metadata": {},
   "outputs": [],
   "source": [
    "df_train[\"len_raw\"] = df_train[\"text\"].str.split().map(len)\n",
    "df_train[\"len_clean\"] = df_train[\"tokens\"].map(len)"
   ]
  },
  {
   "cell_type": "code",
   "execution_count": null,
   "id": "93dc6f60",
   "metadata": {},
   "outputs": [
    {
     "name": "stdout",
     "output_type": "stream",
     "text": [
      "                                      text_clean_raw  \\\n",
      "0  our deeds are the reason of this earthquake ma...   \n",
      "\n",
      "                                              tokens  \\\n",
      "0  [deed, reason, earthquake, may, allah, forgive...   \n",
      "\n",
      "                                   text_clean  \n",
      "0  deed reason earthquake may allah forgive u  \n"
     ]
    }
   ],
   "source": [
    "print(df_train[[\"text_clean_raw\",\"tokens\",\"text_clean\"]].head(1))"
   ]
  },
  {
   "cell_type": "markdown",
   "id": "fef983c1",
   "metadata": {},
   "source": [
    "### Frecuencia de palabras por categoría"
   ]
  },
  {
   "cell_type": "code",
   "execution_count": 28,
   "id": "7f395b42",
   "metadata": {},
   "outputs": [
    {
     "name": "stdout",
     "output_type": "stream",
     "text": [
      "TOP 20 PALABRAS MÁS FRECUENTES - TWEETS DE DESASTRE:\n",
      "the: 1051\n",
      "in: 1037\n",
      "of: 888\n",
      "a: 730\n",
      "to: 706\n",
      "and: 462\n",
      "-: 389\n",
      "on: 386\n",
      "for: 368\n",
      "is: 302\n",
      "at: 273\n",
      "I: 259\n",
      "The: 257\n",
      "by: 244\n",
      "from: 206\n",
      "A: 167\n",
      "that: 166\n",
      "with: 159\n",
      "was: 158\n",
      "are: 150\n",
      "\n",
      "TOP 20 PALABRAS MÁS FRECUENTES - TWEETS NO DE DESASTRE:\n",
      "the: 1524\n",
      "a: 1115\n",
      "to: 1099\n",
      "I: 938\n",
      "and: 840\n",
      "of: 834\n",
      "in: 720\n",
      "you: 529\n",
      "is: 512\n",
      "for: 452\n",
      "my: 442\n",
      "on: 387\n",
      "-: 374\n",
      "with: 349\n",
      "that: 326\n",
      "The: 295\n",
      "it: 290\n",
      "be: 268\n",
      "like: 233\n",
      "this: 225\n"
     ]
    }
   ],
   "source": [
    "# Separar textos por categoría\n",
    "disaster_tweets = df_train[df_train['target'] == 1]['text']\n",
    "non_disaster_tweets = df_train[df_train['target'] == 0]['text']\n",
    "\n",
    "# Función para obtener frecuencias de palabras\n",
    "def get_word_frequencies(texts, top_n=20):\n",
    "    \"\"\"\n",
    "    Obtiene las palabras más frecuentes de una lista de textos\n",
    "    \"\"\"\n",
    "    all_words = []\n",
    "    for text in texts:\n",
    "        words = text.split()\n",
    "        all_words.extend(words)\n",
    "    \n",
    "    return Counter(all_words).most_common(top_n)\n",
    "\n",
    "# Obtener palabras más frecuentes para cada categoría\n",
    "disaster_freq = get_word_frequencies(disaster_tweets)\n",
    "non_disaster_freq = get_word_frequencies(non_disaster_tweets)\n",
    "\n",
    "print(\"TOP 20 PALABRAS MÁS FRECUENTES - TWEETS DE DESASTRE:\")\n",
    "for word, freq in disaster_freq:\n",
    "    print(f\"{word}: {freq}\")\n",
    "\n",
    "print(\"\\nTOP 20 PALABRAS MÁS FRECUENTES - TWEETS NO DE DESASTRE:\")\n",
    "for word, freq in non_disaster_freq:\n",
    "    print(f\"{word}: {freq}\")"
   ]
  },
  {
   "cell_type": "code",
   "execution_count": 29,
   "id": "83c7dff7",
   "metadata": {},
   "outputs": [
    {
     "data": {
      "image/png": "[encoded data removed]",
      "text/plain": [
       "<Figure size 1200x1000 with 2 Axes>"
      ]
     },
     "metadata": {},
     "output_type": "display_data"
    }
   ],
   "source": [
    "fig, (ax1, ax2) = plt.subplots(2, 1, figsize=(12, 10))\n",
    "\n",
    "# Palabras más frecuentes en tweets de desastre\n",
    "disaster_words = [word for word, freq in disaster_freq]\n",
    "disaster_counts = [freq for word, freq in disaster_freq]\n",
    "\n",
    "ax1.barh(disaster_words[:15][::-1], disaster_counts[:15][::-1], color='salmon')\n",
    "ax1.set_title('Top 15 Palabras Más Frecuentes - Tweets de Desastre')\n",
    "ax1.set_xlabel('Frecuencia')\n",
    "\n",
    "# Palabras más frecuentes en tweets NO de desastre\n",
    "non_disaster_words = [word for word, freq in non_disaster_freq]\n",
    "non_disaster_counts = [freq for word, freq in non_disaster_freq]\n",
    "\n",
    "ax2.barh(non_disaster_words[:15][::-1], non_disaster_counts[:15][::-1], color='skyblue')\n",
    "ax2.set_title('Top 15 Palabras Más Frecuentes - Tweets NO de Desastre')\n",
    "ax2.set_xlabel('Frecuencia')\n",
    "\n",
    "plt.tight_layout()\n",
    "plt.show()"
   ]
  },
  {
   "cell_type": "markdown",
   "id": "7eae8c6c",
   "metadata": {},
   "source": [
    "### Analísis de Bigramas y Trigramas"
   ]
  },
  {
   "cell_type": "markdown",
   "id": "35fef69f",
   "metadata": {},
   "source": [
    "#### Bigramas"
   ]
  },
  {
   "cell_type": "code",
   "execution_count": 32,
   "id": "8d36b014",
   "metadata": {},
   "outputs": [
    {
     "data": {
      "image/png": "[encoded data removed]",
      "text/plain": [
       "<Figure size 1200x1000 with 2 Axes>"
      ]
     },
     "metadata": {},
     "output_type": "display_data"
    }
   ],
   "source": [
    "def get_ngrams(texts, n=2, top_n=15):\n",
    "    \"\"\"\n",
    "    Obtiene los n-gramas más frecuentes\n",
    "    \"\"\"\n",
    "    all_ngrams = []\n",
    "    for text in texts:\n",
    "        words = text.split()\n",
    "        if len(words) >= n:\n",
    "            text_ngrams = list(ngrams(words, n))\n",
    "            all_ngrams.extend(text_ngrams)\n",
    "    \n",
    "    ngram_freq = Counter(all_ngrams)\n",
    "    return ngram_freq.most_common(top_n)\n",
    "\n",
    "# Obtener bigramas más frecuentes\n",
    "disaster_bigrams = get_ngrams(disaster_tweets, n=2, top_n=15)\n",
    "non_disaster_bigrams = get_ngrams(non_disaster_tweets, n=2, top_n=15)\n",
    "\n",
    "# Visualización de bigramas\n",
    "fig, (ax1, ax2) = plt.subplots(2, 1, figsize=(12, 10))\n",
    "\n",
    "# Bigramas de tweets de desastre\n",
    "disaster_bigram_labels = [' '.join(bigram) for bigram, freq in disaster_bigrams]\n",
    "disaster_bigram_counts = [freq for bigram, freq in disaster_bigrams]\n",
    "\n",
    "ax1.barh(disaster_bigram_labels[:10][::-1], disaster_bigram_counts[:10][::-1], color='salmon')\n",
    "ax1.set_title('Top 10 Bigramas - Tweets de Desastre')\n",
    "ax1.set_xlabel('Frecuencia')\n",
    "\n",
    "# Bigramas de tweets NO de desastre\n",
    "non_disaster_bigram_labels = [' '.join(bigram) for bigram, freq in non_disaster_bigrams]\n",
    "non_disaster_bigram_counts = [freq for bigram, freq in non_disaster_bigrams]\n",
    "\n",
    "ax2.barh(non_disaster_bigram_labels[:10][::-1], non_disaster_bigram_counts[:10][::-1], color='skyblue')\n",
    "ax2.set_title('Top 10 Bigramas - Tweets NO de Desastre')\n",
    "ax2.set_xlabel('Frecuencia')\n",
    "\n",
    "plt.tight_layout()\n",
    "plt.show()\n"
   ]
  },
  {
   "cell_type": "markdown",
   "id": "4c47f7f3",
   "metadata": {},
   "source": [
    "#### Trigramas"
   ]
  },
  {
   "cell_type": "code",
   "execution_count": 33,
   "id": "9b1af1d1",
   "metadata": {},
   "outputs": [
    {
     "name": "stdout",
     "output_type": "stream",
     "text": [
      "\n",
      "TOP 10 TRIGRAMAS - TWEETS DE DESASTRE:\n",
      "The Latest: More: 28\n",
      "PKK suicide bomber: 28\n",
      "suicide bomber who: 28\n",
      "bomber who detonated: 28\n",
      "who detonated bomb: 28\n",
      "detonated bomb in: 28\n",
      "by Northern California: 27\n",
      "16yr old PKK: 27\n",
      "old PKK suicide: 27\n",
      "Families to sue: 26\n",
      "\n",
      "TOP 10 TRIGRAMAS - TWEETS NO DE DESASTRE:\n",
      "I liked a: 35\n",
      "liked a @YouTube: 34\n",
      "a @YouTube video: 34\n",
      "- Full reÛ_: 25\n",
      "- Full read: 22\n",
      ".: .: .:: 19\n",
      "Will Now Quarantine: 18\n",
      "Is my pick: 17\n",
      "my pick for: 17\n",
      "@YouTube video from: 17\n"
     ]
    }
   ],
   "source": [
    "disaster_trigrams = get_ngrams(disaster_tweets, n=3, top_n=10)\n",
    "non_disaster_trigrams = get_ngrams(non_disaster_tweets, n=3, top_n=10)\n",
    "\n",
    "print(\"\\nTOP 10 TRIGRAMAS - TWEETS DE DESASTRE:\")\n",
    "for trigram, freq in disaster_trigrams:\n",
    "    print(f\"{' '.join(trigram)}: {freq}\")\n",
    "\n",
    "print(\"\\nTOP 10 TRIGRAMAS - TWEETS NO DE DESASTRE:\")\n",
    "for trigram, freq in non_disaster_trigrams:\n",
    "    print(f\"{' '.join(trigram)}: {freq}\")"
   ]
  },
  {
   "cell_type": "markdown",
   "id": "e26e059f",
   "metadata": {},
   "source": [
    "## Modelos de Clasificación de sentimientos"
   ]
  },
  {
   "cell_type": "code",
   "execution_count": null,
   "id": "2724bb28",
   "metadata": {},
   "outputs": [],
   "source": [
    "analyzer_vader = SentimentIntensityAnalyzer()\n",
    "\n",
    "print(\"Aplicando VADER Sentiment...\")\n",
    "\n",
    "def analyze_vader_sentiment(text):\n",
    "    \"\"\"\n",
    "    Analiza sentimiento con VADER\n",
    "    \"\"\"\n",
    "    scores = analyzer_vader.polarity_scores(text)\n",
    "    compound = scores['compound']\n",
    "    \n",
    "    if compound >= 0.05:\n",
    "        return 'positive', compound, scores\n",
    "    elif compound <= -0.05:\n",
    "        return 'negative', compound, scores\n",
    "    else:\n",
    "        return 'neutral', compound, scores\n",
    "\n",
    "vader_results = df_train['text_sentiment'].apply(analyze_vader_sentiment)\n",
    "df_train['vader_sentiment'] = [r[0] for r in vader_results]\n",
    "df_train['vader_compound'] = [r[1] for r in vader_results]\n",
    "df_train['vader_scores'] = [r[2] for r in vader_results]"
   ]
  },
  {
   "cell_type": "markdown",
   "id": "a8eb278f",
   "metadata": {},
   "source": [
    "## Modelos de clasificación de palabras"
   ]
  }
 ],
 "metadata": {
  "kernelspec": {
   "display_name": ".venv",
   "language": "python",
   "name": "python3"
  },
  "language_info": {
   "codemirror_mode": {
    "name": "ipython",
    "version": 3
   },
   "file_extension": ".py",
   "mimetype": "text/x-python",
   "name": "python",
   "nbconvert_exporter": "python",
   "pygments_lexer": "ipython3",
   "version": "3.13.5"
  }
 },
 "nbformat": 4,
 "nbformat_minor": 5
}
