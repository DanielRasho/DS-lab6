{
 "cells": [
  {
   "cell_type": "markdown",
   "id": "344c8597",
   "metadata": {},
   "source": [
    "# Lab 5\n",
    "\n",
    "Daniel Alfredo Rayo Roldan\n",
    "\n",
    "Gerardo Gabriel Pineda Riveiro\n",
    "\n",
    "https://github.com/DanielRasho/DS-lab6"
   ]
  },
  {
   "cell_type": "code",
   "execution_count": 1,
   "id": "7a1d090b",
   "metadata": {},
   "outputs": [],
   "source": [
    "import pandas as pd\n",
    "import numpy as np\n",
    "import matplotlib.pyplot as plt\n",
    "import seaborn as sns\n",
    "from wordcloud import WordCloud\n",
    "import re\n",
    "import string\n",
    "from collections import Counter\n",
    "import nltk\n",
    "from nltk.corpus import stopwords as nltk_stop\n",
    "from nltk.util import ngrams\n",
    "from nltk.tokenize import TweetTokenizer\n",
    "from nltk.stem import WordNetLemmatizer\n",
    "import warnings\n",
    "from vaderSentiment.vaderSentiment import SentimentIntensityAnalyzer\n",
    "warnings.filterwarnings('ignore')"
   ]
  },
  {
   "cell_type": "code",
   "execution_count": 2,
   "id": "66987d8c",
   "metadata": {},
   "outputs": [
    {
     "data": {
      "application/vnd.microsoft.datawrangler.viewer.v0+json": {
       "columns": [
        {
         "name": "index",
         "rawType": "int64",
         "type": "integer"
        },
        {
         "name": "id",
         "rawType": "int64",
         "type": "integer"
        },
        {
         "name": "keyword",
         "rawType": "object",
         "type": "unknown"
        },
        {
         "name": "location",
         "rawType": "object",
         "type": "unknown"
        },
        {
         "name": "text",
         "rawType": "object",
         "type": "string"
        },
        {
         "name": "target",
         "rawType": "int64",
         "type": "integer"
        }
       ],
       "ref": "3daa1034-40d4-4cc4-b1bf-fc61b52223f6",
       "rows": [
        [
         "0",
         "1",
         null,
         null,
         "Our Deeds are the Reason of this #earthquake May ALLAH Forgive us all",
         "1"
        ],
        [
         "1",
         "4",
         null,
         null,
         "Forest fire near La Ronge Sask. Canada",
         "1"
        ],
        [
         "2",
         "5",
         null,
         null,
         "All residents asked to 'shelter in place' are being notified by officers. No other evacuation or shelter in place orders are expected",
         "1"
        ],
        [
         "3",
         "6",
         null,
         null,
         "13,000 people receive #wildfires evacuation orders in California ",
         "1"
        ],
        [
         "4",
         "7",
         null,
         null,
         "Just got sent this photo from Ruby #Alaska as smoke from #wildfires pours into a school ",
         "1"
        ]
       ],
       "shape": {
        "columns": 5,
        "rows": 5
       }
      },
      "text/html": [
       "<div>\n",
       "<style scoped>\n",
       "    .dataframe tbody tr th:only-of-type {\n",
       "        vertical-align: middle;\n",
       "    }\n",
       "\n",
       "    .dataframe tbody tr th {\n",
       "        vertical-align: top;\n",
       "    }\n",
       "\n",
       "    .dataframe thead th {\n",
       "        text-align: right;\n",
       "    }\n",
       "</style>\n",
       "<table border=\"1\" class=\"dataframe\">\n",
       "  <thead>\n",
       "    <tr style=\"text-align: right;\">\n",
       "      <th></th>\n",
       "      <th>id</th>\n",
       "      <th>keyword</th>\n",
       "      <th>location</th>\n",
       "      <th>text</th>\n",
       "      <th>target</th>\n",
       "    </tr>\n",
       "  </thead>\n",
       "  <tbody>\n",
       "    <tr>\n",
       "      <th>0</th>\n",
       "      <td>1</td>\n",
       "      <td>NaN</td>\n",
       "      <td>NaN</td>\n",
       "      <td>Our Deeds are the Reason of this #earthquake M...</td>\n",
       "      <td>1</td>\n",
       "    </tr>\n",
       "    <tr>\n",
       "      <th>1</th>\n",
       "      <td>4</td>\n",
       "      <td>NaN</td>\n",
       "      <td>NaN</td>\n",
       "      <td>Forest fire near La Ronge Sask. Canada</td>\n",
       "      <td>1</td>\n",
       "    </tr>\n",
       "    <tr>\n",
       "      <th>2</th>\n",
       "      <td>5</td>\n",
       "      <td>NaN</td>\n",
       "      <td>NaN</td>\n",
       "      <td>All residents asked to 'shelter in place' are ...</td>\n",
       "      <td>1</td>\n",
       "    </tr>\n",
       "    <tr>\n",
       "      <th>3</th>\n",
       "      <td>6</td>\n",
       "      <td>NaN</td>\n",
       "      <td>NaN</td>\n",
       "      <td>13,000 people receive #wildfires evacuation or...</td>\n",
       "      <td>1</td>\n",
       "    </tr>\n",
       "    <tr>\n",
       "      <th>4</th>\n",
       "      <td>7</td>\n",
       "      <td>NaN</td>\n",
       "      <td>NaN</td>\n",
       "      <td>Just got sent this photo from Ruby #Alaska as ...</td>\n",
       "      <td>1</td>\n",
       "    </tr>\n",
       "  </tbody>\n",
       "</table>\n",
       "</div>"
      ],
      "text/plain": [
       "   id keyword location                                               text  \\\n",
       "0   1     NaN      NaN  Our Deeds are the Reason of this #earthquake M...   \n",
       "1   4     NaN      NaN             Forest fire near La Ronge Sask. Canada   \n",
       "2   5     NaN      NaN  All residents asked to 'shelter in place' are ...   \n",
       "3   6     NaN      NaN  13,000 people receive #wildfires evacuation or...   \n",
       "4   7     NaN      NaN  Just got sent this photo from Ruby #Alaska as ...   \n",
       "\n",
       "   target  \n",
       "0       1  \n",
       "1       1  \n",
       "2       1  \n",
       "3       1  \n",
       "4       1  "
      ]
     },
     "execution_count": 2,
     "metadata": {},
     "output_type": "execute_result"
    }
   ],
   "source": [
    "df_train = pd.read_csv(\"./data/train.csv\")\n",
    "\n",
    "df_train.head()"
   ]
  },
  {
   "cell_type": "code",
   "execution_count": 3,
   "id": "e0c6418e",
   "metadata": {},
   "outputs": [
    {
     "name": "stdout",
     "output_type": "stream",
     "text": [
      "Número de filas: 7613\n",
      "Número de columnas: 5\n",
      "\n",
      "Columnas: ['id', 'keyword', 'location', 'text', 'target']\n",
      "\n",
      "Tipos de datos:\n"
     ]
    },
    {
     "data": {
      "application/vnd.microsoft.datawrangler.viewer.v0+json": {
       "columns": [
        {
         "name": "index",
         "rawType": "object",
         "type": "string"
        },
        {
         "name": "0",
         "rawType": "object",
         "type": "unknown"
        }
       ],
       "ref": "7646d24b-9502-4ba7-99a3-684aca38d461",
       "rows": [
        [
         "id",
         "int64"
        ],
        [
         "keyword",
         "object"
        ],
        [
         "location",
         "object"
        ],
        [
         "text",
         "object"
        ],
        [
         "target",
         "int64"
        ]
       ],
       "shape": {
        "columns": 1,
        "rows": 5
       }
      },
      "text/plain": [
       "id           int64\n",
       "keyword     object\n",
       "location    object\n",
       "text        object\n",
       "target       int64\n",
       "dtype: object"
      ]
     },
     "execution_count": 3,
     "metadata": {},
     "output_type": "execute_result"
    }
   ],
   "source": [
    "print(f\"Número de filas: {df_train.shape[0]}\")\n",
    "print(f\"Número de columnas: {df_train.shape[1]}\")\n",
    "print(f\"\\nColumnas: {list(df_train.columns)}\")\n",
    "print(f\"\\nTipos de datos:\")\n",
    "df_train.dtypes"
   ]
  },
  {
   "cell_type": "markdown",
   "id": "281c55e5",
   "metadata": {},
   "source": [
    "## Análisis Exploratorio"
   ]
  },
  {
   "cell_type": "markdown",
   "id": "1ed9f69e",
   "metadata": {},
   "source": [
    "### Valores faltantes"
   ]
  },
  {
   "cell_type": "code",
   "execution_count": 4,
   "id": "b85d6d35",
   "metadata": {},
   "outputs": [
    {
     "data": {
      "application/vnd.microsoft.datawrangler.viewer.v0+json": {
       "columns": [
        {
         "name": "index",
         "rawType": "int64",
         "type": "integer"
        },
        {
         "name": "Columna",
         "rawType": "object",
         "type": "string"
        },
        {
         "name": "Valores Faltantes",
         "rawType": "int64",
         "type": "integer"
        },
        {
         "name": "Porcentaje",
         "rawType": "float64",
         "type": "float"
        }
       ],
       "ref": "6a96f297-e265-4a3f-9bf5-2bf574796dcc",
       "rows": [
        [
         "0",
         "id",
         "0",
         "0.0"
        ],
        [
         "1",
         "keyword",
         "61",
         "0.8012610009194797"
        ],
        [
         "2",
         "location",
         "2533",
         "33.27203467752528"
        ],
        [
         "3",
         "text",
         "0",
         "0.0"
        ],
        [
         "4",
         "target",
         "0",
         "0.0"
        ]
       ],
       "shape": {
        "columns": 3,
        "rows": 5
       }
      },
      "text/html": [
       "<div>\n",
       "<style scoped>\n",
       "    .dataframe tbody tr th:only-of-type {\n",
       "        vertical-align: middle;\n",
       "    }\n",
       "\n",
       "    .dataframe tbody tr th {\n",
       "        vertical-align: top;\n",
       "    }\n",
       "\n",
       "    .dataframe thead th {\n",
       "        text-align: right;\n",
       "    }\n",
       "</style>\n",
       "<table border=\"1\" class=\"dataframe\">\n",
       "  <thead>\n",
       "    <tr style=\"text-align: right;\">\n",
       "      <th></th>\n",
       "      <th>Columna</th>\n",
       "      <th>Valores Faltantes</th>\n",
       "      <th>Porcentaje</th>\n",
       "    </tr>\n",
       "  </thead>\n",
       "  <tbody>\n",
       "    <tr>\n",
       "      <th>0</th>\n",
       "      <td>id</td>\n",
       "      <td>0</td>\n",
       "      <td>0.000000</td>\n",
       "    </tr>\n",
       "    <tr>\n",
       "      <th>1</th>\n",
       "      <td>keyword</td>\n",
       "      <td>61</td>\n",
       "      <td>0.801261</td>\n",
       "    </tr>\n",
       "    <tr>\n",
       "      <th>2</th>\n",
       "      <td>location</td>\n",
       "      <td>2533</td>\n",
       "      <td>33.272035</td>\n",
       "    </tr>\n",
       "    <tr>\n",
       "      <th>3</th>\n",
       "      <td>text</td>\n",
       "      <td>0</td>\n",
       "      <td>0.000000</td>\n",
       "    </tr>\n",
       "    <tr>\n",
       "      <th>4</th>\n",
       "      <td>target</td>\n",
       "      <td>0</td>\n",
       "      <td>0.000000</td>\n",
       "    </tr>\n",
       "  </tbody>\n",
       "</table>\n",
       "</div>"
      ],
      "text/plain": [
       "    Columna  Valores Faltantes  Porcentaje\n",
       "0        id                  0    0.000000\n",
       "1   keyword                 61    0.801261\n",
       "2  location               2533   33.272035\n",
       "3      text                  0    0.000000\n",
       "4    target                  0    0.000000"
      ]
     },
     "execution_count": 4,
     "metadata": {},
     "output_type": "execute_result"
    }
   ],
   "source": [
    "missing_values = df_train.isnull().sum()\n",
    "missing_percent = (missing_values / len(df_train)) * 100\n",
    "\n",
    "missing_df = pd.DataFrame({\n",
    "    'Columna': missing_values.index,\n",
    "    'Valores Faltantes': missing_values.values,\n",
    "    'Porcentaje': missing_percent.values\n",
    "})\n",
    "missing_df"
   ]
  },
  {
   "cell_type": "markdown",
   "id": "98c18794",
   "metadata": {},
   "source": [
    "### Distribución de variable objetivo"
   ]
  },
  {
   "cell_type": "code",
   "execution_count": 5,
   "id": "217b3bf5",
   "metadata": {},
   "outputs": [
    {
     "name": "stdout",
     "output_type": "stream",
     "text": [
      "Tweets NO desastre (0): 4342 (57.0%)\n",
      "Tweets de desastre (1): 3271 (43.0%)\n"
     ]
    },
    {
     "data": {
      "image/png": "[encoded data removed]",
      "text/plain": [
       "<Figure size 1200x500 with 1 Axes>"
      ]
     },
     "metadata": {},
     "output_type": "display_data"
    }
   ],
   "source": [
    "# Distribución de la variable objetivo\n",
    "target_counts = df_train['target'].value_counts()\n",
    "print(f\"Tweets NO desastre (0): {target_counts[0]} ({target_counts[0]/len(df_train)*100:.1f}%)\")\n",
    "print(f\"Tweets de desastre (1): {target_counts[1]} ({target_counts[1]/len(df_train)*100:.1f}%)\")\n",
    "\n",
    "# Visualización de la distribución\n",
    "fig, (ax1) = plt.subplots(1, 1, figsize=(12, 5))\n",
    "\n",
    "# Gráfico de barras\n",
    "target_counts.plot(kind='bar', ax=ax1, color=['skyblue', 'salmon'])\n",
    "ax1.set_title('Distribución de Tweets por Categoría')\n",
    "ax1.set_xlabel('Categoría (0: No Desastre, 1: Desastre)')\n",
    "ax1.set_ylabel('Número de Tweets')\n",
    "ax1.tick_params(axis='x', rotation=0)\n",
    "\n",
    "plt.tight_layout()\n",
    "plt.show()"
   ]
  },
  {
   "cell_type": "code",
   "execution_count": 6,
   "id": "9c662c63",
   "metadata": {},
   "outputs": [
    {
     "name": "stdout",
     "output_type": "stream",
     "text": [
      "\n",
      "=== EJEMPLOS DE TWEETS ===\n",
      "Tweets de DESASTRE:\n",
      "1. Our Deeds are the Reason of this #earthquake May ALLAH Forgive us all\n",
      "2. Forest fire near La Ronge Sask. Canada\n",
      "3. All residents asked to 'shelter in place' are being notified by officers. No other evacuation or shelter in place orders are expected\n",
      "\n",
      "Tweets NO de desastre:\n",
      "1. What's up man?\n",
      "2. I love fruits\n",
      "3. Summer is lovely\n"
     ]
    }
   ],
   "source": [
    "# Ejemplos de tweets por categoría\n",
    "print(\"\\n=== EJEMPLOS DE TWEETS ===\")\n",
    "print(\"Tweets de DESASTRE:\")\n",
    "for i, tweet in enumerate(df_train[df_train['target']==1]['text'].head(3)):\n",
    "    print(f\"{i+1}. {tweet}\")\n",
    "\n",
    "print(\"\\nTweets NO de desastre:\")\n",
    "for i, tweet in enumerate(df_train[df_train['target']==0]['text'].head(3)):\n",
    "    print(f\"{i+1}. {tweet}\")"
   ]
  },
  {
   "cell_type": "markdown",
   "id": "e9055443",
   "metadata": {},
   "source": [
    "# Preprocesamiento"
   ]
  },
  {
   "cell_type": "code",
   "execution_count": 7,
   "id": "d340aaae",
   "metadata": {},
   "outputs": [
    {
     "name": "stderr",
     "output_type": "stream",
     "text": [
      "[nltk_data] Downloading package stopwords to /home/smaug/nltk_data...\n",
      "[nltk_data]   Package stopwords is already up-to-date!\n",
      "[nltk_data] Downloading package wordnet to /home/smaug/nltk_data...\n",
      "[nltk_data]   Package wordnet is already up-to-date!\n",
      "[nltk_data] Downloading package omw-1.4 to /home/smaug/nltk_data...\n",
      "[nltk_data]   Package omw-1.4 is already up-to-date!\n"
     ]
    }
   ],
   "source": [
    "nltk.download(\"stopwords\"); nltk.download(\"wordnet\"); nltk.download(\"omw-1.4\")\n",
    "tt = TweetTokenizer(preserve_case=not True, reduce_len=True, strip_handles=False)\n",
    "wnl = WordNetLemmatizer()"
   ]
  },
  {
   "cell_type": "code",
   "execution_count": 8,
   "id": "0259787b",
   "metadata": {},
   "outputs": [],
   "source": [
    "stopwords = set(nltk_stop.words(\"english\"))\n",
    "negs = {\"no\",\"not\",\"n't\"}\n",
    "stopwords = {w for w in stopwords if w.lower() not in negs}"
   ]
  },
  {
   "cell_type": "code",
   "execution_count": 9,
   "id": "225e9f7d",
   "metadata": {},
   "outputs": [],
   "source": [
    "URL_RE = re.compile(r\"(https?://\\S+|www\\.\\S+)\")\n",
    "MENTION_RE = re.compile(r\"@\\w+\")\n",
    "HASHTAG_RE = re.compile(r\"#(\\w+)\")\n",
    "APOSTROPHES_RE = re.compile(r\"[’`´]\")\n",
    "EMOJI_RE = re.compile(\n",
    "    \"[\"\n",
    "    \"\\U0001F600-\\U0001F64F\"  # emoticons\n",
    "    \"\\U0001F300-\\U0001F5FF\"  # symbols & pictographs\n",
    "    \"\\U0001F680-\\U0001F6FF\"  # transport & map\n",
    "    \"\\U0001F1E0-\\U0001F1FF\"  # flags\n",
    "    \"\\U00002702-\\U000027B0\"\n",
    "    \"\\U000024C2-\\U0001F251\"\n",
    "    \"]+\", flags=re.UNICODE\n",
    ")\n",
    "NUMBER_RE = re.compile(r\"\\b\\d+(?:[.,]\\d+)*\\b\")\n",
    "\n",
    "PUNCT_TABLE = str.maketrans(\"\", \"\", string.punctuation)"
   ]
  },
  {
   "cell_type": "code",
   "execution_count": 10,
   "id": "ed88349f",
   "metadata": {},
   "outputs": [],
   "source": [
    "def count_pattern(pat, text):\n",
    "    return len(pat.findall(text))\n",
    "\n",
    "def clean_raw(text: str) -> dict:\n",
    "    original = text\n",
    "\n",
    "    \n",
    "    text = text.lower()\n",
    "\n",
    "    urls = mentions = emojis = hashtags = numbers = 0\n",
    "\n",
    "    urls = count_pattern(URL_RE, text)\n",
    "    text = URL_RE.sub(\" \", text)\n",
    "\n",
    "    mentions = count_pattern(MENTION_RE, text)\n",
    "    text = MENTION_RE.sub(\" \", text)\n",
    "\n",
    "    hashtags = count_pattern(HASHTAG_RE, text)\n",
    "    text = HASHTAG_RE.sub(lambda m: m.group(1), text)\n",
    "\n",
    "    text = APOSTROPHES_RE.sub(\"'\", text)\n",
    "\n",
    "    if True: # Cambiar esto para cambiarlos emojis (si queres rayo)\n",
    "        emojis = len(EMOJI_RE.findall(text))\n",
    "        text = EMOJI_RE.sub(\" \", text)\n",
    "\n",
    "    # Aqui estan los numeros solo vamos a dejar el 911\n",
    "    def num_filter(m):\n",
    "        tok = m.group(0)\n",
    "        return tok if tok in {\"911\"} else \" \"\n",
    "    numbers = len(NUMBER_RE.findall(text))\n",
    "    text = NUMBER_RE.sub(num_filter, text)\n",
    "\n",
    "    text = text.translate(PUNCT_TABLE)\n",
    "\n",
    "    text = re.sub(r\"\\s+\", \" \", text).strip()\n",
    "\n",
    "    return {\n",
    "        \"text_raw\": original,\n",
    "        \"text_clean_raw\": text,\n",
    "        \"urls_removed\": urls,\n",
    "        \"mentions_removed\": mentions,\n",
    "        \"emojis_removed\": emojis,\n",
    "        \"hashtags_unhashed\": hashtags,\n",
    "        \"numbers_affected\": numbers\n",
    "    }\n",
    "\n",
    "clean_rows = df_train[\"text\"].map(clean_raw)\n",
    "clean_df = pd.DataFrame(list(clean_rows))\n",
    "df_train = pd.concat([df_train, clean_df], axis=1)"
   ]
  },
  {
   "cell_type": "code",
   "execution_count": 11,
   "id": "dc4310e2",
   "metadata": {},
   "outputs": [],
   "source": [
    "def tokenize_and_normalize(text: str):\n",
    "    tokens = []\n",
    "    toks = tt.tokenize(text)\n",
    "    toks = [t for t in toks if all(ch not in string.punctuation for ch in t)]\n",
    "    toks = [wnl.lemmatize(t) for t in toks]\n",
    "    # stopwords\n",
    "    toks = [t for t in toks if t.lower() not in stopwords]\n",
    "    tokens = toks\n",
    "\n",
    "    tokens = [t.strip() for t in tokens if t.strip() != \"\"]\n",
    "    return tokens\n",
    "\n",
    "df_train[\"tokens\"] = df_train[\"text_clean_raw\"].map(tokenize_and_normalize)\n",
    "df_train[\"text_clean\"] = df_train[\"tokens\"].map(lambda ts: \" \".join(ts))"
   ]
  },
  {
   "cell_type": "code",
   "execution_count": 12,
   "id": "f01acb68",
   "metadata": {},
   "outputs": [],
   "source": [
    "df_train[\"len_raw\"] = df_train[\"text\"].str.split().map(len)\n",
    "df_train[\"len_clean\"] = df_train[\"tokens\"].map(len)"
   ]
  },
  {
   "cell_type": "code",
   "execution_count": 13,
   "id": "93dc6f60",
   "metadata": {},
   "outputs": [
    {
     "name": "stdout",
     "output_type": "stream",
     "text": [
      "                                      text_clean_raw  \\\n",
      "0  our deeds are the reason of this earthquake ma...   \n",
      "\n",
      "                                              tokens  \\\n",
      "0  [deed, reason, earthquake, may, allah, forgive...   \n",
      "\n",
      "                                   text_clean  \n",
      "0  deed reason earthquake may allah forgive u  \n"
     ]
    }
   ],
   "source": [
    "print(df_train[[\"text_clean_raw\",\"tokens\",\"text_clean\"]].head(1))"
   ]
  },
  {
   "cell_type": "markdown",
   "id": "fef983c1",
   "metadata": {},
   "source": [
    "### Frecuencia de palabras por categoría"
   ]
  },
  {
   "cell_type": "code",
   "execution_count": 16,
   "id": "7f395b42",
   "metadata": {},
   "outputs": [
    {
     "name": "stdout",
     "output_type": "stream",
     "text": [
      "TOP 20 PALABRAS MÁS FRECUENTES - TWEETS DE DESASTRE:\n",
      ": 372\n",
      "fire: 265\n",
      "û: 213\n",
      "wa: 174\n",
      "news: 136\n",
      "via: 121\n",
      "disaster: 117\n",
      "california: 115\n",
      "suicide: 110\n",
      "amp: 109\n",
      "no: 108\n",
      "police: 107\n",
      "people: 106\n",
      "u: 105\n",
      "family: 105\n",
      "ha: 105\n",
      "home: 101\n",
      "train: 100\n",
      "building: 95\n",
      "not: 93\n",
      "\n",
      "TOP 20 PALABRAS MÁS FRECUENTES - TWEETS NO DE DESASTRE:\n",
      ": 412\n",
      "like: 255\n",
      "im: 244\n",
      "û: 224\n",
      "wa: 219\n",
      "not: 204\n",
      "amp: 193\n",
      "get: 185\n",
      "new: 170\n",
      "ha: 151\n",
      "no: 146\n",
      "u: 146\n",
      "dont: 141\n",
      "one: 136\n",
      "body: 117\n",
      "time: 104\n",
      "video: 102\n",
      "via: 99\n",
      "would: 97\n",
      "day: 96\n"
     ]
    }
   ],
   "source": [
    "# Separar textos por categoría\n",
    "disaster_tweets = df_train[df_train['target'] == 1]['text_clean']\n",
    "non_disaster_tweets = df_train[df_train['target'] == 0]['text_clean']\n",
    "\n",
    "# Función para obtener frecuencias de palabras\n",
    "def get_word_frequencies(texts, top_n=20):\n",
    "    \"\"\"\n",
    "    Obtiene las palabras más frecuentes de una lista de textos\n",
    "    \"\"\"\n",
    "    all_words = []\n",
    "    for text in texts:\n",
    "        words = text.split()\n",
    "        all_words.extend(words)\n",
    "    \n",
    "    return Counter(all_words).most_common(top_n)\n",
    "\n",
    "# Obtener palabras más frecuentes para cada categoría\n",
    "disaster_freq = get_word_frequencies(disaster_tweets)\n",
    "non_disaster_freq = get_word_frequencies(non_disaster_tweets)\n",
    "\n",
    "print(\"TOP 20 PALABRAS MÁS FRECUENTES - TWEETS DE DESASTRE:\")\n",
    "for word, freq in disaster_freq:\n",
    "    print(f\"{word}: {freq}\")\n",
    "\n",
    "print(\"\\nTOP 20 PALABRAS MÁS FRECUENTES - TWEETS NO DE DESASTRE:\")\n",
    "for word, freq in non_disaster_freq:\n",
    "    print(f\"{word}: {freq}\")"
   ]
  },
  {
   "cell_type": "code",
   "execution_count": 17,
   "id": "83c7dff7",
   "metadata": {},
   "outputs": [
    {
     "data": {
      "image/png": "[encoded data removed]",
      "text/plain": [
       "<Figure size 1200x1000 with 2 Axes>"
      ]
     },
     "metadata": {},
     "output_type": "display_data"
    }
   ],
   "source": [
    "fig, (ax1, ax2) = plt.subplots(2, 1, figsize=(12, 10))\n",
    "\n",
    "# Palabras más frecuentes en tweets de desastre\n",
    "disaster_words = [word for word, freq in disaster_freq]\n",
    "disaster_counts = [freq for word, freq in disaster_freq]\n",
    "\n",
    "ax1.barh(disaster_words[:15][::-1], disaster_counts[:15][::-1], color='salmon')\n",
    "ax1.set_title('Top 15 Palabras Más Frecuentes - Tweets de Desastre')\n",
    "ax1.set_xlabel('Frecuencia')\n",
    "\n",
    "# Palabras más frecuentes en tweets NO de desastre\n",
    "non_disaster_words = [word for word, freq in non_disaster_freq]\n",
    "non_disaster_counts = [freq for word, freq in non_disaster_freq]\n",
    "\n",
    "ax2.barh(non_disaster_words[:15][::-1], non_disaster_counts[:15][::-1], color='skyblue')\n",
    "ax2.set_title('Top 15 Palabras Más Frecuentes - Tweets NO de Desastre')\n",
    "ax2.set_xlabel('Frecuencia')\n",
    "\n",
    "plt.tight_layout()\n",
    "plt.show()"
   ]
  },
  {
   "cell_type": "markdown",
   "id": "7eae8c6c",
   "metadata": {},
   "source": [
    "### Analísis de Bigramas y Trigramas"
   ]
  },
  {
   "cell_type": "markdown",
   "id": "35fef69f",
   "metadata": {},
   "source": [
    "#### Bigramas"
   ]
  },
  {
   "cell_type": "code",
   "execution_count": 18,
   "id": "8d36b014",
   "metadata": {},
   "outputs": [
    {
     "data": {
      "image/png": "[encoded data removed]",
      "text/plain": [
       "<Figure size 1200x1000 with 2 Axes>"
      ]
     },
     "metadata": {},
     "output_type": "display_data"
    }
   ],
   "source": [
    "def get_ngrams(texts, n=2, top_n=15):\n",
    "    \"\"\"\n",
    "    Obtiene los n-gramas más frecuentes\n",
    "    \"\"\"\n",
    "    all_ngrams = []\n",
    "    for text in texts:\n",
    "        words = text.split()\n",
    "        if len(words) >= n:\n",
    "            text_ngrams = list(ngrams(words, n))\n",
    "            all_ngrams.extend(text_ngrams)\n",
    "    \n",
    "    ngram_freq = Counter(all_ngrams)\n",
    "    return ngram_freq.most_common(top_n)\n",
    "\n",
    "# Obtener bigramas más frecuentes\n",
    "disaster_bigrams = get_ngrams(disaster_tweets, n=2, top_n=15)\n",
    "non_disaster_bigrams = get_ngrams(non_disaster_tweets, n=2, top_n=15)\n",
    "\n",
    "# Visualización de bigramas\n",
    "fig, (ax1, ax2) = plt.subplots(2, 1, figsize=(12, 10))\n",
    "\n",
    "# Bigramas de tweets de desastre\n",
    "disaster_bigram_labels = [' '.join(bigram) for bigram, freq in disaster_bigrams]\n",
    "disaster_bigram_counts = [freq for bigram, freq in disaster_bigrams]\n",
    "\n",
    "ax1.barh(disaster_bigram_labels[:10][::-1], disaster_bigram_counts[:10][::-1], color='salmon')\n",
    "ax1.set_title('Top 10 Bigramas - Tweets de Desastre')\n",
    "ax1.set_xlabel('Frecuencia')\n",
    "\n",
    "# Bigramas de tweets NO de desastre\n",
    "non_disaster_bigram_labels = [' '.join(bigram) for bigram, freq in non_disaster_bigrams]\n",
    "non_disaster_bigram_counts = [freq for bigram, freq in non_disaster_bigrams]\n",
    "\n",
    "ax2.barh(non_disaster_bigram_labels[:10][::-1], non_disaster_bigram_counts[:10][::-1], color='skyblue')\n",
    "ax2.set_title('Top 10 Bigramas - Tweets NO de Desastre')\n",
    "ax2.set_xlabel('Frecuencia')\n",
    "\n",
    "plt.tight_layout()\n",
    "plt.show()\n"
   ]
  },
  {
   "cell_type": "markdown",
   "id": "4c47f7f3",
   "metadata": {},
   "source": [
    "#### Trigramas"
   ]
  },
  {
   "cell_type": "code",
   "execution_count": 20,
   "id": "9b1af1d1",
   "metadata": {},
   "outputs": [
    {
     "name": "stdout",
     "output_type": "stream",
     "text": [
      "\n",
      "TOP 10 TRIGRAMAS - TWEETS DE DESASTRE:\n",
      "suicide bomber detonated: 30\n",
      "northern california wildfire: 29\n",
      "latest home razed: 28\n",
      "home razed northern: 28\n",
      "pkk suicide bomber: 28\n",
      "bomber detonated bomb: 28\n",
      "razed northern california: 27\n",
      "16yr old pkk: 27\n",
      "old pkk suicide: 27\n",
      "family sue legionnaire: 26\n",
      "\n",
      "TOP 10 TRIGRAMAS - TWEETS NO DE DESASTRE:\n",
      " û ÷: 25\n",
      "full  û: 25\n",
      "cross body bag: 23\n",
      " û : 22\n",
      "reddit quarantine offensive: 19\n",
      "quarantine offensive content: 18\n",
      "pick fan army: 17\n",
      "reddits new content: 16\n",
      "new content policy: 16\n",
      "stock market crash: 16\n"
     ]
    }
   ],
   "source": [
    "disaster_trigrams = get_ngrams(disaster_tweets, n=3, top_n=10)\n",
    "non_disaster_trigrams = get_ngrams(non_disaster_tweets, n=3, top_n=10)\n",
    "\n",
    "print(\"\\nTOP 10 TRIGRAMAS - TWEETS DE DESASTRE:\")\n",
    "for trigram, freq in disaster_trigrams:\n",
    "    print(f\"{' '.join(trigram)}: {freq}\")\n",
    "\n",
    "print(\"\\nTOP 10 TRIGRAMAS - TWEETS NO DE DESASTRE:\")\n",
    "for trigram, freq in non_disaster_trigrams:\n",
    "    print(f\"{' '.join(trigram)}: {freq}\")"
   ]
  },
  {
   "cell_type": "markdown",
   "id": "e26e059f",
   "metadata": {},
   "source": [
    "## Modelos de Clasificación de sentimientos"
   ]
  },
  {
   "cell_type": "code",
   "execution_count": 21,
   "id": "2724bb28",
   "metadata": {},
   "outputs": [
    {
     "name": "stdout",
     "output_type": "stream",
     "text": [
      "Aplicando VADER Sentiment...\n"
     ]
    },
    {
     "ename": "KeyError",
     "evalue": "'text_sentiment'",
     "output_type": "error",
     "traceback": [
      "\u001b[31m---------------------------------------------------------------------------\u001b[39m",
      "\u001b[31mKeyError\u001b[39m                                  Traceback (most recent call last)",
      "\u001b[36mFile \u001b[39m\u001b[32m~/Documents/DataScience/lab5/.venv/lib/python3.13/site-packages/pandas/core/indexes/base.py:3812\u001b[39m, in \u001b[36mIndex.get_loc\u001b[39m\u001b[34m(self, key)\u001b[39m\n\u001b[32m   3811\u001b[39m \u001b[38;5;28;01mtry\u001b[39;00m:\n\u001b[32m-> \u001b[39m\u001b[32m3812\u001b[39m     \u001b[38;5;28;01mreturn\u001b[39;00m \u001b[38;5;28;43mself\u001b[39;49m\u001b[43m.\u001b[49m\u001b[43m_engine\u001b[49m\u001b[43m.\u001b[49m\u001b[43mget_loc\u001b[49m\u001b[43m(\u001b[49m\u001b[43mcasted_key\u001b[49m\u001b[43m)\u001b[49m\n\u001b[32m   3813\u001b[39m \u001b[38;5;28;01mexcept\u001b[39;00m \u001b[38;5;167;01mKeyError\u001b[39;00m \u001b[38;5;28;01mas\u001b[39;00m err:\n",
      "\u001b[36mFile \u001b[39m\u001b[32mpandas/_libs/index.pyx:167\u001b[39m, in \u001b[36mpandas._libs.index.IndexEngine.get_loc\u001b[39m\u001b[34m()\u001b[39m\n",
      "\u001b[36mFile \u001b[39m\u001b[32mpandas/_libs/index.pyx:196\u001b[39m, in \u001b[36mpandas._libs.index.IndexEngine.get_loc\u001b[39m\u001b[34m()\u001b[39m\n",
      "\u001b[36mFile \u001b[39m\u001b[32mpandas/_libs/hashtable_class_helper.pxi:7088\u001b[39m, in \u001b[36mpandas._libs.hashtable.PyObjectHashTable.get_item\u001b[39m\u001b[34m()\u001b[39m\n",
      "\u001b[36mFile \u001b[39m\u001b[32mpandas/_libs/hashtable_class_helper.pxi:7096\u001b[39m, in \u001b[36mpandas._libs.hashtable.PyObjectHashTable.get_item\u001b[39m\u001b[34m()\u001b[39m\n",
      "\u001b[31mKeyError\u001b[39m: 'text_sentiment'",
      "\nThe above exception was the direct cause of the following exception:\n",
      "\u001b[31mKeyError\u001b[39m                                  Traceback (most recent call last)",
      "\u001b[36mCell\u001b[39m\u001b[36m \u001b[39m\u001b[32mIn[21]\u001b[39m\u001b[32m, line 19\u001b[39m\n\u001b[32m     16\u001b[39m     \u001b[38;5;28;01melse\u001b[39;00m:\n\u001b[32m     17\u001b[39m         \u001b[38;5;28;01mreturn\u001b[39;00m \u001b[33m'\u001b[39m\u001b[33mneutral\u001b[39m\u001b[33m'\u001b[39m, compound, scores\n\u001b[32m---> \u001b[39m\u001b[32m19\u001b[39m vader_results = \u001b[43mdf_train\u001b[49m\u001b[43m[\u001b[49m\u001b[33;43m'\u001b[39;49m\u001b[33;43mtext_sentiment\u001b[39;49m\u001b[33;43m'\u001b[39;49m\u001b[43m]\u001b[49m.apply(analyze_vader_sentiment)\n\u001b[32m     20\u001b[39m df_train[\u001b[33m'\u001b[39m\u001b[33mvader_sentiment\u001b[39m\u001b[33m'\u001b[39m] = [r[\u001b[32m0\u001b[39m] \u001b[38;5;28;01mfor\u001b[39;00m r \u001b[38;5;129;01min\u001b[39;00m vader_results]\n\u001b[32m     21\u001b[39m df_train[\u001b[33m'\u001b[39m\u001b[33mvader_compound\u001b[39m\u001b[33m'\u001b[39m] = [r[\u001b[32m1\u001b[39m] \u001b[38;5;28;01mfor\u001b[39;00m r \u001b[38;5;129;01min\u001b[39;00m vader_results]\n",
      "\u001b[36mFile \u001b[39m\u001b[32m~/Documents/DataScience/lab5/.venv/lib/python3.13/site-packages/pandas/core/frame.py:4107\u001b[39m, in \u001b[36mDataFrame.__getitem__\u001b[39m\u001b[34m(self, key)\u001b[39m\n\u001b[32m   4105\u001b[39m \u001b[38;5;28;01mif\u001b[39;00m \u001b[38;5;28mself\u001b[39m.columns.nlevels > \u001b[32m1\u001b[39m:\n\u001b[32m   4106\u001b[39m     \u001b[38;5;28;01mreturn\u001b[39;00m \u001b[38;5;28mself\u001b[39m._getitem_multilevel(key)\n\u001b[32m-> \u001b[39m\u001b[32m4107\u001b[39m indexer = \u001b[38;5;28;43mself\u001b[39;49m\u001b[43m.\u001b[49m\u001b[43mcolumns\u001b[49m\u001b[43m.\u001b[49m\u001b[43mget_loc\u001b[49m\u001b[43m(\u001b[49m\u001b[43mkey\u001b[49m\u001b[43m)\u001b[49m\n\u001b[32m   4108\u001b[39m \u001b[38;5;28;01mif\u001b[39;00m is_integer(indexer):\n\u001b[32m   4109\u001b[39m     indexer = [indexer]\n",
      "\u001b[36mFile \u001b[39m\u001b[32m~/Documents/DataScience/lab5/.venv/lib/python3.13/site-packages/pandas/core/indexes/base.py:3819\u001b[39m, in \u001b[36mIndex.get_loc\u001b[39m\u001b[34m(self, key)\u001b[39m\n\u001b[32m   3814\u001b[39m     \u001b[38;5;28;01mif\u001b[39;00m \u001b[38;5;28misinstance\u001b[39m(casted_key, \u001b[38;5;28mslice\u001b[39m) \u001b[38;5;129;01mor\u001b[39;00m (\n\u001b[32m   3815\u001b[39m         \u001b[38;5;28misinstance\u001b[39m(casted_key, abc.Iterable)\n\u001b[32m   3816\u001b[39m         \u001b[38;5;129;01mand\u001b[39;00m \u001b[38;5;28many\u001b[39m(\u001b[38;5;28misinstance\u001b[39m(x, \u001b[38;5;28mslice\u001b[39m) \u001b[38;5;28;01mfor\u001b[39;00m x \u001b[38;5;129;01min\u001b[39;00m casted_key)\n\u001b[32m   3817\u001b[39m     ):\n\u001b[32m   3818\u001b[39m         \u001b[38;5;28;01mraise\u001b[39;00m InvalidIndexError(key)\n\u001b[32m-> \u001b[39m\u001b[32m3819\u001b[39m     \u001b[38;5;28;01mraise\u001b[39;00m \u001b[38;5;167;01mKeyError\u001b[39;00m(key) \u001b[38;5;28;01mfrom\u001b[39;00m\u001b[38;5;250m \u001b[39m\u001b[34;01merr\u001b[39;00m\n\u001b[32m   3820\u001b[39m \u001b[38;5;28;01mexcept\u001b[39;00m \u001b[38;5;167;01mTypeError\u001b[39;00m:\n\u001b[32m   3821\u001b[39m     \u001b[38;5;66;03m# If we have a listlike key, _check_indexing_error will raise\u001b[39;00m\n\u001b[32m   3822\u001b[39m     \u001b[38;5;66;03m#  InvalidIndexError. Otherwise we fall through and re-raise\u001b[39;00m\n\u001b[32m   3823\u001b[39m     \u001b[38;5;66;03m#  the TypeError.\u001b[39;00m\n\u001b[32m   3824\u001b[39m     \u001b[38;5;28mself\u001b[39m._check_indexing_error(key)\n",
      "\u001b[31mKeyError\u001b[39m: 'text_sentiment'"
     ]
    }
   ],
   "source": [
    "analyzer_vader = SentimentIntensityAnalyzer()\n",
    "\n",
    "print(\"Aplicando VADER Sentiment...\")\n",
    "\n",
    "def analyze_vader_sentiment(text):\n",
    "    \"\"\"\n",
    "    Analiza sentimiento con VADER\n",
    "    \"\"\"\n",
    "    scores = analyzer_vader.polarity_scores(text)\n",
    "    compound = scores['compound']\n",
    "    \n",
    "    if compound >= 0.05:\n",
    "        return 'positive', compound, scores\n",
    "    elif compound <= -0.05:\n",
    "        return 'negative', compound, scores\n",
    "    else:\n",
    "        return 'neutral', compound, scores\n",
    "\n",
    "vader_results = df_train['text_sentiment'].apply(analyze_vader_sentiment)\n",
    "df_train['vader_sentiment'] = [r[0] for r in vader_results]\n",
    "df_train['vader_compound'] = [r[1] for r in vader_results]\n",
    "df_train['vader_scores'] = [r[2] for r in vader_results]"
   ]
  },
  {
   "cell_type": "markdown",
   "id": "a8eb278f",
   "metadata": {},
   "source": [
    "## Modelos de clasificación de palabras"
   ]
  }
 ],
 "metadata": {
  "kernelspec": {
   "display_name": ".venv",
   "language": "python",
   "name": "python3"
  },
  "language_info": {
   "codemirror_mode": {
    "name": "ipython",
    "version": 3
   },
   "file_extension": ".py",
   "mimetype": "text/x-python",
   "name": "python",
   "nbconvert_exporter": "python",
   "pygments_lexer": "ipython3",
   "version": "3.13.5"
  }
 },
 "nbformat": 4,
 "nbformat_minor": 5
}
