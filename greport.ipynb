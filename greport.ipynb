{
 "cells": [
  {
   "cell_type": "markdown",
   "id": "344c8597",
   "metadata": {},
   "source": [
    "# Lab 5\n",
    "\n",
    "Daniel Alfredo Rayo Roldan\n",
    "\n",
    "Gerardo Gabriel Pineda Riveiro"
   ]
  },
  {
   "cell_type": "code",
   "execution_count": 1,
   "id": "7a1d090b",
   "metadata": {},
   "outputs": [],
   "source": [
    "import pandas as pd\n",
    "import numpy as np\n",
    "import matplotlib.pyplot as plt\n",
    "import seaborn as sns\n",
    "from wordcloud import WordCloud\n",
    "import re\n",
    "import string\n",
    "from collections import Counter\n",
    "import nltk\n",
    "from nltk.corpus import stopwords\n",
    "from nltk.tokenize import word_tokenize\n",
    "from nltk.stem import PorterStemmer\n",
    "from nltk.util import ngrams\n",
    "import warnings\n",
    "import nltk\n",
    "from nltk.tokenize import TweetTokenizer\n",
    "from nltk.stem import WordNetLemmatizer\n",
    "from nltk.corpus import stopwords as nltk_stop\n",
    "warnings.filterwarnings('ignore')"
   ]
  },
  {
   "cell_type": "code",
   "execution_count": 2,
   "id": "66987d8c",
   "metadata": {},
   "outputs": [
    {
     "data": {
      "application/vnd.microsoft.datawrangler.viewer.v0+json": {
       "columns": [
        {
         "name": "index",
         "rawType": "int64",
         "type": "integer"
        },
        {
         "name": "id",
         "rawType": "int64",
         "type": "integer"
        },
        {
         "name": "keyword",
         "rawType": "object",
         "type": "unknown"
        },
        {
         "name": "location",
         "rawType": "object",
         "type": "unknown"
        },
        {
         "name": "text",
         "rawType": "object",
         "type": "string"
        },
        {
         "name": "target",
         "rawType": "int64",
         "type": "integer"
        }
       ],
       "ref": "31adbc6e-7f51-4b9c-943d-f45a29f11932",
       "rows": [
        [
         "0",
         "1",
         null,
         null,
         "Our Deeds are the Reason of this #earthquake May ALLAH Forgive us all",
         "1"
        ],
        [
         "1",
         "4",
         null,
         null,
         "Forest fire near La Ronge Sask. Canada",
         "1"
        ],
        [
         "2",
         "5",
         null,
         null,
         "All residents asked to 'shelter in place' are being notified by officers. No other evacuation or shelter in place orders are expected",
         "1"
        ],
        [
         "3",
         "6",
         null,
         null,
         "13,000 people receive #wildfires evacuation orders in California ",
         "1"
        ],
        [
         "4",
         "7",
         null,
         null,
         "Just got sent this photo from Ruby #Alaska as smoke from #wildfires pours into a school ",
         "1"
        ]
       ],
       "shape": {
        "columns": 5,
        "rows": 5
       }
      },
      "text/html": [
       "<div>\n",
       "<style scoped>\n",
       "    .dataframe tbody tr th:only-of-type {\n",
       "        vertical-align: middle;\n",
       "    }\n",
       "\n",
       "    .dataframe tbody tr th {\n",
       "        vertical-align: top;\n",
       "    }\n",
       "\n",
       "    .dataframe thead th {\n",
       "        text-align: right;\n",
       "    }\n",
       "</style>\n",
       "<table border=\"1\" class=\"dataframe\">\n",
       "  <thead>\n",
       "    <tr style=\"text-align: right;\">\n",
       "      <th></th>\n",
       "      <th>id</th>\n",
       "      <th>keyword</th>\n",
       "      <th>location</th>\n",
       "      <th>text</th>\n",
       "      <th>target</th>\n",
       "    </tr>\n",
       "  </thead>\n",
       "  <tbody>\n",
       "    <tr>\n",
       "      <th>0</th>\n",
       "      <td>1</td>\n",
       "      <td>NaN</td>\n",
       "      <td>NaN</td>\n",
       "      <td>Our Deeds are the Reason of this #earthquake M...</td>\n",
       "      <td>1</td>\n",
       "    </tr>\n",
       "    <tr>\n",
       "      <th>1</th>\n",
       "      <td>4</td>\n",
       "      <td>NaN</td>\n",
       "      <td>NaN</td>\n",
       "      <td>Forest fire near La Ronge Sask. Canada</td>\n",
       "      <td>1</td>\n",
       "    </tr>\n",
       "    <tr>\n",
       "      <th>2</th>\n",
       "      <td>5</td>\n",
       "      <td>NaN</td>\n",
       "      <td>NaN</td>\n",
       "      <td>All residents asked to 'shelter in place' are ...</td>\n",
       "      <td>1</td>\n",
       "    </tr>\n",
       "    <tr>\n",
       "      <th>3</th>\n",
       "      <td>6</td>\n",
       "      <td>NaN</td>\n",
       "      <td>NaN</td>\n",
       "      <td>13,000 people receive #wildfires evacuation or...</td>\n",
       "      <td>1</td>\n",
       "    </tr>\n",
       "    <tr>\n",
       "      <th>4</th>\n",
       "      <td>7</td>\n",
       "      <td>NaN</td>\n",
       "      <td>NaN</td>\n",
       "      <td>Just got sent this photo from Ruby #Alaska as ...</td>\n",
       "      <td>1</td>\n",
       "    </tr>\n",
       "  </tbody>\n",
       "</table>\n",
       "</div>"
      ],
      "text/plain": [
       "   id keyword location                                               text  \\\n",
       "0   1     NaN      NaN  Our Deeds are the Reason of this #earthquake M...   \n",
       "1   4     NaN      NaN             Forest fire near La Ronge Sask. Canada   \n",
       "2   5     NaN      NaN  All residents asked to 'shelter in place' are ...   \n",
       "3   6     NaN      NaN  13,000 people receive #wildfires evacuation or...   \n",
       "4   7     NaN      NaN  Just got sent this photo from Ruby #Alaska as ...   \n",
       "\n",
       "   target  \n",
       "0       1  \n",
       "1       1  \n",
       "2       1  \n",
       "3       1  \n",
       "4       1  "
      ]
     },
     "execution_count": 2,
     "metadata": {},
     "output_type": "execute_result"
    }
   ],
   "source": [
    "df_train = pd.read_csv(\"./data/train.csv\")\n",
    "\n",
    "df_train.head()"
   ]
  },
  {
   "cell_type": "code",
   "execution_count": 3,
   "id": "e0c6418e",
   "metadata": {},
   "outputs": [
    {
     "name": "stdout",
     "output_type": "stream",
     "text": [
      "=== INFORMACIÓN BÁSICA DEL DATASET ===\n",
      "Número de filas: 7613\n",
      "Número de columnas: 5\n",
      "\n",
      "Columnas: ['id', 'keyword', 'location', 'text', 'target']\n",
      "\n",
      "Tipos de datos:\n"
     ]
    },
    {
     "data": {
      "application/vnd.microsoft.datawrangler.viewer.v0+json": {
       "columns": [
        {
         "name": "index",
         "rawType": "object",
         "type": "string"
        },
        {
         "name": "0",
         "rawType": "object",
         "type": "unknown"
        }
       ],
       "ref": "1d16ceef-19ed-4e8f-9367-60da0018d085",
       "rows": [
        [
         "id",
         "int64"
        ],
        [
         "keyword",
         "object"
        ],
        [
         "location",
         "object"
        ],
        [
         "text",
         "object"
        ],
        [
         "target",
         "int64"
        ]
       ],
       "shape": {
        "columns": 1,
        "rows": 5
       }
      },
      "text/plain": [
       "id           int64\n",
       "keyword     object\n",
       "location    object\n",
       "text        object\n",
       "target       int64\n",
       "dtype: object"
      ]
     },
     "execution_count": 3,
     "metadata": {},
     "output_type": "execute_result"
    }
   ],
   "source": [
    "print(\"=== INFORMACIÓN BÁSICA DEL DATASET ===\")\n",
    "print(f\"Número de filas: {df_train.shape[0]}\")\n",
    "print(f\"Número de columnas: {df_train.shape[1]}\")\n",
    "print(f\"\\nColumnas: {list(df_train.columns)}\")\n",
    "print(f\"\\nTipos de datos:\")\n",
    "df_train.dtypes"
   ]
  },
  {
   "cell_type": "markdown",
   "id": "281c55e5",
   "metadata": {},
   "source": [
    "## Análisis Exploratorio"
   ]
  },
  {
   "cell_type": "markdown",
   "id": "1ed9f69e",
   "metadata": {},
   "source": [
    "### Valores faltantes"
   ]
  },
  {
   "cell_type": "code",
   "execution_count": 4,
   "id": "b85d6d35",
   "metadata": {},
   "outputs": [
    {
     "data": {
      "application/vnd.microsoft.datawrangler.viewer.v0+json": {
       "columns": [
        {
         "name": "index",
         "rawType": "int64",
         "type": "integer"
        },
        {
         "name": "Columna",
         "rawType": "object",
         "type": "string"
        },
        {
         "name": "Valores Faltantes",
         "rawType": "int64",
         "type": "integer"
        },
        {
         "name": "Porcentaje",
         "rawType": "float64",
         "type": "float"
        }
       ],
       "ref": "9923bcef-ba46-4ae6-9200-a8d205d60143",
       "rows": [
        [
         "0",
         "id",
         "0",
         "0.0"
        ],
        [
         "1",
         "keyword",
         "61",
         "0.8012610009194797"
        ],
        [
         "2",
         "location",
         "2533",
         "33.27203467752528"
        ],
        [
         "3",
         "text",
         "0",
         "0.0"
        ],
        [
         "4",
         "target",
         "0",
         "0.0"
        ]
       ],
       "shape": {
        "columns": 3,
        "rows": 5
       }
      },
      "text/html": [
       "<div>\n",
       "<style scoped>\n",
       "    .dataframe tbody tr th:only-of-type {\n",
       "        vertical-align: middle;\n",
       "    }\n",
       "\n",
       "    .dataframe tbody tr th {\n",
       "        vertical-align: top;\n",
       "    }\n",
       "\n",
       "    .dataframe thead th {\n",
       "        text-align: right;\n",
       "    }\n",
       "</style>\n",
       "<table border=\"1\" class=\"dataframe\">\n",
       "  <thead>\n",
       "    <tr style=\"text-align: right;\">\n",
       "      <th></th>\n",
       "      <th>Columna</th>\n",
       "      <th>Valores Faltantes</th>\n",
       "      <th>Porcentaje</th>\n",
       "    </tr>\n",
       "  </thead>\n",
       "  <tbody>\n",
       "    <tr>\n",
       "      <th>0</th>\n",
       "      <td>id</td>\n",
       "      <td>0</td>\n",
       "      <td>0.000000</td>\n",
       "    </tr>\n",
       "    <tr>\n",
       "      <th>1</th>\n",
       "      <td>keyword</td>\n",
       "      <td>61</td>\n",
       "      <td>0.801261</td>\n",
       "    </tr>\n",
       "    <tr>\n",
       "      <th>2</th>\n",
       "      <td>location</td>\n",
       "      <td>2533</td>\n",
       "      <td>33.272035</td>\n",
       "    </tr>\n",
       "    <tr>\n",
       "      <th>3</th>\n",
       "      <td>text</td>\n",
       "      <td>0</td>\n",
       "      <td>0.000000</td>\n",
       "    </tr>\n",
       "    <tr>\n",
       "      <th>4</th>\n",
       "      <td>target</td>\n",
       "      <td>0</td>\n",
       "      <td>0.000000</td>\n",
       "    </tr>\n",
       "  </tbody>\n",
       "</table>\n",
       "</div>"
      ],
      "text/plain": [
       "    Columna  Valores Faltantes  Porcentaje\n",
       "0        id                  0    0.000000\n",
       "1   keyword                 61    0.801261\n",
       "2  location               2533   33.272035\n",
       "3      text                  0    0.000000\n",
       "4    target                  0    0.000000"
      ]
     },
     "execution_count": 4,
     "metadata": {},
     "output_type": "execute_result"
    }
   ],
   "source": [
    "missing_values = df_train.isnull().sum()\n",
    "missing_percent = (missing_values / len(df_train)) * 100\n",
    "\n",
    "missing_df = pd.DataFrame({\n",
    "    'Columna': missing_values.index,\n",
    "    'Valores Faltantes': missing_values.values,\n",
    "    'Porcentaje': missing_percent.values\n",
    "})\n",
    "missing_df"
   ]
  },
  {
   "cell_type": "markdown",
   "id": "98c18794",
   "metadata": {},
   "source": [
    "### Distribución de variable objetivo"
   ]
  },
  {
   "cell_type": "code",
   "execution_count": 5,
   "id": "217b3bf5",
   "metadata": {},
   "outputs": [
    {
     "name": "stdout",
     "output_type": "stream",
     "text": [
      "\n",
      "=== DISTRIBUCIÓN DE LA VARIABLE OBJETIVO ===\n",
      "Tweets NO desastre (0): 4342 (57.0%)\n",
      "Tweets de desastre (1): 3271 (43.0%)\n"
     ]
    },
    {
     "data": {
      "image/png": "[encoded data removed]",
      "text/plain": [
       "<Figure size 1200x500 with 1 Axes>"
      ]
     },
     "metadata": {},
     "output_type": "display_data"
    }
   ],
   "source": [
    "# Distribución de la variable objetivo\n",
    "print(\"\\n=== DISTRIBUCIÓN DE LA VARIABLE OBJETIVO ===\")\n",
    "target_counts = df_train['target'].value_counts()\n",
    "print(f\"Tweets NO desastre (0): {target_counts[0]} ({target_counts[0]/len(df_train)*100:.1f}%)\")\n",
    "print(f\"Tweets de desastre (1): {target_counts[1]} ({target_counts[1]/len(df_train)*100:.1f}%)\")\n",
    "\n",
    "# Visualización de la distribución\n",
    "fig, (ax1) = plt.subplots(1, 1, figsize=(12, 5))\n",
    "\n",
    "# Gráfico de barras\n",
    "target_counts.plot(kind='bar', ax=ax1, color=['skyblue', 'salmon'])\n",
    "ax1.set_title('Distribución de Tweets por Categoría')\n",
    "ax1.set_xlabel('Categoría (0: No Desastre, 1: Desastre)')\n",
    "ax1.set_ylabel('Número de Tweets')\n",
    "ax1.tick_params(axis='x', rotation=0)\n",
    "\n",
    "plt.tight_layout()\n",
    "plt.show()"
   ]
  },
  {
   "cell_type": "code",
   "execution_count": 6,
   "id": "9c662c63",
   "metadata": {},
   "outputs": [
    {
     "name": "stdout",
     "output_type": "stream",
     "text": [
      "\n",
      "=== EJEMPLOS DE TWEETS ===\n",
      "Tweets de DESASTRE:\n",
      "1. Our Deeds are the Reason of this #earthquake May ALLAH Forgive us all\n",
      "2. Forest fire near La Ronge Sask. Canada\n",
      "3. All residents asked to 'shelter in place' are being notified by officers. No other evacuation or shelter in place orders are expected\n",
      "\n",
      "Tweets NO de desastre:\n",
      "1. What's up man?\n",
      "2. I love fruits\n",
      "3. Summer is lovely\n"
     ]
    }
   ],
   "source": [
    "# Ejemplos de tweets por categoría\n",
    "print(\"\\n=== EJEMPLOS DE TWEETS ===\")\n",
    "print(\"Tweets de DESASTRE:\")\n",
    "for i, tweet in enumerate(df_train[df_train['target']==1]['text'].head(3)):\n",
    "    print(f\"{i+1}. {tweet}\")\n",
    "\n",
    "print(\"\\nTweets NO de desastre:\")\n",
    "for i, tweet in enumerate(df_train[df_train['target']==0]['text'].head(3)):\n",
    "    print(f\"{i+1}. {tweet}\")"
   ]
  },
  {
   "cell_type": "code",
   "execution_count": 7,
   "id": "a4026a02",
   "metadata": {},
   "outputs": [
    {
     "data": {
      "application/vnd.microsoft.datawrangler.viewer.v0+json": {
       "columns": [
        {
         "name": "index",
         "rawType": "int64",
         "type": "integer"
        },
        {
         "name": "text",
         "rawType": "object",
         "type": "string"
        }
       ],
       "ref": "e6624779-b23c-43f9-8807-24b0e1aba4d5",
       "rows": [
        [
         "0",
         "Our Deeds are the Reason of this #earthquake May ALLAH Forgive us all"
        ],
        [
         "1",
         "Forest fire near La Ronge Sask. Canada"
        ],
        [
         "2",
         "All residents asked to 'shelter in place' are being notified by officers. No other evacuation or shelter in place orders are expected"
        ],
        [
         "3",
         "13,000 people receive #wildfires evacuation orders in California "
        ],
        [
         "4",
         "Just got sent this photo from Ruby #Alaska as smoke from #wildfires pours into a school "
        ],
        [
         "5",
         "#RockyFire Update => California Hwy. 20 closed in both directions due to Lake County fire - #CAfire #wildfires"
        ],
        [
         "6",
         "#flood #disaster Heavy rain causes flash flooding of streets in Manitou, Colorado Springs areas"
        ],
        [
         "7",
         "I'm on top of the hill and I can see a fire in the woods..."
        ],
        [
         "8",
         "There's an emergency evacuation happening now in the building across the street"
        ],
        [
         "9",
         "I'm afraid that the tornado is coming to our area..."
        ],
        [
         "10",
         "Three people died from the heat wave so far"
        ],
        [
         "11",
         "Haha South Tampa is getting flooded hah- WAIT A SECOND I LIVE IN SOUTH TAMPA WHAT AM I GONNA DO WHAT AM I GONNA DO FVCK #flooding"
        ],
        [
         "12",
         "#raining #flooding #Florida #TampaBay #Tampa 18 or 19 days. I've lost count "
        ],
        [
         "13",
         "#Flood in Bago Myanmar #We arrived Bago"
        ],
        [
         "14",
         "Damage to school bus on 80 in multi car crash #BREAKING "
        ],
        [
         "15",
         "What's up man?"
        ],
        [
         "16",
         "I love fruits"
        ],
        [
         "17",
         "Summer is lovely"
        ],
        [
         "18",
         "My car is so fast"
        ],
        [
         "19",
         "What a goooooooaaaaaal!!!!!!"
        ],
        [
         "20",
         "this is ridiculous...."
        ],
        [
         "21",
         "London is cool ;)"
        ],
        [
         "22",
         "Love skiing"
        ],
        [
         "23",
         "What a wonderful day!"
        ],
        [
         "24",
         "LOOOOOOL"
        ],
        [
         "25",
         "No way...I can't eat that shit"
        ],
        [
         "26",
         "Was in NYC last week!"
        ],
        [
         "27",
         "Love my girlfriend"
        ],
        [
         "28",
         "Cooool :)"
        ],
        [
         "29",
         "Do you like pasta?"
        ],
        [
         "30",
         "The end!"
        ],
        [
         "31",
         "@bbcmtd Wholesale Markets ablaze http://t.co/lHYXEOHY6C"
        ],
        [
         "32",
         "We always try to bring the heavy. #metal #RT http://t.co/YAo1e0xngw"
        ],
        [
         "33",
         "#AFRICANBAZE: Breaking news:Nigeria flag set ablaze in Aba. http://t.co/2nndBGwyEi"
        ],
        [
         "34",
         "Crying out for more! Set me ablaze"
        ],
        [
         "35",
         "On plus side LOOK AT THE SKY LAST NIGHT IT WAS ABLAZE http://t.co/qqsmshaJ3N"
        ],
        [
         "36",
         "@PhDSquares #mufc they've built so much hype around new acquisitions but I doubt they will set the EPL ablaze this season."
        ],
        [
         "37",
         "INEC Office in Abia Set Ablaze - http://t.co/3ImaomknnA"
        ],
        [
         "38",
         "Barbados #Bridgetown JAMAICA ÛÒ Two cars set ablaze: SANTA CRUZ ÛÓ Head of the St Elizabeth Police Superintende...  http://t.co/wDUEaj8Q4J"
        ],
        [
         "39",
         "Ablaze for you Lord :D"
        ],
        [
         "40",
         "Check these out: http://t.co/rOI2NSmEJJ http://t.co/3Tj8ZjiN21 http://t.co/YDUiXEfIpE http://t.co/LxTjc87KLS #nsfw"
        ],
        [
         "41",
         "on the outside you're ablaze and alive\r\nbut you're dead inside"
        ],
        [
         "42",
         "Had an awesome time visiting the CFC head office the ancop site and ablaze. Thanks to Tita Vida for taking care of us ??"
        ],
        [
         "43",
         "SOOOO PUMPED FOR ABLAZE ???? @southridgelife"
        ],
        [
         "44",
         "I wanted to set Chicago ablaze with my preaching... But not my hotel! http://t.co/o9qknbfOFX"
        ],
        [
         "45",
         "I gained 3 followers in the last week. You? Know your stats and grow with http://t.co/TIyUliF5c6"
        ],
        [
         "46",
         "How the West was burned: Thousands of wildfires ablaze in California alone http://t.co/vl5TBR3wbr"
        ],
        [
         "47",
         "Building the perfect tracklist to life leave the streets ablaze"
        ],
        [
         "48",
         "Check these out: http://t.co/rOI2NSmEJJ http://t.co/3Tj8ZjiN21 http://t.co/YDUiXEfIpE http://t.co/LxTjc87KLS #nsfw"
        ],
        [
         "49",
         "First night with retainers in. It's quite weird. Better get used to it; I have to wear them every single night for the next year at least."
        ]
       ],
       "shape": {
        "columns": 1,
        "rows": 7613
       }
      },
      "text/plain": [
       "0       Our Deeds are the Reason of this #earthquake M...\n",
       "1                  Forest fire near La Ronge Sask. Canada\n",
       "2       All residents asked to 'shelter in place' are ...\n",
       "3       13,000 people receive #wildfires evacuation or...\n",
       "4       Just got sent this photo from Ruby #Alaska as ...\n",
       "                              ...                        \n",
       "7608    Two giant cranes holding a bridge collapse int...\n",
       "7609    @aria_ahrary @TheTawniest The out of control w...\n",
       "7610    M1.94 [01:04 UTC]?5km S of Volcano Hawaii. htt...\n",
       "7611    Police investigating after an e-bike collided ...\n",
       "7612    The Latest: More Homes Razed by Northern Calif...\n",
       "Name: text, Length: 7613, dtype: object"
      ]
     },
     "execution_count": 7,
     "metadata": {},
     "output_type": "execute_result"
    }
   ],
   "source": [
    "df_train[\"text\"]"
   ]
  },
  {
   "cell_type": "markdown",
   "id": "627301d7",
   "metadata": {},
   "source": [
    "### Cleaning\n",
    "Se descargan las stopword del paquete de nltk y se crea el tokenizador de tweets de la libreria nltk."
   ]
  },
  {
   "cell_type": "code",
   "execution_count": 8,
   "id": "9b8971e2",
   "metadata": {},
   "outputs": [
    {
     "name": "stderr",
     "output_type": "stream",
     "text": [
      "[nltk_data] Downloading package stopwords to\n",
      "[nltk_data]     C:\\Users\\Gerax\\AppData\\Roaming\\nltk_data...\n",
      "[nltk_data]   Package stopwords is already up-to-date!\n",
      "[nltk_data] Downloading package wordnet to\n",
      "[nltk_data]     C:\\Users\\Gerax\\AppData\\Roaming\\nltk_data...\n",
      "[nltk_data]   Package wordnet is already up-to-date!\n",
      "[nltk_data] Downloading package omw-1.4 to\n",
      "[nltk_data]     C:\\Users\\Gerax\\AppData\\Roaming\\nltk_data...\n",
      "[nltk_data]   Package omw-1.4 is already up-to-date!\n"
     ]
    }
   ],
   "source": [
    "nltk.download(\"stopwords\"); nltk.download(\"wordnet\"); nltk.download(\"omw-1.4\")\n",
    "tt = TweetTokenizer(preserve_case=not True, reduce_len=True, strip_handles=False)\n",
    "wnl = WordNetLemmatizer()"
   ]
  },
  {
   "cell_type": "markdown",
   "id": "9e82aa77",
   "metadata": {},
   "source": [
    "Como el idioma del set es ingles se obtienen los stopwords en este idio y nos aseguramos que las palabras negativas que se queden porque estas son valiosas para el analiss"
   ]
  },
  {
   "cell_type": "code",
   "execution_count": 9,
   "id": "614ce44f",
   "metadata": {},
   "outputs": [],
   "source": [
    "stopwords = set(nltk_stop.words(\"english\"))\n",
    "negs = {\"no\",\"not\",\"n't\"}\n",
    "stopwords = {w for w in stopwords if w.lower() not in negs}"
   ]
  },
  {
   "cell_type": "markdown",
   "id": "ff1224b9",
   "metadata": {},
   "source": [
    "Se crean expresiones regualres especificas para cada parte de la limpieza que se quiere quitar."
   ]
  },
  {
   "cell_type": "code",
   "execution_count": 10,
   "id": "674b3341",
   "metadata": {},
   "outputs": [],
   "source": [
    "URL_RE = re.compile(r\"(https?://\\S+|www\\.\\S+)\")\n",
    "MENTION_RE = re.compile(r\"@\\w+\")\n",
    "HASHTAG_RE = re.compile(r\"#(\\w+)\")\n",
    "APOSTROPHES_RE = re.compile(r\"[’`´]\")\n",
    "EMOJI_RE = re.compile(\n",
    "    \"[\"\n",
    "    \"\\U0001F600-\\U0001F64F\"  # emoticons\n",
    "    \"\\U0001F300-\\U0001F5FF\"  # symbols & pictographs\n",
    "    \"\\U0001F680-\\U0001F6FF\"  # transport & map\n",
    "    \"\\U0001F1E0-\\U0001F1FF\"  # flags\n",
    "    \"\\U00002702-\\U000027B0\"\n",
    "    \"\\U000024C2-\\U0001F251\"\n",
    "    \"]+\", flags=re.UNICODE\n",
    ")\n",
    "NUMBER_RE = re.compile(r\"\\b\\d+(?:[.,]\\d+)*\\b\")\n",
    "\n",
    "PUNCT_TABLE = str.maketrans(\"\", \"\", string.punctuation)"
   ]
  },
  {
   "cell_type": "code",
   "execution_count": 11,
   "id": "9f349216",
   "metadata": {},
   "outputs": [],
   "source": [
    "def count_pattern(pat, text):\n",
    "    return len(pat.findall(text))"
   ]
  },
  {
   "cell_type": "markdown",
   "id": "01467e98",
   "metadata": {},
   "source": [
    "Se crea una funcion donde se mapean todas las palabras y se quita lo siguiente:\n",
    "- Se convirtio todo a minusculas.\n",
    "- Se quitar los caracteres especiales que aparecen como *#*, *@* o los *apostrofes*\n",
    "- Se quitar las url\n",
    "- Se decidio quitar los emojis pero se quedo con una flag por si se quieren dejar.\n",
    "- Se quitaron los signos de puntuación.\n",
    "- Se quitaron las stopwords\n",
    "- Se quitaron los numeros menos el 911"
   ]
  },
  {
   "cell_type": "code",
   "execution_count": null,
   "id": "23d9b21d",
   "metadata": {},
   "outputs": [],
   "source": [
    "def clean_raw(text: str) -> dict:\n",
    "    original = text\n",
    "\n",
    "    # Texto a minusculas\n",
    "    text = text.lower()\n",
    "\n",
    "    urls = mentions = emojis = hashtags = numbers = 0\n",
    "\n",
    "    urls = count_pattern(URL_RE, text)\n",
    "    text = URL_RE.sub(\" \", text)\n",
    "\n",
    "    mentions = count_pattern(MENTION_RE, text)\n",
    "    text = MENTION_RE.sub(\" \", text)\n",
    "\n",
    "    hashtags = count_pattern(HASHTAG_RE, text)\n",
    "    text = HASHTAG_RE.sub(lambda m: m.group(1), text)\n",
    "\n",
    "    text = APOSTROPHES_RE.sub(\"'\", text)\n",
    "\n",
    "    if True: # Cambiar esto para cambiarlos emojis (si queres rayo)\n",
    "        emojis = len(EMOJI_RE.findall(text))\n",
    "        text = EMOJI_RE.sub(\" \", text)\n",
    "\n",
    "    # Aqui estan los numeros solo vamos a dejar el 911\n",
    "    def num_filter(m):\n",
    "        tok = m.group(0)\n",
    "        return tok if tok in {\"911\"} else \" \"\n",
    "    numbers = len(NUMBER_RE.findall(text))\n",
    "    text = NUMBER_RE.sub(num_filter, text)\n",
    "\n",
    "    text = text.translate(PUNCT_TABLE)\n",
    "\n",
    "    text = re.sub(r\"\\s+\", \" \", text).strip()\n",
    "\n",
    "    text = re.sub(r\"[\\x00-\\x1f\\x7f-\\x9f\\xad\\x89]\", \" \", text) # AGREGA ESTO RAYO\n",
    "\n",
    "    return {\n",
    "        \"text_raw\": original,\n",
    "        \"text_clean_raw\": text,\n",
    "        \"urls_removed\": urls,\n",
    "        \"mentions_removed\": mentions,\n",
    "        \"emojis_removed\": emojis,\n",
    "        \"hashtags_unhashed\": hashtags,\n",
    "        \"numbers_affected\": numbers\n",
    "    }\n",
    "\n",
    "clean_rows = df_train[\"text\"].map(clean_raw)\n",
    "clean_df = pd.DataFrame(list(clean_rows))\n",
    "df_train = pd.concat([df_train, clean_df], axis=1)"
   ]
  },
  {
   "cell_type": "markdown",
   "id": "f2766c2e",
   "metadata": {},
   "source": [
    "Por ultimo una vez limpiado los tweets lo que se realizo fue la tokenizacion de palabras de cada frase"
   ]
  },
  {
   "cell_type": "code",
   "execution_count": null,
   "id": "1fdd31f7",
   "metadata": {},
   "outputs": [],
   "source": [
    "def tokenize_and_normalize(text: str):\n",
    "    tokens = []\n",
    "    toks = tt.tokenize(text)\n",
    "    toks = [t for t in toks if all(ch not in string.punctuation for ch in t)]\n",
    "    toks = [wnl.lemmatize(t) for t in toks]\n",
    "    # stopwords\n",
    "    toks = [t for t in toks if t.lower() not in stopwords]\n",
    "    tokens = toks\n",
    "\n",
    "    tokens = [t.strip() for t in tokens if t.strip() != \"\"]\n",
    "    return tokens\n",
    "\n",
    "df_train[\"tokens\"] = df_train[\"text_clean_raw\"].map(tokenize_and_normalize)\n",
    "df_train[\"text_clean\"] = df_train[\"tokens\"].map(lambda ts: \" \".join(ts))"
   ]
  },
  {
   "cell_type": "code",
   "execution_count": null,
   "id": "0a72372e",
   "metadata": {},
   "outputs": [],
   "source": [
    "df_train[\"len_raw\"] = df_train[\"text\"].str.split().map(len)\n",
    "df_train[\"len_clean\"] = df_train[\"tokens\"].map(len)"
   ]
  },
  {
   "cell_type": "code",
   "execution_count": null,
   "id": "b1ed4f06",
   "metadata": {},
   "outputs": [
    {
     "name": "stdout",
     "output_type": "stream",
     "text": [
      "                                      text_clean_raw  \\\n",
      "0  our deeds are the reason of this earthquake ma...   \n",
      "\n",
      "                                              tokens  \\\n",
      "0  [deed, reason, earthquake, may, allah, forgive...   \n",
      "\n",
      "                                   text_clean  \n",
      "0  deed reason earthquake may allah forgive u  \n"
     ]
    }
   ],
   "source": [
    "# print(df[[\"id\",\"target\",\"text\"]].head(3))\n",
    "print(df_train[[\"text_clean_raw\",\"tokens\",\"text_clean\"]].head(1))\n",
    "# print(df[[\"urls_removed\",\"mentions_removed\",\"emojis_removed\",\"hashtags_unhashed\",\"numbers_affected\"]].describe())\n",
    "# print(df[[\"len_raw\",\"len_clean\"]].describe())"
   ]
  }
 ],
 "metadata": {
  "kernelspec": {
   "display_name": "deep",
   "language": "python",
   "name": "python3"
  },
  "language_info": {
   "codemirror_mode": {
    "name": "ipython",
    "version": 3
   },
   "file_extension": ".py",
   "mimetype": "text/x-python",
   "name": "python",
   "nbconvert_exporter": "python",
   "pygments_lexer": "ipython3",
   "version": "3.11.9"
  }
 },
 "nbformat": 4,
 "nbformat_minor": 5
}
